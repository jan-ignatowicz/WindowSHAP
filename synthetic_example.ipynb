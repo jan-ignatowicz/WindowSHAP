{
 "cells": [
  {
   "cell_type": "markdown",
   "metadata": {},
   "source": [
    "# Synthetic data"
   ]
  },
  {
   "cell_type": "code",
   "execution_count": 4,
   "metadata": {
    "ExecuteTime": {
     "end_time": "2023-12-11T08:55:43.679722Z",
     "start_time": "2023-12-11T08:54:54.243721Z"
    },
    "collapsed": false
   },
   "outputs": [
    {
     "name": "stderr",
     "output_type": "stream",
     "text": [
      "IProgress not found. Please update jupyter and ipywidgets. See https://ipywidgets.readthedocs.io/en/stable/user_install.html\n"
     ]
    },
    {
     "ename": "ModuleNotFoundError",
     "evalue": "No module named 'tensorflow'",
     "output_type": "error",
     "traceback": [
      "\u001b[0;31m---------------------------------------------------------------------------\u001b[0m",
      "\u001b[0;31mModuleNotFoundError\u001b[0m                       Traceback (most recent call last)",
      "\u001b[1;32m/Users/jakub/Projects/XAI/WindowSHAP/synthetic_example.ipynb Cell 2\u001b[0m line \u001b[0;36m7\n\u001b[1;32m      <a href='vscode-notebook-cell:/Users/jakub/Projects/XAI/WindowSHAP/synthetic_example.ipynb#W1sZmlsZQ%3D%3D?line=4'>5</a>\u001b[0m \u001b[39mimport\u001b[39;00m \u001b[39mshap\u001b[39;00m\n\u001b[1;32m      <a href='vscode-notebook-cell:/Users/jakub/Projects/XAI/WindowSHAP/synthetic_example.ipynb#W1sZmlsZQ%3D%3D?line=5'>6</a>\u001b[0m \u001b[39mfrom\u001b[39;00m \u001b[39msklearn\u001b[39;00m\u001b[39m.\u001b[39;00m\u001b[39mmodel_selection\u001b[39;00m \u001b[39mimport\u001b[39;00m train_test_split\n\u001b[0;32m----> <a href='vscode-notebook-cell:/Users/jakub/Projects/XAI/WindowSHAP/synthetic_example.ipynb#W1sZmlsZQ%3D%3D?line=6'>7</a>\u001b[0m \u001b[39mfrom\u001b[39;00m \u001b[39mtensorflow\u001b[39;00m\u001b[39m.\u001b[39;00m\u001b[39mkeras\u001b[39;00m \u001b[39mimport\u001b[39;00m backend \u001b[39mas\u001b[39;00m K\n\u001b[1;32m      <a href='vscode-notebook-cell:/Users/jakub/Projects/XAI/WindowSHAP/synthetic_example.ipynb#W1sZmlsZQ%3D%3D?line=8'>9</a>\u001b[0m \u001b[39mfrom\u001b[39;00m \u001b[39mwindow_shap\u001b[39;00m \u001b[39mimport\u001b[39;00m SlidingWindowSHAP, StationaryWindowSHAP, DynamicWindowSHAP\n\u001b[1;32m     <a href='vscode-notebook-cell:/Users/jakub/Projects/XAI/WindowSHAP/synthetic_example.ipynb#W1sZmlsZQ%3D%3D?line=10'>11</a>\u001b[0m warnings\u001b[39m.\u001b[39mfilterwarnings(\u001b[39m'\u001b[39m\u001b[39mignore\u001b[39m\u001b[39m'\u001b[39m)\n",
      "\u001b[0;31mModuleNotFoundError\u001b[0m: No module named 'tensorflow'"
     ]
    }
   ],
   "source": [
    "import timeit\n",
    "import warnings\n",
    "\n",
    "import numpy as np\n",
    "import shap\n",
    "from sklearn.model_selection import train_test_split\n",
    "from tensorflow.keras import backend as K\n",
    "\n",
    "from window_shap import SlidingWindowSHAP, StationaryWindowSHAP, DynamicWindowSHAP\n",
    "\n",
    "warnings.filterwarnings('ignore')\n",
    "\n",
    "%matplotlib inline\n",
    "shap.initjs()"
   ]
  },
  {
   "cell_type": "markdown",
   "metadata": {},
   "source": [
    "This function generates a synthetic time series in which each feature sequence is generated using the sin() or cos() function. However, an anomaly interval is inserted at random into one of the feature sequences. If the feature with the anomaly is the first feature, the sample label is 1; otherwise, it is 0."
   ]
  },
  {
   "cell_type": "code",
   "execution_count": 2,
   "metadata": {
    "ExecuteTime": {
     "end_time": "2023-12-10T13:00:03.344489Z",
     "start_time": "2023-12-10T13:00:03.332072Z"
    }
   },
   "outputs": [],
   "source": [
    "def synthetic_data(n_samples=100, n_steps=10, n_features=4):\n",
    "    # Creating input data\n",
    "    lam = 0.2\n",
    "    anomaly_lam = 10\n",
    "    eps = np.random.normal\n",
    "    x = np.zeros((n_samples, n_steps, n_features))\n",
    "    labels = np.zeros(n_samples)\n",
    "    for i in range(n_samples):\n",
    "        t0 = np.random.randint(1, 5, size=n_features)\n",
    "        w = np.random.randint(1, 5, size=n_features)\n",
    "        t = np.arange(n_steps)\n",
    "        for j in range(n_features):\n",
    "            if j % 2 == 0:\n",
    "                x[i, :, j] = np.sin((t - t0[j]) / w[j])\n",
    "            else:\n",
    "                x[i, :, j] = np.cos((t - t0[j]) / w[j])\n",
    "            x[i, :, j] = x[i, :, j] + lam * eps(size=n_steps)\n",
    "\n",
    "        # adding anomaly\n",
    "        #         anom_dur = np.random.randint(n_steps/10, n_steps/2)\n",
    "        anom_dur = 20\n",
    "        anom_start = np.random.randint(0, n_steps - anom_dur)\n",
    "        anom_end = anom_start + anom_dur\n",
    "\n",
    "        anom_j = np.random.randint(0, n_features)\n",
    "        x[i, anom_start:anom_end, anom_j] += anomaly_lam * eps(size=anom_dur)\n",
    "\n",
    "        # Creating the label\n",
    "        labels[i] = 1 if anom_j == 0 else 0\n",
    "    return x, labels"
   ]
  },
  {
   "cell_type": "markdown",
   "metadata": {},
   "source": [
    "Data seperation to test and train"
   ]
  },
  {
   "cell_type": "code",
   "execution_count": 3,
   "metadata": {
    "ExecuteTime": {
     "end_time": "2023-12-10T13:00:04.308023Z",
     "start_time": "2023-12-10T13:00:03.339525Z"
    }
   },
   "outputs": [],
   "source": [
    "x, label = synthetic_data(n_samples=10000, n_steps=120, n_features=4)\n",
    "train_x, test_x, train_y, test_y = train_test_split(x, label, test_size=0.3, random_state=0,\n",
    "                                                    stratify=label)\n",
    "train_x, val_x, train_y, val_y = train_test_split(train_x, train_y, test_size=0.2, random_state=0,\n",
    "                                                  stratify=train_y)"
   ]
  },
  {
   "cell_type": "markdown",
   "metadata": {},
   "source": [
    "# Prediction Model"
   ]
  },
  {
   "cell_type": "code",
   "execution_count": 5,
   "metadata": {
    "ExecuteTime": {
     "end_time": "2023-12-10T13:05:54.828758Z",
     "start_time": "2023-12-10T13:00:34.568035Z"
    },
    "tags": []
   },
   "outputs": [
    {
     "name": "stdout",
     "output_type": "stream",
     "text": [
      "Model: \"sequential\"\n",
      "_________________________________________________________________\n",
      " Layer (type)                Output Shape              Param #   \n",
      "=================================================================\n",
      " gru (GRU)                   (None, 200)               123600    \n",
      "                                                                 \n",
      " dropout (Dropout)           (None, 200)               0         \n",
      "                                                                 \n",
      " dense (Dense)               (None, 70)                14070     \n",
      "                                                                 \n",
      " dropout_1 (Dropout)         (None, 70)                0         \n",
      "                                                                 \n",
      " dense_1 (Dense)             (None, 20)                1420      \n",
      "                                                                 \n",
      " dense_2 (Dense)             (None, 1)                 21        \n",
      "                                                                 \n",
      "=================================================================\n",
      "Total params: 139111 (543.40 KB)\n",
      "Trainable params: 139111 (543.40 KB)\n",
      "Non-trainable params: 0 (0.00 Byte)\n",
      "_________________________________________________________________\n",
      "Epoch 1/20\n",
      "175/175 - 18s - loss: 1.9209 - accuracy: 0.4700 - val_loss: 1.2181 - val_accuracy: 0.5129 - 18s/epoch - 101ms/step\n",
      "Epoch 2/20\n",
      "175/175 - 17s - loss: 1.9046 - accuracy: 0.5214 - val_loss: 1.2054 - val_accuracy: 0.4829 - 17s/epoch - 95ms/step\n",
      "Epoch 3/20\n",
      "175/175 - 17s - loss: 1.8872 - accuracy: 0.5113 - val_loss: 1.1859 - val_accuracy: 0.5564 - 17s/epoch - 98ms/step\n",
      "Epoch 4/20\n",
      "175/175 - 17s - loss: 1.8721 - accuracy: 0.5502 - val_loss: 1.1740 - val_accuracy: 0.5186 - 17s/epoch - 95ms/step\n",
      "Epoch 5/20\n",
      "175/175 - 16s - loss: 1.8577 - accuracy: 0.5095 - val_loss: 1.1552 - val_accuracy: 0.5757 - 16s/epoch - 94ms/step\n",
      "Epoch 6/20\n",
      "175/175 - 16s - loss: 1.8439 - accuracy: 0.5425 - val_loss: 1.1444 - val_accuracy: 0.5414 - 16s/epoch - 92ms/step\n",
      "Epoch 7/20\n",
      "175/175 - 16s - loss: 1.8300 - accuracy: 0.5389 - val_loss: 1.1300 - val_accuracy: 0.5664 - 16s/epoch - 91ms/step\n",
      "Epoch 8/20\n",
      "175/175 - 16s - loss: 1.8168 - accuracy: 0.5373 - val_loss: 1.1165 - val_accuracy: 0.5757 - 16s/epoch - 90ms/step\n",
      "Epoch 9/20\n",
      "175/175 - 16s - loss: 1.8044 - accuracy: 0.5521 - val_loss: 1.1117 - val_accuracy: 0.4964 - 16s/epoch - 91ms/step\n",
      "Epoch 10/20\n",
      "175/175 - 16s - loss: 1.7903 - accuracy: 0.5213 - val_loss: 1.0970 - val_accuracy: 0.5357 - 16s/epoch - 89ms/step\n",
      "Epoch 11/20\n",
      "175/175 - 16s - loss: 1.7733 - accuracy: 0.5516 - val_loss: 1.0821 - val_accuracy: 0.5579 - 16s/epoch - 89ms/step\n",
      "Epoch 12/20\n",
      "175/175 - 16s - loss: 1.7623 - accuracy: 0.5487 - val_loss: 1.0826 - val_accuracy: 0.4536 - 16s/epoch - 90ms/step\n",
      "Epoch 13/20\n",
      "175/175 - 16s - loss: 1.7466 - accuracy: 0.5362 - val_loss: 1.0614 - val_accuracy: 0.5286 - 16s/epoch - 91ms/step\n",
      "Epoch 14/20\n",
      "175/175 - 15s - loss: 1.7295 - accuracy: 0.5689 - val_loss: 1.0469 - val_accuracy: 0.5443 - 15s/epoch - 88ms/step\n",
      "Epoch 15/20\n",
      "175/175 - 16s - loss: 1.7095 - accuracy: 0.5852 - val_loss: 1.0397 - val_accuracy: 0.5000 - 16s/epoch - 89ms/step\n",
      "Epoch 16/20\n",
      "175/175 - 16s - loss: 1.2755 - accuracy: 0.7682 - val_loss: 0.5270 - val_accuracy: 1.0000 - 16s/epoch - 90ms/step\n",
      "Epoch 17/20\n",
      "175/175 - 16s - loss: 0.4710 - accuracy: 0.9991 - val_loss: 0.3775 - val_accuracy: 1.0000 - 16s/epoch - 89ms/step\n",
      "Epoch 18/20\n",
      "175/175 - 16s - loss: 0.3732 - accuracy: 1.0000 - val_loss: 0.3478 - val_accuracy: 1.0000 - 16s/epoch - 89ms/step\n",
      "Epoch 19/20\n",
      "175/175 - 16s - loss: 0.3504 - accuracy: 0.9995 - val_loss: 0.3346 - val_accuracy: 1.0000 - 16s/epoch - 89ms/step\n",
      "Epoch 20/20\n",
      "175/175 - 16s - loss: 0.3335 - accuracy: 1.0000 - val_loss: 0.3232 - val_accuracy: 1.0000 - 16s/epoch - 89ms/step\n"
     ]
    }
   ],
   "source": [
    "from tensorflow.keras.layers import Dense, Dropout, GRU\n",
    "from tensorflow.keras.callbacks import EarlyStopping\n",
    "from tensorflow.keras import Sequential\n",
    "from tensorflow.keras.optimizers import SGD\n",
    "from tensorflow.keras import regularizers\n",
    "\n",
    "num_hidden = [70, 20]\n",
    "num_neurons = 200\n",
    "es_patience = 20\n",
    "epochs = 20\n",
    "num_output = 1\n",
    "batch_size = 32\n",
    "drop_rate = 0.3\n",
    "reg_rate = 0.004\n",
    "\n",
    "K.clear_session()\n",
    "model = Sequential()\n",
    "input_shape = (x.shape[1], x.shape[2])\n",
    "model.add(GRU(units=num_neurons, activation='relu', input_shape=input_shape,\n",
    "              recurrent_dropout=0.1, dropout=0.1))\n",
    "for i in num_hidden:\n",
    "    model.add(Dropout(drop_rate))\n",
    "    model.add(Dense(units=i, activation='relu', kernel_regularizer=regularizers.l2(reg_rate)))\n",
    "model.add(Dense(units=num_output, activation='sigmoid'))\n",
    "\n",
    "# Creating and compiling model\n",
    "es = EarlyStopping(monitor='val_loss', mode='min', verbose=1, patience=es_patience)\n",
    "\n",
    "# Class weights\n",
    "class_weights = {0: len(train_y) / (train_y == 0).sum(),\n",
    "                 1: len(train_y) / (train_y == 1).sum()}\n",
    "\n",
    "model.compile(optimizer=SGD(learning_rate=0.01, clipvalue=0.5), loss='binary_crossentropy',\n",
    "              metrics=['accuracy'])\n",
    "# model.build(input_shape)\n",
    "model.summary()\n",
    "train_history = model.fit(train_x, train_y, batch_size=batch_size,\n",
    "                          epochs=epochs, verbose=2,\n",
    "                          validation_data=(val_x, val_y),\n",
    "                          class_weight=class_weights,\n",
    "                          callbacks=[es])"
   ]
  },
  {
   "cell_type": "code",
   "execution_count": 16,
   "metadata": {
    "ExecuteTime": {
     "end_time": "2023-12-10T14:02:18.810722Z",
     "start_time": "2023-12-10T14:02:14.156497Z"
    }
   },
   "outputs": [
    {
     "name": "stdout",
     "output_type": "stream",
     "text": [
      "94/94 [==============================] - 2s 23ms/step\n",
      "1.0\n",
      "94/94 [==============================] - 2s 23ms/step\n",
      "1.0\n"
     ]
    }
   ],
   "source": [
    "from sklearn.metrics import roc_auc_score, accuracy_score\n",
    "\n",
    "print(roc_auc_score(test_y, model.predict(test_x)))\n",
    "print(accuracy_score(test_y, np.round(model.predict(test_x))))"
   ]
  },
  {
   "cell_type": "code",
   "execution_count": 17,
   "metadata": {
    "ExecuteTime": {
     "end_time": "2023-12-10T14:02:18.812832Z",
     "start_time": "2023-12-10T14:02:18.806473Z"
    }
   },
   "outputs": [
    {
     "data": {
      "text/plain": [
       "array([0., 0., 1., 0., 0., 0., 1., 0., 1., 1.])"
      ]
     },
     "execution_count": 17,
     "metadata": {},
     "output_type": "execute_result"
    }
   ],
   "source": [
    "test_y[20:30]"
   ]
  },
  {
   "cell_type": "markdown",
   "metadata": {},
   "source": [
    "## SHAP interpretation"
   ]
  },
  {
   "cell_type": "code",
   "execution_count": 18,
   "metadata": {
    "ExecuteTime": {
     "end_time": "2023-12-10T14:02:18.827342Z",
     "start_time": "2023-12-10T14:02:18.815833Z"
    }
   },
   "outputs": [],
   "source": [
    "num_background = 50\n",
    "num_test = 28\n",
    "background_data, test_data = train_x[:num_background], test_x[num_test:num_test + 2]"
   ]
  },
  {
   "cell_type": "markdown",
   "metadata": {},
   "source": [
    "## 1- Stationary WindowSHAP"
   ]
  },
  {
   "cell_type": "code",
   "execution_count": 19,
   "metadata": {
    "ExecuteTime": {
     "end_time": "2023-12-10T14:02:21.610266Z",
     "start_time": "2023-12-10T14:02:21.468490Z"
    },
    "tags": []
   },
   "outputs": [
    {
     "ename": "TypeError",
     "evalue": "'numpy.int64' object is not iterable",
     "output_type": "error",
     "traceback": [
      "\u001b[0;31m---------------------------------------------------------------------------\u001b[0m",
      "\u001b[0;31mTypeError\u001b[0m                                 Traceback (most recent call last)",
      "Cell \u001b[0;32mIn[19], line 5\u001b[0m\n\u001b[1;32m      3\u001b[0m \u001b[38;5;28;01mfor\u001b[39;00m i \u001b[38;5;129;01min\u001b[39;00m \u001b[38;5;28mrange\u001b[39m(\u001b[38;5;28mlen\u001b[39m(test_data)):\n\u001b[1;32m      4\u001b[0m     window_len \u001b[38;5;241m=\u001b[39m \u001b[38;5;241m20\u001b[39m\n\u001b[0;32m----> 5\u001b[0m     gtw \u001b[38;5;241m=\u001b[39m \u001b[43mStationaryWindowSHAP\u001b[49m\u001b[43m(\u001b[49m\u001b[43mmodel\u001b[49m\u001b[43m,\u001b[49m\u001b[43m \u001b[49m\u001b[43mwindow_len\u001b[49m\u001b[43m,\u001b[49m\u001b[43m \u001b[49m\u001b[43mB_ts\u001b[49m\u001b[38;5;241;43m=\u001b[39;49m\u001b[43mbackground_data\u001b[49m\u001b[43m,\u001b[49m\u001b[43m \u001b[49m\u001b[43mtest_ts\u001b[49m\u001b[38;5;241;43m=\u001b[39;49m\u001b[43mtest_data\u001b[49m\u001b[43m[\u001b[49m\u001b[43mi\u001b[49m\u001b[43m:\u001b[49m\u001b[43mi\u001b[49m\u001b[43m \u001b[49m\u001b[38;5;241;43m+\u001b[39;49m\u001b[43m \u001b[49m\u001b[38;5;241;43m1\u001b[39;49m\u001b[43m]\u001b[49m\u001b[43m,\u001b[49m\n\u001b[1;32m      6\u001b[0m \u001b[43m                               \u001b[49m\u001b[43mmodel_type\u001b[49m\u001b[38;5;241;43m=\u001b[39;49m\u001b[38;5;124;43m'\u001b[39;49m\u001b[38;5;124;43mlstm\u001b[39;49m\u001b[38;5;124;43m'\u001b[39;49m\u001b[43m)\u001b[49m\n\u001b[1;32m      7\u001b[0m     ts_phi_1[i, :, :] \u001b[38;5;241m=\u001b[39m gtw\u001b[38;5;241m.\u001b[39mshap_values()\n\u001b[1;32m      8\u001b[0m \u001b[38;5;28mprint\u001b[39m(\u001b[38;5;124m'\u001b[39m\u001b[38;5;124mTotal time: \u001b[39m\u001b[38;5;124m'\u001b[39m \u001b[38;5;241m+\u001b[39m \u001b[38;5;28mstr\u001b[39m(timeit\u001b[38;5;241m.\u001b[39mdefault_timer() \u001b[38;5;241m-\u001b[39m tic))\n",
      "File \u001b[0;32m~/Desktop/phd/xai/WindowSHAP/window_shap.py:122\u001b[0m, in \u001b[0;36mStationaryWindowSHAP.__init__\u001b[0;34m(self, model, window_len, B_ts, test_ts, B_mask, B_dem, test_mask, test_dem, model_type)\u001b[0m\n\u001b[1;32m    117\u001b[0m \u001b[38;5;28mself\u001b[39m\u001b[38;5;241m.\u001b[39mwindow_len \u001b[38;5;241m=\u001b[39m window_len\n\u001b[1;32m    119\u001b[0m \u001b[38;5;28msuper\u001b[39m()\u001b[38;5;241m.\u001b[39m\u001b[38;5;21m__init__\u001b[39m(model, B_ts, test_ts, num_window, B_mask,\n\u001b[1;32m    120\u001b[0m                  B_dem, test_mask, test_dem, model_type)\n\u001b[0;32m--> 122\u001b[0m \u001b[38;5;28;43mself\u001b[39;49m\u001b[38;5;241;43m.\u001b[39;49m\u001b[43mprepare_data\u001b[49m\u001b[43m(\u001b[49m\u001b[43mB_ts\u001b[49m\u001b[43m,\u001b[49m\u001b[43m \u001b[49m\u001b[43mtest_ts\u001b[49m\u001b[43m)\u001b[49m\n",
      "File \u001b[0;32m~/Desktop/phd/xai/WindowSHAP/window_shap.py:47\u001b[0m, in \u001b[0;36mSHAP.prepare_data\u001b[0;34m(self, B_ts, test_ts)\u001b[0m\n\u001b[1;32m     45\u001b[0m \u001b[38;5;28;01mdef\u001b[39;00m \u001b[38;5;21mprepare_data\u001b[39m(\u001b[38;5;28mself\u001b[39m, B_ts, test_ts):\n\u001b[1;32m     46\u001b[0m \u001b[38;5;250m    \u001b[39m\u001b[38;5;124;03m\"\"\"prepares SHAP data.\"\"\"\u001b[39;00m\n\u001b[0;32m---> 47\u001b[0m     \u001b[38;5;28mself\u001b[39m\u001b[38;5;241m.\u001b[39mbackground_data \u001b[38;5;241m=\u001b[39m \u001b[43mdata_prepare\u001b[49m\u001b[43m(\u001b[49m\u001b[43mB_ts\u001b[49m\u001b[43m,\u001b[49m\u001b[43m \u001b[49m\u001b[38;5;28;43mself\u001b[39;49m\u001b[38;5;241;43m.\u001b[39;49m\u001b[43mnum_dem_ftr\u001b[49m\u001b[43m,\u001b[49m\n\u001b[1;32m     48\u001b[0m \u001b[43m                                        \u001b[49m\u001b[38;5;28;43mself\u001b[39;49m\u001b[38;5;241;43m.\u001b[39;49m\u001b[43mnum_window\u001b[49m\u001b[43m,\u001b[49m\n\u001b[1;32m     49\u001b[0m \u001b[43m                                        \u001b[49m\u001b[43mstart_idx\u001b[49m\u001b[38;5;241;43m=\u001b[39;49m\u001b[38;5;241;43m0\u001b[39;49m\u001b[43m)\u001b[49m\n\u001b[1;32m     50\u001b[0m     \u001b[38;5;28mself\u001b[39m\u001b[38;5;241m.\u001b[39mtest_data \u001b[38;5;241m=\u001b[39m data_prepare(test_ts, \u001b[38;5;28mself\u001b[39m\u001b[38;5;241m.\u001b[39mnum_dem_ftr,\n\u001b[1;32m     51\u001b[0m                                   \u001b[38;5;28mself\u001b[39m\u001b[38;5;241m.\u001b[39mnum_window, start_idx\u001b[38;5;241m=\u001b[39m\u001b[38;5;28mlen\u001b[39m(B_ts))\n",
      "File \u001b[0;32m~/Desktop/phd/xai/WindowSHAP/window_shap.py:8\u001b[0m, in \u001b[0;36mdata_prepare\u001b[0;34m(ts_x, num_dem_ftr, num_window, num_ts_ftr, start_idx)\u001b[0m\n\u001b[1;32m      5\u001b[0m \u001b[38;5;28;01mdef\u001b[39;00m \u001b[38;5;21mdata_prepare\u001b[39m(ts_x, num_dem_ftr, num_window, num_ts_ftr\u001b[38;5;241m=\u001b[39m\u001b[38;5;28;01mNone\u001b[39;00m, start_idx\u001b[38;5;241m=\u001b[39m\u001b[38;5;241m0\u001b[39m):\n\u001b[1;32m      6\u001b[0m \u001b[38;5;250m    \u001b[39m\u001b[38;5;124;03m\"\"\"returns prepared data for SHAP\"\"\"\u001b[39;00m\n\u001b[1;32m      7\u001b[0m     total_num_features \u001b[38;5;241m=\u001b[39m num_dem_ftr \u001b[38;5;241m+\u001b[39m num_ts_ftr \u001b[38;5;241m*\u001b[39m num_window \u001b[38;5;28;01mif\u001b[39;00m num_ts_ftr \\\n\u001b[0;32m----> 8\u001b[0m         \u001b[38;5;28;01melse\u001b[39;00m num_dem_ftr \u001b[38;5;241m+\u001b[39m \u001b[38;5;28;43msum\u001b[39;49m\u001b[43m(\u001b[49m\u001b[43mnum_window\u001b[49m\u001b[43m)\u001b[49m\n\u001b[1;32m     10\u001b[0m     x_ \u001b[38;5;241m=\u001b[39m [[i] \u001b[38;5;241m*\u001b[39m total_num_features \u001b[38;5;28;01mfor\u001b[39;00m i \u001b[38;5;129;01min\u001b[39;00m \u001b[38;5;28mrange\u001b[39m(start_idx, start_idx \u001b[38;5;241m+\u001b[39m ts_x\u001b[38;5;241m.\u001b[39mshape[\u001b[38;5;241m0\u001b[39m])]\n\u001b[1;32m     12\u001b[0m     \u001b[38;5;28;01mreturn\u001b[39;00m np\u001b[38;5;241m.\u001b[39marray(x_)\n",
      "\u001b[0;31mTypeError\u001b[0m: 'numpy.int64' object is not iterable"
     ]
    }
   ],
   "source": [
    "tic = timeit.default_timer()\n",
    "ts_phi_1 = np.zeros((len(test_data), test_data.shape[1], test_data.shape[2]))\n",
    "for i in range(len(test_data)):\n",
    "    window_len = 20\n",
    "    gtw = StationaryWindowSHAP(model, window_len, B_ts=background_data, test_ts=test_data[i:i + 1], model_type='lstm')\n",
    "    ts_phi_1[i, :, :] = gtw.shap_values()\n",
    "print('Total time: ' + str(timeit.default_timer() - tic))"
   ]
  },
  {
   "cell_type": "markdown",
   "metadata": {},
   "source": [
    "## 2- Sliding WindowSHAP"
   ]
  },
  {
   "cell_type": "code",
   "execution_count": 10,
   "metadata": {
    "ExecuteTime": {
     "end_time": "2023-12-10T13:14:26.036435Z",
     "start_time": "2023-12-10T13:14:25.914305Z"
    },
    "tags": []
   },
   "outputs": [
    {
     "ename": "TypeError",
     "evalue": "'int' object is not iterable",
     "output_type": "error",
     "traceback": [
      "\u001b[0;31m---------------------------------------------------------------------------\u001b[0m",
      "\u001b[0;31mTypeError\u001b[0m                                 Traceback (most recent call last)",
      "Cell \u001b[0;32mIn[10], line 6\u001b[0m\n\u001b[1;32m      4\u001b[0m     window_len \u001b[38;5;241m=\u001b[39m \u001b[38;5;241m20\u001b[39m\n\u001b[1;32m      5\u001b[0m     stride \u001b[38;5;241m=\u001b[39m \u001b[38;5;241m10\u001b[39m\n\u001b[0;32m----> 6\u001b[0m     gtw \u001b[38;5;241m=\u001b[39m \u001b[43mSlidingWindowSHAP\u001b[49m\u001b[43m(\u001b[49m\u001b[43mmodel\u001b[49m\u001b[43m,\u001b[49m\u001b[43m \u001b[49m\u001b[43mstride\u001b[49m\u001b[43m,\u001b[49m\u001b[43m \u001b[49m\u001b[43mwindow_len\u001b[49m\u001b[43m,\u001b[49m\u001b[43m \u001b[49m\u001b[43mbackground_data\u001b[49m\u001b[43m,\u001b[49m\u001b[43m \u001b[49m\u001b[43mtest_data\u001b[49m\u001b[43m[\u001b[49m\u001b[43mi\u001b[49m\u001b[43m:\u001b[49m\u001b[43mi\u001b[49m\u001b[43m \u001b[49m\u001b[38;5;241;43m+\u001b[39;49m\u001b[43m \u001b[49m\u001b[38;5;241;43m1\u001b[39;49m\u001b[43m]\u001b[49m\u001b[43m,\u001b[49m\n\u001b[1;32m      7\u001b[0m \u001b[43m                            \u001b[49m\u001b[43mmodel_type\u001b[49m\u001b[38;5;241;43m=\u001b[39;49m\u001b[38;5;124;43m'\u001b[39;49m\u001b[38;5;124;43mlstm\u001b[39;49m\u001b[38;5;124;43m'\u001b[39;49m\u001b[43m)\u001b[49m\n\u001b[1;32m      8\u001b[0m     ts_phi_2[i, :, :] \u001b[38;5;241m=\u001b[39m gtw\u001b[38;5;241m.\u001b[39mshap_values()\n\u001b[1;32m      9\u001b[0m \u001b[38;5;28mprint\u001b[39m(\u001b[38;5;124m'\u001b[39m\u001b[38;5;124mTotal time: \u001b[39m\u001b[38;5;124m'\u001b[39m \u001b[38;5;241m+\u001b[39m \u001b[38;5;28mstr\u001b[39m(timeit\u001b[38;5;241m.\u001b[39mdefault_timer() \u001b[38;5;241m-\u001b[39m tic))\n",
      "File \u001b[0;32m~/Desktop/phd/xai/WindowSHAP/window_shap.py:162\u001b[0m, in \u001b[0;36mSlidingWindowSHAP.__init__\u001b[0;34m(self, model, stride, window_len, B_ts, test_ts, B_mask, B_dem, test_mask, test_dem, model_type)\u001b[0m\n\u001b[1;32m    157\u001b[0m \u001b[38;5;28mself\u001b[39m\u001b[38;5;241m.\u001b[39mwindow_len \u001b[38;5;241m=\u001b[39m window_len\n\u001b[1;32m    159\u001b[0m \u001b[38;5;28msuper\u001b[39m()\u001b[38;5;241m.\u001b[39m\u001b[38;5;21m__init__\u001b[39m(model, B_ts, test_ts, num_window, B_mask,\n\u001b[1;32m    160\u001b[0m                  B_dem, test_mask, test_dem, model_type)\n\u001b[0;32m--> 162\u001b[0m \u001b[38;5;28;43mself\u001b[39;49m\u001b[38;5;241;43m.\u001b[39;49m\u001b[43mprepare_data\u001b[49m\u001b[43m(\u001b[49m\u001b[43mB_ts\u001b[49m\u001b[43m,\u001b[49m\u001b[43m \u001b[49m\u001b[43mtest_ts\u001b[49m\u001b[43m)\u001b[49m\n",
      "File \u001b[0;32m~/Desktop/phd/xai/WindowSHAP/window_shap.py:47\u001b[0m, in \u001b[0;36mSHAP.prepare_data\u001b[0;34m(self, B_ts, test_ts)\u001b[0m\n\u001b[1;32m     45\u001b[0m \u001b[38;5;28;01mdef\u001b[39;00m \u001b[38;5;21mprepare_data\u001b[39m(\u001b[38;5;28mself\u001b[39m, B_ts, test_ts):\n\u001b[1;32m     46\u001b[0m \u001b[38;5;250m    \u001b[39m\u001b[38;5;124;03m\"\"\"prepares SHAP data.\"\"\"\u001b[39;00m\n\u001b[0;32m---> 47\u001b[0m     \u001b[38;5;28mself\u001b[39m\u001b[38;5;241m.\u001b[39mbackground_data \u001b[38;5;241m=\u001b[39m \u001b[43mdata_prepare\u001b[49m\u001b[43m(\u001b[49m\u001b[43mB_ts\u001b[49m\u001b[43m,\u001b[49m\u001b[43m \u001b[49m\u001b[38;5;28;43mself\u001b[39;49m\u001b[38;5;241;43m.\u001b[39;49m\u001b[43mnum_dem_ftr\u001b[49m\u001b[43m,\u001b[49m\n\u001b[1;32m     48\u001b[0m \u001b[43m                                        \u001b[49m\u001b[38;5;28;43mself\u001b[39;49m\u001b[38;5;241;43m.\u001b[39;49m\u001b[43mnum_window\u001b[49m\u001b[43m,\u001b[49m\n\u001b[1;32m     49\u001b[0m \u001b[43m                                        \u001b[49m\u001b[43mstart_idx\u001b[49m\u001b[38;5;241;43m=\u001b[39;49m\u001b[38;5;241;43m0\u001b[39;49m\u001b[43m)\u001b[49m\n\u001b[1;32m     50\u001b[0m     \u001b[38;5;28mself\u001b[39m\u001b[38;5;241m.\u001b[39mtest_data \u001b[38;5;241m=\u001b[39m data_prepare(test_ts, \u001b[38;5;28mself\u001b[39m\u001b[38;5;241m.\u001b[39mnum_dem_ftr,\n\u001b[1;32m     51\u001b[0m                                   \u001b[38;5;28mself\u001b[39m\u001b[38;5;241m.\u001b[39mnum_window, start_idx\u001b[38;5;241m=\u001b[39m\u001b[38;5;28mlen\u001b[39m(B_ts))\n",
      "File \u001b[0;32m~/Desktop/phd/xai/WindowSHAP/window_shap.py:8\u001b[0m, in \u001b[0;36mdata_prepare\u001b[0;34m(ts_x, num_dem_ftr, num_window, num_ts_ftr, start_idx)\u001b[0m\n\u001b[1;32m      5\u001b[0m \u001b[38;5;28;01mdef\u001b[39;00m \u001b[38;5;21mdata_prepare\u001b[39m(ts_x, num_dem_ftr, num_window, num_ts_ftr\u001b[38;5;241m=\u001b[39m\u001b[38;5;28;01mNone\u001b[39;00m, start_idx\u001b[38;5;241m=\u001b[39m\u001b[38;5;241m0\u001b[39m):\n\u001b[1;32m      6\u001b[0m \u001b[38;5;250m    \u001b[39m\u001b[38;5;124;03m\"\"\"returns prepared data for SHAP\"\"\"\u001b[39;00m\n\u001b[1;32m      7\u001b[0m     total_num_features \u001b[38;5;241m=\u001b[39m num_dem_ftr \u001b[38;5;241m+\u001b[39m num_ts_ftr \u001b[38;5;241m*\u001b[39m num_window \u001b[38;5;28;01mif\u001b[39;00m num_ts_ftr \\\n\u001b[0;32m----> 8\u001b[0m         \u001b[38;5;28;01melse\u001b[39;00m num_dem_ftr \u001b[38;5;241m+\u001b[39m \u001b[38;5;28;43msum\u001b[39;49m\u001b[43m(\u001b[49m\u001b[43mnum_window\u001b[49m\u001b[43m)\u001b[49m\n\u001b[1;32m     10\u001b[0m     x_ \u001b[38;5;241m=\u001b[39m [[i] \u001b[38;5;241m*\u001b[39m total_num_features \u001b[38;5;28;01mfor\u001b[39;00m i \u001b[38;5;129;01min\u001b[39;00m \u001b[38;5;28mrange\u001b[39m(start_idx, start_idx \u001b[38;5;241m+\u001b[39m ts_x\u001b[38;5;241m.\u001b[39mshape[\u001b[38;5;241m0\u001b[39m])]\n\u001b[1;32m     12\u001b[0m     \u001b[38;5;28;01mreturn\u001b[39;00m np\u001b[38;5;241m.\u001b[39marray(x_)\n",
      "\u001b[0;31mTypeError\u001b[0m: 'int' object is not iterable"
     ]
    }
   ],
   "source": [
    "tic = timeit.default_timer()\n",
    "ts_phi_2 = np.zeros((len(test_data), test_data.shape[1], test_data.shape[2]))\n",
    "for i in range(len(test_data)):\n",
    "    window_len = 20\n",
    "    stride = 10\n",
    "    gtw = SlidingWindowSHAP(model, stride, window_len, background_data, test_data[i:i + 1],\n",
    "                            model_type='lstm')\n",
    "    ts_phi_2[i, :, :] = gtw.shap_values()\n",
    "print('Total time: ' + str(timeit.default_timer() - tic))"
   ]
  },
  {
   "cell_type": "markdown",
   "metadata": {
    "tags": []
   },
   "source": [
    "## 3- Dynamic WindowSHAP"
   ]
  },
  {
   "cell_type": "code",
   "execution_count": 11,
   "metadata": {
    "ExecuteTime": {
     "end_time": "2023-12-10T13:14:26.958405Z",
     "start_time": "2023-12-10T13:14:26.866742Z"
    },
    "tags": []
   },
   "outputs": [
    {
     "ename": "AttributeError",
     "evalue": "'DynamicWindowSHAP' object has no attribute 'num_ts_ftr'",
     "output_type": "error",
     "traceback": [
      "\u001b[0;31m---------------------------------------------------------------------------\u001b[0m",
      "\u001b[0;31mAttributeError\u001b[0m                            Traceback (most recent call last)",
      "Cell \u001b[0;32mIn[11], line 6\u001b[0m\n\u001b[1;32m      4\u001b[0m     delta \u001b[38;5;241m=\u001b[39m \u001b[38;5;241m0.3\u001b[39m\n\u001b[1;32m      5\u001b[0m     n_w \u001b[38;5;241m=\u001b[39m \u001b[38;5;241m8\u001b[39m\n\u001b[0;32m----> 6\u001b[0m     btw \u001b[38;5;241m=\u001b[39m \u001b[43mDynamicWindowSHAP\u001b[49m\u001b[43m(\u001b[49m\u001b[43mmodel\u001b[49m\u001b[43m,\u001b[49m\u001b[43m \u001b[49m\u001b[43mdelta\u001b[49m\u001b[43m,\u001b[49m\u001b[43m \u001b[49m\u001b[43mn_w\u001b[49m\u001b[43m,\u001b[49m\u001b[43m \u001b[49m\u001b[43mbackground_data\u001b[49m\u001b[43m,\u001b[49m\u001b[43m \u001b[49m\u001b[43mtest_data\u001b[49m\u001b[43m[\u001b[49m\u001b[43mi\u001b[49m\u001b[43m:\u001b[49m\u001b[43mi\u001b[49m\u001b[43m \u001b[49m\u001b[38;5;241;43m+\u001b[39;49m\u001b[43m \u001b[49m\u001b[38;5;241;43m1\u001b[39;49m\u001b[43m]\u001b[49m\u001b[43m,\u001b[49m\n\u001b[1;32m      7\u001b[0m \u001b[43m                            \u001b[49m\u001b[43mmodel_type\u001b[49m\u001b[38;5;241;43m=\u001b[39;49m\u001b[38;5;124;43m'\u001b[39;49m\u001b[38;5;124;43mlstm\u001b[39;49m\u001b[38;5;124;43m'\u001b[39;49m\u001b[43m)\u001b[49m\n\u001b[1;32m      8\u001b[0m     ts_phi_3[i, :, :] \u001b[38;5;241m=\u001b[39m btw\u001b[38;5;241m.\u001b[39mshap_values()\n\u001b[1;32m      9\u001b[0m \u001b[38;5;28mprint\u001b[39m(\u001b[38;5;124m'\u001b[39m\u001b[38;5;124mTotal time: \u001b[39m\u001b[38;5;124m'\u001b[39m \u001b[38;5;241m+\u001b[39m \u001b[38;5;28mstr\u001b[39m(timeit\u001b[38;5;241m.\u001b[39mdefault_timer() \u001b[38;5;241m-\u001b[39m tic))\n",
      "File \u001b[0;32m~/Desktop/phd/xai/WindowSHAP/window_shap.py:224\u001b[0m, in \u001b[0;36mDynamicWindowSHAP.__init__\u001b[0;34m(self, model, delta, n_w, B_ts, test_ts, B_mask, B_dem, test_mask, test_dem, model_type)\u001b[0m\n\u001b[1;32m    221\u001b[0m \u001b[38;5;28;01mdef\u001b[39;00m \u001b[38;5;21m__init__\u001b[39m(\u001b[38;5;28mself\u001b[39m, model, delta, n_w, B_ts, test_ts, B_mask\u001b[38;5;241m=\u001b[39m\u001b[38;5;28;01mNone\u001b[39;00m, B_dem\u001b[38;5;241m=\u001b[39m\u001b[38;5;28;01mNone\u001b[39;00m,\n\u001b[1;32m    222\u001b[0m              test_mask\u001b[38;5;241m=\u001b[39m\u001b[38;5;28;01mNone\u001b[39;00m, test_dem\u001b[38;5;241m=\u001b[39m\u001b[38;5;28;01mNone\u001b[39;00m, model_type\u001b[38;5;241m=\u001b[39m\u001b[38;5;124m'\u001b[39m\u001b[38;5;124mlstm\u001b[39m\u001b[38;5;124m'\u001b[39m):\n\u001b[0;32m--> 224\u001b[0m     num_window \u001b[38;5;241m=\u001b[39m [\u001b[38;5;241m1\u001b[39m] \u001b[38;5;241m*\u001b[39m \u001b[38;5;28;43mself\u001b[39;49m\u001b[38;5;241;43m.\u001b[39;49m\u001b[43mnum_ts_ftr\u001b[49m\n\u001b[1;32m    225\u001b[0m     \u001b[38;5;28mself\u001b[39m\u001b[38;5;241m.\u001b[39msplit_points \u001b[38;5;241m=\u001b[39m [[\u001b[38;5;28mself\u001b[39m\u001b[38;5;241m.\u001b[39mnum_ts_step \u001b[38;5;241m-\u001b[39m \u001b[38;5;241m1\u001b[39m]] \u001b[38;5;241m*\u001b[39m \u001b[38;5;28mself\u001b[39m\u001b[38;5;241m.\u001b[39mnum_ts_ftr\n\u001b[1;32m    226\u001b[0m     \u001b[38;5;28mself\u001b[39m\u001b[38;5;241m.\u001b[39mdelta \u001b[38;5;241m=\u001b[39m delta\n",
      "\u001b[0;31mAttributeError\u001b[0m: 'DynamicWindowSHAP' object has no attribute 'num_ts_ftr'"
     ]
    }
   ],
   "source": [
    "tic = timeit.default_timer()\n",
    "ts_phi_3 = np.zeros((len(test_data), test_data.shape[1], test_data.shape[2]))\n",
    "for i in range(len(test_data)):\n",
    "    delta = 0.3\n",
    "    n_w = 8\n",
    "    btw = DynamicWindowSHAP(model, delta, n_w, background_data, test_data[i:i + 1],\n",
    "                            model_type='lstm')\n",
    "    ts_phi_3[i, :, :] = btw.shap_values()\n",
    "print('Total time: ' + str(timeit.default_timer() - tic))"
   ]
  },
  {
   "cell_type": "code",
   "execution_count": 12,
   "metadata": {
    "ExecuteTime": {
     "end_time": "2023-12-10T13:14:27.453737Z",
     "start_time": "2023-12-10T13:14:27.445426Z"
    }
   },
   "outputs": [
    {
     "ename": "NameError",
     "evalue": "name 'heat_map' is not defined",
     "output_type": "error",
     "traceback": [
      "\u001b[0;31m---------------------------------------------------------------------------\u001b[0m",
      "\u001b[0;31mNameError\u001b[0m                                 Traceback (most recent call last)",
      "Cell \u001b[0;32mIn[12], line 5\u001b[0m\n\u001b[1;32m      3\u001b[0m var \u001b[38;5;241m=\u001b[39m \u001b[38;5;241m0\u001b[39m\n\u001b[1;32m      4\u001b[0m phi_index \u001b[38;5;241m=\u001b[39m \u001b[38;5;241m0\u001b[39m\n\u001b[0;32m----> 5\u001b[0m \u001b[43mheat_map\u001b[49m(start\u001b[38;5;241m=\u001b[39m\u001b[38;5;241m0\u001b[39m, stop\u001b[38;5;241m=\u001b[39m\u001b[38;5;241m120\u001b[39m, x\u001b[38;5;241m=\u001b[39mtest_x[num_test \u001b[38;5;241m+\u001b[39m phi_index, :, var],\n\u001b[1;32m      6\u001b[0m          shap_values\u001b[38;5;241m=\u001b[39mts_phi_1[phi_index, :, var], var_name\u001b[38;5;241m=\u001b[39m\u001b[38;5;124m'\u001b[39m\u001b[38;5;124mObserved\u001b[39m\u001b[38;5;124m'\u001b[39m, plot_type\u001b[38;5;241m=\u001b[39m\u001b[38;5;124m'\u001b[39m\u001b[38;5;124mbar\u001b[39m\u001b[38;5;124m'\u001b[39m)\n\u001b[1;32m      7\u001b[0m heat_map(start\u001b[38;5;241m=\u001b[39m\u001b[38;5;241m0\u001b[39m, stop\u001b[38;5;241m=\u001b[39m\u001b[38;5;241m120\u001b[39m, x\u001b[38;5;241m=\u001b[39mtest_x[num_test \u001b[38;5;241m+\u001b[39m phi_index, :, var],\n\u001b[1;32m      8\u001b[0m          shap_values\u001b[38;5;241m=\u001b[39mts_phi_2[phi_index, :, var], var_name\u001b[38;5;241m=\u001b[39m\u001b[38;5;124m'\u001b[39m\u001b[38;5;124mObserved\u001b[39m\u001b[38;5;124m'\u001b[39m, plot_type\u001b[38;5;241m=\u001b[39m\u001b[38;5;124m'\u001b[39m\u001b[38;5;124mbar\u001b[39m\u001b[38;5;124m'\u001b[39m)\n\u001b[1;32m      9\u001b[0m heat_map(start\u001b[38;5;241m=\u001b[39m\u001b[38;5;241m0\u001b[39m, stop\u001b[38;5;241m=\u001b[39m\u001b[38;5;241m120\u001b[39m, x\u001b[38;5;241m=\u001b[39mtest_x[num_test \u001b[38;5;241m+\u001b[39m phi_index, :, var],\n\u001b[1;32m     10\u001b[0m          shap_values\u001b[38;5;241m=\u001b[39mts_phi_3[phi_index, :, var], var_name\u001b[38;5;241m=\u001b[39m\u001b[38;5;124m'\u001b[39m\u001b[38;5;124mVariable\u001b[39m\u001b[38;5;124m'\u001b[39m, plot_type\u001b[38;5;241m=\u001b[39m\u001b[38;5;124m'\u001b[39m\u001b[38;5;124mbar\u001b[39m\u001b[38;5;124m'\u001b[39m)\n",
      "\u001b[0;31mNameError\u001b[0m: name 'heat_map' is not defined"
     ]
    }
   ],
   "source": [
    "from utils import heat_map\n",
    "\n",
    "var = 0\n",
    "phi_index = 0\n",
    "heat_map(start=0, stop=120, x=test_x[num_test + phi_index, :, var],\n",
    "         shap_values=ts_phi_1[phi_index, :, var], var_name='Observed', plot_type='bar')\n",
    "heat_map(start=0, stop=120, x=test_x[num_test + phi_index, :, var],\n",
    "         shap_values=ts_phi_2[phi_index, :, var], var_name='Observed', plot_type='bar')\n",
    "heat_map(start=0, stop=120, x=test_x[num_test + phi_index, :, var],\n",
    "         shap_values=ts_phi_3[phi_index, :, var], var_name='Variable', plot_type='bar')"
   ]
  },
  {
   "cell_type": "code",
   "execution_count": null,
   "metadata": {},
   "outputs": [],
   "source": []
  }
 ],
 "metadata": {
  "kernelspec": {
   "display_name": "Python 3 (ipykernel)",
   "language": "python",
   "name": "python3"
  },
  "language_info": {
   "codemirror_mode": {
    "name": "ipython",
    "version": 3
   },
   "file_extension": ".py",
   "mimetype": "text/x-python",
   "name": "python",
   "nbconvert_exporter": "python",
   "pygments_lexer": "ipython3",
   "version": "3.10.13"
  }
 },
 "nbformat": 4,
 "nbformat_minor": 4
}
