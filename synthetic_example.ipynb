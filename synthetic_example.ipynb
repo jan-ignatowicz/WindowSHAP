{
 "cells": [
  {
   "cell_type": "markdown",
   "metadata": {},
   "source": [
    "# Synthetic data"
   ]
  },
  {
   "cell_type": "code",
   "execution_count": 1,
   "outputs": [
    {
     "name": "stderr",
     "output_type": "stream",
     "text": [
      "2024-01-18 18:43:32.398734: I tensorflow/core/platform/cpu_feature_guard.cc:182] This TensorFlow binary is optimized to use available CPU instructions in performance-critical operations.\n",
      "To enable the following instructions: AVX2 AVX512F AVX512_VNNI FMA, in other operations, rebuild TensorFlow with the appropriate compiler flags.\n"
     ]
    },
    {
     "ename": "KeyboardInterrupt",
     "evalue": "",
     "output_type": "error",
     "traceback": [
      "\u001B[0;31m---------------------------------------------------------------------------\u001B[0m",
      "\u001B[0;31mKeyboardInterrupt\u001B[0m                         Traceback (most recent call last)",
      "Cell \u001B[0;32mIn[1], line 7\u001B[0m\n\u001B[1;32m      5\u001B[0m \u001B[38;5;28;01mimport\u001B[39;00m \u001B[38;5;21;01mshap\u001B[39;00m\n\u001B[1;32m      6\u001B[0m \u001B[38;5;28;01mfrom\u001B[39;00m \u001B[38;5;21;01msklearn\u001B[39;00m\u001B[38;5;21;01m.\u001B[39;00m\u001B[38;5;21;01mmodel_selection\u001B[39;00m \u001B[38;5;28;01mimport\u001B[39;00m train_test_split\n\u001B[0;32m----> 7\u001B[0m \u001B[38;5;28;01mfrom\u001B[39;00m \u001B[38;5;21;01mtensorflow\u001B[39;00m\u001B[38;5;21;01m.\u001B[39;00m\u001B[38;5;21;01mkeras\u001B[39;00m \u001B[38;5;28;01mimport\u001B[39;00m backend \u001B[38;5;28;01mas\u001B[39;00m K\n\u001B[1;32m      9\u001B[0m \u001B[38;5;28;01mfrom\u001B[39;00m \u001B[38;5;21;01mwindowshap\u001B[39;00m \u001B[38;5;28;01mimport\u001B[39;00m SlidingWindowSHAP, StationaryWindowSHAP, DynamicWindowSHAP\n\u001B[1;32m     11\u001B[0m warnings\u001B[38;5;241m.\u001B[39mfilterwarnings(\u001B[38;5;124m'\u001B[39m\u001B[38;5;124mignore\u001B[39m\u001B[38;5;124m'\u001B[39m)\n",
      "File \u001B[0;32m~/Desktop/phd/xai/WindowSHAP/venv/lib/python3.9/site-packages/tensorflow/__init__.py:48\u001B[0m\n\u001B[1;32m     45\u001B[0m \u001B[38;5;28;01mfrom\u001B[39;00m \u001B[38;5;21;01mtensorflow\u001B[39;00m\u001B[38;5;21;01m.\u001B[39;00m\u001B[38;5;21;01mpython\u001B[39;00m \u001B[38;5;28;01mimport\u001B[39;00m tf2 \u001B[38;5;28;01mas\u001B[39;00m _tf2\n\u001B[1;32m     46\u001B[0m _tf2\u001B[38;5;241m.\u001B[39menable()\n\u001B[0;32m---> 48\u001B[0m \u001B[38;5;28;01mfrom\u001B[39;00m \u001B[38;5;21;01mtensorflow\u001B[39;00m\u001B[38;5;21;01m.\u001B[39;00m\u001B[38;5;21;01m_api\u001B[39;00m\u001B[38;5;21;01m.\u001B[39;00m\u001B[38;5;21;01mv2\u001B[39;00m \u001B[38;5;28;01mimport\u001B[39;00m __internal__\n\u001B[1;32m     49\u001B[0m \u001B[38;5;28;01mfrom\u001B[39;00m \u001B[38;5;21;01mtensorflow\u001B[39;00m\u001B[38;5;21;01m.\u001B[39;00m\u001B[38;5;21;01m_api\u001B[39;00m\u001B[38;5;21;01m.\u001B[39;00m\u001B[38;5;21;01mv2\u001B[39;00m \u001B[38;5;28;01mimport\u001B[39;00m __operators__\n\u001B[1;32m     50\u001B[0m \u001B[38;5;28;01mfrom\u001B[39;00m \u001B[38;5;21;01mtensorflow\u001B[39;00m\u001B[38;5;21;01m.\u001B[39;00m\u001B[38;5;21;01m_api\u001B[39;00m\u001B[38;5;21;01m.\u001B[39;00m\u001B[38;5;21;01mv2\u001B[39;00m \u001B[38;5;28;01mimport\u001B[39;00m audio\n",
      "File \u001B[0;32m~/Desktop/phd/xai/WindowSHAP/venv/lib/python3.9/site-packages/tensorflow/_api/v2/__internal__/__init__.py:11\u001B[0m\n\u001B[1;32m      9\u001B[0m \u001B[38;5;28;01mfrom\u001B[39;00m \u001B[38;5;21;01mtensorflow\u001B[39;00m\u001B[38;5;21;01m.\u001B[39;00m\u001B[38;5;21;01m_api\u001B[39;00m\u001B[38;5;21;01m.\u001B[39;00m\u001B[38;5;21;01mv2\u001B[39;00m\u001B[38;5;21;01m.\u001B[39;00m\u001B[38;5;21;01m__internal__\u001B[39;00m \u001B[38;5;28;01mimport\u001B[39;00m decorator\n\u001B[1;32m     10\u001B[0m \u001B[38;5;28;01mfrom\u001B[39;00m \u001B[38;5;21;01mtensorflow\u001B[39;00m\u001B[38;5;21;01m.\u001B[39;00m\u001B[38;5;21;01m_api\u001B[39;00m\u001B[38;5;21;01m.\u001B[39;00m\u001B[38;5;21;01mv2\u001B[39;00m\u001B[38;5;21;01m.\u001B[39;00m\u001B[38;5;21;01m__internal__\u001B[39;00m \u001B[38;5;28;01mimport\u001B[39;00m dispatch\n\u001B[0;32m---> 11\u001B[0m \u001B[38;5;28;01mfrom\u001B[39;00m \u001B[38;5;21;01mtensorflow\u001B[39;00m\u001B[38;5;21;01m.\u001B[39;00m\u001B[38;5;21;01m_api\u001B[39;00m\u001B[38;5;21;01m.\u001B[39;00m\u001B[38;5;21;01mv2\u001B[39;00m\u001B[38;5;21;01m.\u001B[39;00m\u001B[38;5;21;01m__internal__\u001B[39;00m \u001B[38;5;28;01mimport\u001B[39;00m distribute\n\u001B[1;32m     12\u001B[0m \u001B[38;5;28;01mfrom\u001B[39;00m \u001B[38;5;21;01mtensorflow\u001B[39;00m\u001B[38;5;21;01m.\u001B[39;00m\u001B[38;5;21;01m_api\u001B[39;00m\u001B[38;5;21;01m.\u001B[39;00m\u001B[38;5;21;01mv2\u001B[39;00m\u001B[38;5;21;01m.\u001B[39;00m\u001B[38;5;21;01m__internal__\u001B[39;00m \u001B[38;5;28;01mimport\u001B[39;00m eager_context\n\u001B[1;32m     13\u001B[0m \u001B[38;5;28;01mfrom\u001B[39;00m \u001B[38;5;21;01mtensorflow\u001B[39;00m\u001B[38;5;21;01m.\u001B[39;00m\u001B[38;5;21;01m_api\u001B[39;00m\u001B[38;5;21;01m.\u001B[39;00m\u001B[38;5;21;01mv2\u001B[39;00m\u001B[38;5;21;01m.\u001B[39;00m\u001B[38;5;21;01m__internal__\u001B[39;00m \u001B[38;5;28;01mimport\u001B[39;00m feature_column\n",
      "File \u001B[0;32m~/Desktop/phd/xai/WindowSHAP/venv/lib/python3.9/site-packages/tensorflow/_api/v2/__internal__/distribute/__init__.py:8\u001B[0m\n\u001B[1;32m      3\u001B[0m \u001B[38;5;124;03m\"\"\"Public API for tf._api.v2.__internal__.distribute namespace\u001B[39;00m\n\u001B[1;32m      4\u001B[0m \u001B[38;5;124;03m\"\"\"\u001B[39;00m\n\u001B[1;32m      6\u001B[0m \u001B[38;5;28;01mimport\u001B[39;00m \u001B[38;5;21;01msys\u001B[39;00m \u001B[38;5;28;01mas\u001B[39;00m \u001B[38;5;21;01m_sys\u001B[39;00m\n\u001B[0;32m----> 8\u001B[0m \u001B[38;5;28;01mfrom\u001B[39;00m \u001B[38;5;21;01mtensorflow\u001B[39;00m\u001B[38;5;21;01m.\u001B[39;00m\u001B[38;5;21;01m_api\u001B[39;00m\u001B[38;5;21;01m.\u001B[39;00m\u001B[38;5;21;01mv2\u001B[39;00m\u001B[38;5;21;01m.\u001B[39;00m\u001B[38;5;21;01m__internal__\u001B[39;00m\u001B[38;5;21;01m.\u001B[39;00m\u001B[38;5;21;01mdistribute\u001B[39;00m \u001B[38;5;28;01mimport\u001B[39;00m combinations\n\u001B[1;32m      9\u001B[0m \u001B[38;5;28;01mfrom\u001B[39;00m \u001B[38;5;21;01mtensorflow\u001B[39;00m\u001B[38;5;21;01m.\u001B[39;00m\u001B[38;5;21;01m_api\u001B[39;00m\u001B[38;5;21;01m.\u001B[39;00m\u001B[38;5;21;01mv2\u001B[39;00m\u001B[38;5;21;01m.\u001B[39;00m\u001B[38;5;21;01m__internal__\u001B[39;00m\u001B[38;5;21;01m.\u001B[39;00m\u001B[38;5;21;01mdistribute\u001B[39;00m \u001B[38;5;28;01mimport\u001B[39;00m interim\n\u001B[1;32m     10\u001B[0m \u001B[38;5;28;01mfrom\u001B[39;00m \u001B[38;5;21;01mtensorflow\u001B[39;00m\u001B[38;5;21;01m.\u001B[39;00m\u001B[38;5;21;01m_api\u001B[39;00m\u001B[38;5;21;01m.\u001B[39;00m\u001B[38;5;21;01mv2\u001B[39;00m\u001B[38;5;21;01m.\u001B[39;00m\u001B[38;5;21;01m__internal__\u001B[39;00m\u001B[38;5;21;01m.\u001B[39;00m\u001B[38;5;21;01mdistribute\u001B[39;00m \u001B[38;5;28;01mimport\u001B[39;00m multi_process_runner\n",
      "File \u001B[0;32m~/Desktop/phd/xai/WindowSHAP/venv/lib/python3.9/site-packages/tensorflow/_api/v2/__internal__/distribute/combinations/__init__.py:8\u001B[0m\n\u001B[1;32m      3\u001B[0m \u001B[38;5;124;03m\"\"\"Public API for tf._api.v2.__internal__.distribute.combinations namespace\u001B[39;00m\n\u001B[1;32m      4\u001B[0m \u001B[38;5;124;03m\"\"\"\u001B[39;00m\n\u001B[1;32m      6\u001B[0m \u001B[38;5;28;01mimport\u001B[39;00m \u001B[38;5;21;01msys\u001B[39;00m \u001B[38;5;28;01mas\u001B[39;00m \u001B[38;5;21;01m_sys\u001B[39;00m\n\u001B[0;32m----> 8\u001B[0m \u001B[38;5;28;01mfrom\u001B[39;00m \u001B[38;5;21;01mtensorflow\u001B[39;00m\u001B[38;5;21;01m.\u001B[39;00m\u001B[38;5;21;01mpython\u001B[39;00m\u001B[38;5;21;01m.\u001B[39;00m\u001B[38;5;21;01mdistribute\u001B[39;00m\u001B[38;5;21;01m.\u001B[39;00m\u001B[38;5;21;01mcombinations\u001B[39;00m \u001B[38;5;28;01mimport\u001B[39;00m env \u001B[38;5;66;03m# line: 456\u001B[39;00m\n\u001B[1;32m      9\u001B[0m \u001B[38;5;28;01mfrom\u001B[39;00m \u001B[38;5;21;01mtensorflow\u001B[39;00m\u001B[38;5;21;01m.\u001B[39;00m\u001B[38;5;21;01mpython\u001B[39;00m\u001B[38;5;21;01m.\u001B[39;00m\u001B[38;5;21;01mdistribute\u001B[39;00m\u001B[38;5;21;01m.\u001B[39;00m\u001B[38;5;21;01mcombinations\u001B[39;00m \u001B[38;5;28;01mimport\u001B[39;00m generate \u001B[38;5;66;03m# line: 365\u001B[39;00m\n\u001B[1;32m     10\u001B[0m \u001B[38;5;28;01mfrom\u001B[39;00m \u001B[38;5;21;01mtensorflow\u001B[39;00m\u001B[38;5;21;01m.\u001B[39;00m\u001B[38;5;21;01mpython\u001B[39;00m\u001B[38;5;21;01m.\u001B[39;00m\u001B[38;5;21;01mdistribute\u001B[39;00m\u001B[38;5;21;01m.\u001B[39;00m\u001B[38;5;21;01mcombinations\u001B[39;00m \u001B[38;5;28;01mimport\u001B[39;00m in_main_process \u001B[38;5;66;03m# line: 418\u001B[39;00m\n",
      "File \u001B[0;32m~/Desktop/phd/xai/WindowSHAP/venv/lib/python3.9/site-packages/tensorflow/python/distribute/combinations.py:33\u001B[0m\n\u001B[1;32m     29\u001B[0m \u001B[38;5;28;01mimport\u001B[39;00m \u001B[38;5;21;01msix\u001B[39;00m\n\u001B[1;32m     32\u001B[0m \u001B[38;5;28;01mfrom\u001B[39;00m \u001B[38;5;21;01mtensorflow\u001B[39;00m\u001B[38;5;21;01m.\u001B[39;00m\u001B[38;5;21;01mpython\u001B[39;00m\u001B[38;5;21;01m.\u001B[39;00m\u001B[38;5;21;01mclient\u001B[39;00m \u001B[38;5;28;01mimport\u001B[39;00m session\n\u001B[0;32m---> 33\u001B[0m \u001B[38;5;28;01mfrom\u001B[39;00m \u001B[38;5;21;01mtensorflow\u001B[39;00m\u001B[38;5;21;01m.\u001B[39;00m\u001B[38;5;21;01mpython\u001B[39;00m\u001B[38;5;21;01m.\u001B[39;00m\u001B[38;5;21;01mdistribute\u001B[39;00m \u001B[38;5;28;01mimport\u001B[39;00m collective_all_reduce_strategy\n\u001B[1;32m     34\u001B[0m \u001B[38;5;28;01mfrom\u001B[39;00m \u001B[38;5;21;01mtensorflow\u001B[39;00m\u001B[38;5;21;01m.\u001B[39;00m\u001B[38;5;21;01mpython\u001B[39;00m\u001B[38;5;21;01m.\u001B[39;00m\u001B[38;5;21;01mdistribute\u001B[39;00m \u001B[38;5;28;01mimport\u001B[39;00m distribute_lib\n\u001B[1;32m     35\u001B[0m \u001B[38;5;28;01mfrom\u001B[39;00m \u001B[38;5;21;01mtensorflow\u001B[39;00m\u001B[38;5;21;01m.\u001B[39;00m\u001B[38;5;21;01mpython\u001B[39;00m\u001B[38;5;21;01m.\u001B[39;00m\u001B[38;5;21;01mdistribute\u001B[39;00m \u001B[38;5;28;01mimport\u001B[39;00m multi_process_runner\n",
      "File \u001B[0;32m~/Desktop/phd/xai/WindowSHAP/venv/lib/python3.9/site-packages/tensorflow/python/distribute/collective_all_reduce_strategy.py:25\u001B[0m\n\u001B[1;32m     23\u001B[0m \u001B[38;5;28;01mfrom\u001B[39;00m \u001B[38;5;21;01mtensorflow\u001B[39;00m\u001B[38;5;21;01m.\u001B[39;00m\u001B[38;5;21;01mcore\u001B[39;00m\u001B[38;5;21;01m.\u001B[39;00m\u001B[38;5;21;01mprotobuf\u001B[39;00m \u001B[38;5;28;01mimport\u001B[39;00m tensorflow_server_pb2\n\u001B[1;32m     24\u001B[0m \u001B[38;5;28;01mfrom\u001B[39;00m \u001B[38;5;21;01mtensorflow\u001B[39;00m\u001B[38;5;21;01m.\u001B[39;00m\u001B[38;5;21;01mpython\u001B[39;00m\u001B[38;5;21;01m.\u001B[39;00m\u001B[38;5;21;01mdistribute\u001B[39;00m \u001B[38;5;28;01mimport\u001B[39;00m collective_util\n\u001B[0;32m---> 25\u001B[0m \u001B[38;5;28;01mfrom\u001B[39;00m \u001B[38;5;21;01mtensorflow\u001B[39;00m\u001B[38;5;21;01m.\u001B[39;00m\u001B[38;5;21;01mpython\u001B[39;00m\u001B[38;5;21;01m.\u001B[39;00m\u001B[38;5;21;01mdistribute\u001B[39;00m \u001B[38;5;28;01mimport\u001B[39;00m cross_device_ops \u001B[38;5;28;01mas\u001B[39;00m cross_device_ops_lib\n\u001B[1;32m     26\u001B[0m \u001B[38;5;28;01mfrom\u001B[39;00m \u001B[38;5;21;01mtensorflow\u001B[39;00m\u001B[38;5;21;01m.\u001B[39;00m\u001B[38;5;21;01mpython\u001B[39;00m\u001B[38;5;21;01m.\u001B[39;00m\u001B[38;5;21;01mdistribute\u001B[39;00m \u001B[38;5;28;01mimport\u001B[39;00m cross_device_utils\n\u001B[1;32m     27\u001B[0m \u001B[38;5;28;01mfrom\u001B[39;00m \u001B[38;5;21;01mtensorflow\u001B[39;00m\u001B[38;5;21;01m.\u001B[39;00m\u001B[38;5;21;01mpython\u001B[39;00m\u001B[38;5;21;01m.\u001B[39;00m\u001B[38;5;21;01mdistribute\u001B[39;00m \u001B[38;5;28;01mimport\u001B[39;00m device_util\n",
      "File \u001B[0;32m~/Desktop/phd/xai/WindowSHAP/venv/lib/python3.9/site-packages/tensorflow/python/distribute/cross_device_ops.py:28\u001B[0m\n\u001B[1;32m     26\u001B[0m \u001B[38;5;28;01mfrom\u001B[39;00m \u001B[38;5;21;01mtensorflow\u001B[39;00m\u001B[38;5;21;01m.\u001B[39;00m\u001B[38;5;21;01mpython\u001B[39;00m\u001B[38;5;21;01m.\u001B[39;00m\u001B[38;5;21;01mclient\u001B[39;00m \u001B[38;5;28;01mimport\u001B[39;00m device_lib\n\u001B[1;32m     27\u001B[0m \u001B[38;5;28;01mfrom\u001B[39;00m \u001B[38;5;21;01mtensorflow\u001B[39;00m\u001B[38;5;21;01m.\u001B[39;00m\u001B[38;5;21;01mpython\u001B[39;00m\u001B[38;5;21;01m.\u001B[39;00m\u001B[38;5;21;01mdistribute\u001B[39;00m \u001B[38;5;28;01mimport\u001B[39;00m collective_util\n\u001B[0;32m---> 28\u001B[0m \u001B[38;5;28;01mfrom\u001B[39;00m \u001B[38;5;21;01mtensorflow\u001B[39;00m\u001B[38;5;21;01m.\u001B[39;00m\u001B[38;5;21;01mpython\u001B[39;00m\u001B[38;5;21;01m.\u001B[39;00m\u001B[38;5;21;01mdistribute\u001B[39;00m \u001B[38;5;28;01mimport\u001B[39;00m cross_device_utils\n\u001B[1;32m     29\u001B[0m \u001B[38;5;28;01mfrom\u001B[39;00m \u001B[38;5;21;01mtensorflow\u001B[39;00m\u001B[38;5;21;01m.\u001B[39;00m\u001B[38;5;21;01mpython\u001B[39;00m\u001B[38;5;21;01m.\u001B[39;00m\u001B[38;5;21;01mdistribute\u001B[39;00m \u001B[38;5;28;01mimport\u001B[39;00m device_util\n\u001B[1;32m     30\u001B[0m \u001B[38;5;28;01mfrom\u001B[39;00m \u001B[38;5;21;01mtensorflow\u001B[39;00m\u001B[38;5;21;01m.\u001B[39;00m\u001B[38;5;21;01mpython\u001B[39;00m\u001B[38;5;21;01m.\u001B[39;00m\u001B[38;5;21;01mdistribute\u001B[39;00m \u001B[38;5;28;01mimport\u001B[39;00m distribute_utils\n",
      "File \u001B[0;32m~/Desktop/phd/xai/WindowSHAP/venv/lib/python3.9/site-packages/tensorflow/python/distribute/cross_device_utils.py:22\u001B[0m\n\u001B[1;32m     19\u001B[0m \u001B[38;5;28;01mfrom\u001B[39;00m \u001B[38;5;21;01mtyping\u001B[39;00m \u001B[38;5;28;01mimport\u001B[39;00m Callable, List, Optional, Union\n\u001B[1;32m     21\u001B[0m \u001B[38;5;28;01mfrom\u001B[39;00m \u001B[38;5;21;01mtensorflow\u001B[39;00m\u001B[38;5;21;01m.\u001B[39;00m\u001B[38;5;21;01mpython\u001B[39;00m\u001B[38;5;21;01m.\u001B[39;00m\u001B[38;5;21;01mdistribute\u001B[39;00m \u001B[38;5;28;01mimport\u001B[39;00m collective_util\n\u001B[0;32m---> 22\u001B[0m \u001B[38;5;28;01mfrom\u001B[39;00m \u001B[38;5;21;01mtensorflow\u001B[39;00m\u001B[38;5;21;01m.\u001B[39;00m\u001B[38;5;21;01mpython\u001B[39;00m\u001B[38;5;21;01m.\u001B[39;00m\u001B[38;5;21;01mdistribute\u001B[39;00m \u001B[38;5;28;01mimport\u001B[39;00m values \u001B[38;5;28;01mas\u001B[39;00m value_lib\n\u001B[1;32m     23\u001B[0m \u001B[38;5;28;01mfrom\u001B[39;00m \u001B[38;5;21;01mtensorflow\u001B[39;00m\u001B[38;5;21;01m.\u001B[39;00m\u001B[38;5;21;01mpython\u001B[39;00m\u001B[38;5;21;01m.\u001B[39;00m\u001B[38;5;21;01meager\u001B[39;00m \u001B[38;5;28;01mimport\u001B[39;00m backprop_util\n\u001B[1;32m     24\u001B[0m \u001B[38;5;28;01mfrom\u001B[39;00m \u001B[38;5;21;01mtensorflow\u001B[39;00m\u001B[38;5;21;01m.\u001B[39;00m\u001B[38;5;21;01mpython\u001B[39;00m\u001B[38;5;21;01m.\u001B[39;00m\u001B[38;5;21;01meager\u001B[39;00m \u001B[38;5;28;01mimport\u001B[39;00m context\n",
      "File \u001B[0;32m~/Desktop/phd/xai/WindowSHAP/venv/lib/python3.9/site-packages/tensorflow/python/distribute/values.py:23\u001B[0m\n\u001B[1;32m     21\u001B[0m \u001B[38;5;28;01mfrom\u001B[39;00m \u001B[38;5;21;01mtensorflow\u001B[39;00m\u001B[38;5;21;01m.\u001B[39;00m\u001B[38;5;21;01mcore\u001B[39;00m\u001B[38;5;21;01m.\u001B[39;00m\u001B[38;5;21;01mprotobuf\u001B[39;00m \u001B[38;5;28;01mimport\u001B[39;00m struct_pb2\n\u001B[1;32m     22\u001B[0m \u001B[38;5;28;01mfrom\u001B[39;00m \u001B[38;5;21;01mtensorflow\u001B[39;00m\u001B[38;5;21;01m.\u001B[39;00m\u001B[38;5;21;01mpython\u001B[39;00m\u001B[38;5;21;01m.\u001B[39;00m\u001B[38;5;21;01mdistribute\u001B[39;00m \u001B[38;5;28;01mimport\u001B[39;00m device_util\n\u001B[0;32m---> 23\u001B[0m \u001B[38;5;28;01mfrom\u001B[39;00m \u001B[38;5;21;01mtensorflow\u001B[39;00m\u001B[38;5;21;01m.\u001B[39;00m\u001B[38;5;21;01mpython\u001B[39;00m\u001B[38;5;21;01m.\u001B[39;00m\u001B[38;5;21;01mdistribute\u001B[39;00m \u001B[38;5;28;01mimport\u001B[39;00m distribute_lib\n\u001B[1;32m     24\u001B[0m \u001B[38;5;28;01mfrom\u001B[39;00m \u001B[38;5;21;01mtensorflow\u001B[39;00m\u001B[38;5;21;01m.\u001B[39;00m\u001B[38;5;21;01mpython\u001B[39;00m\u001B[38;5;21;01m.\u001B[39;00m\u001B[38;5;21;01mdistribute\u001B[39;00m \u001B[38;5;28;01mimport\u001B[39;00m packed_distributed_variable \u001B[38;5;28;01mas\u001B[39;00m packed\n\u001B[1;32m     25\u001B[0m \u001B[38;5;28;01mfrom\u001B[39;00m \u001B[38;5;21;01mtensorflow\u001B[39;00m\u001B[38;5;21;01m.\u001B[39;00m\u001B[38;5;21;01mpython\u001B[39;00m\u001B[38;5;21;01m.\u001B[39;00m\u001B[38;5;21;01mdistribute\u001B[39;00m \u001B[38;5;28;01mimport\u001B[39;00m reduce_util\n",
      "File \u001B[0;32m~/Desktop/phd/xai/WindowSHAP/venv/lib/python3.9/site-packages/tensorflow/python/distribute/distribute_lib.py:206\u001B[0m\n\u001B[1;32m    204\u001B[0m \u001B[38;5;28;01mfrom\u001B[39;00m \u001B[38;5;21;01mtensorflow\u001B[39;00m\u001B[38;5;21;01m.\u001B[39;00m\u001B[38;5;21;01mpython\u001B[39;00m\u001B[38;5;21;01m.\u001B[39;00m\u001B[38;5;21;01mautograph\u001B[39;00m\u001B[38;5;21;01m.\u001B[39;00m\u001B[38;5;21;01mcore\u001B[39;00m \u001B[38;5;28;01mimport\u001B[39;00m ag_ctx \u001B[38;5;28;01mas\u001B[39;00m autograph_ctx\n\u001B[1;32m    205\u001B[0m \u001B[38;5;28;01mfrom\u001B[39;00m \u001B[38;5;21;01mtensorflow\u001B[39;00m\u001B[38;5;21;01m.\u001B[39;00m\u001B[38;5;21;01mpython\u001B[39;00m\u001B[38;5;21;01m.\u001B[39;00m\u001B[38;5;21;01mautograph\u001B[39;00m\u001B[38;5;21;01m.\u001B[39;00m\u001B[38;5;21;01mimpl\u001B[39;00m \u001B[38;5;28;01mimport\u001B[39;00m api \u001B[38;5;28;01mas\u001B[39;00m autograph\n\u001B[0;32m--> 206\u001B[0m \u001B[38;5;28;01mfrom\u001B[39;00m \u001B[38;5;21;01mtensorflow\u001B[39;00m\u001B[38;5;21;01m.\u001B[39;00m\u001B[38;5;21;01mpython\u001B[39;00m\u001B[38;5;21;01m.\u001B[39;00m\u001B[38;5;21;01mdata\u001B[39;00m\u001B[38;5;21;01m.\u001B[39;00m\u001B[38;5;21;01mops\u001B[39;00m \u001B[38;5;28;01mimport\u001B[39;00m dataset_ops\n\u001B[1;32m    207\u001B[0m \u001B[38;5;28;01mfrom\u001B[39;00m \u001B[38;5;21;01mtensorflow\u001B[39;00m\u001B[38;5;21;01m.\u001B[39;00m\u001B[38;5;21;01mpython\u001B[39;00m\u001B[38;5;21;01m.\u001B[39;00m\u001B[38;5;21;01mdistribute\u001B[39;00m \u001B[38;5;28;01mimport\u001B[39;00m collective_util\n\u001B[1;32m    208\u001B[0m \u001B[38;5;28;01mfrom\u001B[39;00m \u001B[38;5;21;01mtensorflow\u001B[39;00m\u001B[38;5;21;01m.\u001B[39;00m\u001B[38;5;21;01mpython\u001B[39;00m\u001B[38;5;21;01m.\u001B[39;00m\u001B[38;5;21;01mdistribute\u001B[39;00m \u001B[38;5;28;01mimport\u001B[39;00m device_util\n",
      "File \u001B[0;32m~/Desktop/phd/xai/WindowSHAP/venv/lib/python3.9/site-packages/tensorflow/python/data/__init__.py:21\u001B[0m\n\u001B[1;32m     15\u001B[0m \u001B[38;5;124;03m\"\"\"`tf.data.Dataset` API for input pipelines.\u001B[39;00m\n\u001B[1;32m     16\u001B[0m \n\u001B[1;32m     17\u001B[0m \u001B[38;5;124;03mSee [Importing Data](https://tensorflow.org/guide/data) for an overview.\u001B[39;00m\n\u001B[1;32m     18\u001B[0m \u001B[38;5;124;03m\"\"\"\u001B[39;00m\n\u001B[1;32m     20\u001B[0m \u001B[38;5;66;03m# pylint: disable=unused-import\u001B[39;00m\n\u001B[0;32m---> 21\u001B[0m \u001B[38;5;28;01mfrom\u001B[39;00m \u001B[38;5;21;01mtensorflow\u001B[39;00m\u001B[38;5;21;01m.\u001B[39;00m\u001B[38;5;21;01mpython\u001B[39;00m\u001B[38;5;21;01m.\u001B[39;00m\u001B[38;5;21;01mdata\u001B[39;00m \u001B[38;5;28;01mimport\u001B[39;00m experimental\n\u001B[1;32m     22\u001B[0m \u001B[38;5;28;01mfrom\u001B[39;00m \u001B[38;5;21;01mtensorflow\u001B[39;00m\u001B[38;5;21;01m.\u001B[39;00m\u001B[38;5;21;01mpython\u001B[39;00m\u001B[38;5;21;01m.\u001B[39;00m\u001B[38;5;21;01mdata\u001B[39;00m\u001B[38;5;21;01m.\u001B[39;00m\u001B[38;5;21;01mops\u001B[39;00m\u001B[38;5;21;01m.\u001B[39;00m\u001B[38;5;21;01mdataset_ops\u001B[39;00m \u001B[38;5;28;01mimport\u001B[39;00m AUTOTUNE\n\u001B[1;32m     23\u001B[0m \u001B[38;5;28;01mfrom\u001B[39;00m \u001B[38;5;21;01mtensorflow\u001B[39;00m\u001B[38;5;21;01m.\u001B[39;00m\u001B[38;5;21;01mpython\u001B[39;00m\u001B[38;5;21;01m.\u001B[39;00m\u001B[38;5;21;01mdata\u001B[39;00m\u001B[38;5;21;01m.\u001B[39;00m\u001B[38;5;21;01mops\u001B[39;00m\u001B[38;5;21;01m.\u001B[39;00m\u001B[38;5;21;01mdataset_ops\u001B[39;00m \u001B[38;5;28;01mimport\u001B[39;00m Dataset\n",
      "File \u001B[0;32m~/Desktop/phd/xai/WindowSHAP/venv/lib/python3.9/site-packages/tensorflow/python/data/experimental/__init__.py:98\u001B[0m\n\u001B[1;32m     15\u001B[0m \u001B[38;5;124;03m\"\"\"Experimental API for building input pipelines.\u001B[39;00m\n\u001B[1;32m     16\u001B[0m \n\u001B[1;32m     17\u001B[0m \u001B[38;5;124;03mThis module contains experimental `Dataset` sources and transformations that can\u001B[39;00m\n\u001B[0;32m   (...)\u001B[0m\n\u001B[1;32m     94\u001B[0m \u001B[38;5;124;03m@@UNKNOWN_CARDINALITY\u001B[39;00m\n\u001B[1;32m     95\u001B[0m \u001B[38;5;124;03m\"\"\"\u001B[39;00m\n\u001B[1;32m     97\u001B[0m \u001B[38;5;66;03m# pylint: disable=unused-import\u001B[39;00m\n\u001B[0;32m---> 98\u001B[0m \u001B[38;5;28;01mfrom\u001B[39;00m \u001B[38;5;21;01mtensorflow\u001B[39;00m\u001B[38;5;21;01m.\u001B[39;00m\u001B[38;5;21;01mpython\u001B[39;00m\u001B[38;5;21;01m.\u001B[39;00m\u001B[38;5;21;01mdata\u001B[39;00m\u001B[38;5;21;01m.\u001B[39;00m\u001B[38;5;21;01mexperimental\u001B[39;00m \u001B[38;5;28;01mimport\u001B[39;00m service\n\u001B[1;32m     99\u001B[0m \u001B[38;5;28;01mfrom\u001B[39;00m \u001B[38;5;21;01mtensorflow\u001B[39;00m\u001B[38;5;21;01m.\u001B[39;00m\u001B[38;5;21;01mpython\u001B[39;00m\u001B[38;5;21;01m.\u001B[39;00m\u001B[38;5;21;01mdata\u001B[39;00m\u001B[38;5;21;01m.\u001B[39;00m\u001B[38;5;21;01mexperimental\u001B[39;00m\u001B[38;5;21;01m.\u001B[39;00m\u001B[38;5;21;01mops\u001B[39;00m\u001B[38;5;21;01m.\u001B[39;00m\u001B[38;5;21;01mbatching\u001B[39;00m \u001B[38;5;28;01mimport\u001B[39;00m dense_to_ragged_batch\n\u001B[1;32m    100\u001B[0m \u001B[38;5;28;01mfrom\u001B[39;00m \u001B[38;5;21;01mtensorflow\u001B[39;00m\u001B[38;5;21;01m.\u001B[39;00m\u001B[38;5;21;01mpython\u001B[39;00m\u001B[38;5;21;01m.\u001B[39;00m\u001B[38;5;21;01mdata\u001B[39;00m\u001B[38;5;21;01m.\u001B[39;00m\u001B[38;5;21;01mexperimental\u001B[39;00m\u001B[38;5;21;01m.\u001B[39;00m\u001B[38;5;21;01mops\u001B[39;00m\u001B[38;5;21;01m.\u001B[39;00m\u001B[38;5;21;01mbatching\u001B[39;00m \u001B[38;5;28;01mimport\u001B[39;00m dense_to_sparse_batch\n",
      "File \u001B[0;32m~/Desktop/phd/xai/WindowSHAP/venv/lib/python3.9/site-packages/tensorflow/python/data/experimental/service/__init__.py:419\u001B[0m\n\u001B[1;32m      1\u001B[0m \u001B[38;5;66;03m# Copyright 2020 The TensorFlow Authors. All Rights Reserved.\u001B[39;00m\n\u001B[1;32m      2\u001B[0m \u001B[38;5;66;03m#\u001B[39;00m\n\u001B[1;32m      3\u001B[0m \u001B[38;5;66;03m# Licensed under the Apache License, Version 2.0 (the \"License\");\u001B[39;00m\n\u001B[0;32m   (...)\u001B[0m\n\u001B[1;32m     13\u001B[0m \u001B[38;5;66;03m# limitations under the License.\u001B[39;00m\n\u001B[1;32m     14\u001B[0m \u001B[38;5;66;03m# ==============================================================================\u001B[39;00m\n\u001B[1;32m     15\u001B[0m \u001B[38;5;124;03m\"\"\"API for using the tf.data service.\u001B[39;00m\n\u001B[1;32m     16\u001B[0m \n\u001B[1;32m     17\u001B[0m \u001B[38;5;124;03mThis module contains:\u001B[39;00m\n\u001B[0;32m   (...)\u001B[0m\n\u001B[1;32m    416\u001B[0m \u001B[38;5;124;03m  job of ParameterServerStrategy).\u001B[39;00m\n\u001B[1;32m    417\u001B[0m \u001B[38;5;124;03m\"\"\"\u001B[39;00m\n\u001B[0;32m--> 419\u001B[0m \u001B[38;5;28;01mfrom\u001B[39;00m \u001B[38;5;21;01mtensorflow\u001B[39;00m\u001B[38;5;21;01m.\u001B[39;00m\u001B[38;5;21;01mpython\u001B[39;00m\u001B[38;5;21;01m.\u001B[39;00m\u001B[38;5;21;01mdata\u001B[39;00m\u001B[38;5;21;01m.\u001B[39;00m\u001B[38;5;21;01mexperimental\u001B[39;00m\u001B[38;5;21;01m.\u001B[39;00m\u001B[38;5;21;01mops\u001B[39;00m\u001B[38;5;21;01m.\u001B[39;00m\u001B[38;5;21;01mdata_service_ops\u001B[39;00m \u001B[38;5;28;01mimport\u001B[39;00m distribute\n\u001B[1;32m    420\u001B[0m \u001B[38;5;28;01mfrom\u001B[39;00m \u001B[38;5;21;01mtensorflow\u001B[39;00m\u001B[38;5;21;01m.\u001B[39;00m\u001B[38;5;21;01mpython\u001B[39;00m\u001B[38;5;21;01m.\u001B[39;00m\u001B[38;5;21;01mdata\u001B[39;00m\u001B[38;5;21;01m.\u001B[39;00m\u001B[38;5;21;01mexperimental\u001B[39;00m\u001B[38;5;21;01m.\u001B[39;00m\u001B[38;5;21;01mops\u001B[39;00m\u001B[38;5;21;01m.\u001B[39;00m\u001B[38;5;21;01mdata_service_ops\u001B[39;00m \u001B[38;5;28;01mimport\u001B[39;00m from_dataset_id\n\u001B[1;32m    421\u001B[0m \u001B[38;5;28;01mfrom\u001B[39;00m \u001B[38;5;21;01mtensorflow\u001B[39;00m\u001B[38;5;21;01m.\u001B[39;00m\u001B[38;5;21;01mpython\u001B[39;00m\u001B[38;5;21;01m.\u001B[39;00m\u001B[38;5;21;01mdata\u001B[39;00m\u001B[38;5;21;01m.\u001B[39;00m\u001B[38;5;21;01mexperimental\u001B[39;00m\u001B[38;5;21;01m.\u001B[39;00m\u001B[38;5;21;01mops\u001B[39;00m\u001B[38;5;21;01m.\u001B[39;00m\u001B[38;5;21;01mdata_service_ops\u001B[39;00m \u001B[38;5;28;01mimport\u001B[39;00m register_dataset\n",
      "File \u001B[0;32m~/Desktop/phd/xai/WindowSHAP/venv/lib/python3.9/site-packages/tensorflow/python/data/experimental/ops/data_service_ops.py:22\u001B[0m\n\u001B[1;32m     20\u001B[0m \u001B[38;5;28;01mfrom\u001B[39;00m \u001B[38;5;21;01mtensorflow\u001B[39;00m\u001B[38;5;21;01m.\u001B[39;00m\u001B[38;5;21;01mcore\u001B[39;00m\u001B[38;5;21;01m.\u001B[39;00m\u001B[38;5;21;01mprotobuf\u001B[39;00m \u001B[38;5;28;01mimport\u001B[39;00m data_service_pb2\n\u001B[1;32m     21\u001B[0m \u001B[38;5;28;01mfrom\u001B[39;00m \u001B[38;5;21;01mtensorflow\u001B[39;00m\u001B[38;5;21;01m.\u001B[39;00m\u001B[38;5;21;01mpython\u001B[39;00m \u001B[38;5;28;01mimport\u001B[39;00m tf2\n\u001B[0;32m---> 22\u001B[0m \u001B[38;5;28;01mfrom\u001B[39;00m \u001B[38;5;21;01mtensorflow\u001B[39;00m\u001B[38;5;21;01m.\u001B[39;00m\u001B[38;5;21;01mpython\u001B[39;00m\u001B[38;5;21;01m.\u001B[39;00m\u001B[38;5;21;01mdata\u001B[39;00m\u001B[38;5;21;01m.\u001B[39;00m\u001B[38;5;21;01mexperimental\u001B[39;00m\u001B[38;5;21;01m.\u001B[39;00m\u001B[38;5;21;01mops\u001B[39;00m \u001B[38;5;28;01mimport\u001B[39;00m compression_ops\n\u001B[1;32m     23\u001B[0m \u001B[38;5;28;01mfrom\u001B[39;00m \u001B[38;5;21;01mtensorflow\u001B[39;00m\u001B[38;5;21;01m.\u001B[39;00m\u001B[38;5;21;01mpython\u001B[39;00m\u001B[38;5;21;01m.\u001B[39;00m\u001B[38;5;21;01mdata\u001B[39;00m\u001B[38;5;21;01m.\u001B[39;00m\u001B[38;5;21;01mexperimental\u001B[39;00m\u001B[38;5;21;01m.\u001B[39;00m\u001B[38;5;21;01mservice\u001B[39;00m \u001B[38;5;28;01mimport\u001B[39;00m _pywrap_server_lib\n\u001B[1;32m     24\u001B[0m \u001B[38;5;28;01mfrom\u001B[39;00m \u001B[38;5;21;01mtensorflow\u001B[39;00m\u001B[38;5;21;01m.\u001B[39;00m\u001B[38;5;21;01mpython\u001B[39;00m\u001B[38;5;21;01m.\u001B[39;00m\u001B[38;5;21;01mdata\u001B[39;00m\u001B[38;5;21;01m.\u001B[39;00m\u001B[38;5;21;01mexperimental\u001B[39;00m\u001B[38;5;21;01m.\u001B[39;00m\u001B[38;5;21;01mservice\u001B[39;00m \u001B[38;5;28;01mimport\u001B[39;00m _pywrap_utils\n",
      "File \u001B[0;32m~/Desktop/phd/xai/WindowSHAP/venv/lib/python3.9/site-packages/tensorflow/python/data/experimental/ops/compression_ops.py:16\u001B[0m\n\u001B[1;32m      1\u001B[0m \u001B[38;5;66;03m# Copyright 2020 The TensorFlow Authors. All Rights Reserved.\u001B[39;00m\n\u001B[1;32m      2\u001B[0m \u001B[38;5;66;03m#\u001B[39;00m\n\u001B[1;32m      3\u001B[0m \u001B[38;5;66;03m# Licensed under the Apache License, Version 2.0 (the \"License\");\u001B[39;00m\n\u001B[0;32m   (...)\u001B[0m\n\u001B[1;32m     13\u001B[0m \u001B[38;5;66;03m# limitations under the License.\u001B[39;00m\n\u001B[1;32m     14\u001B[0m \u001B[38;5;66;03m# ==============================================================================\u001B[39;00m\n\u001B[1;32m     15\u001B[0m \u001B[38;5;124;03m\"\"\"Ops for compressing and uncompressing dataset elements.\"\"\"\u001B[39;00m\n\u001B[0;32m---> 16\u001B[0m \u001B[38;5;28;01mfrom\u001B[39;00m \u001B[38;5;21;01mtensorflow\u001B[39;00m\u001B[38;5;21;01m.\u001B[39;00m\u001B[38;5;21;01mpython\u001B[39;00m\u001B[38;5;21;01m.\u001B[39;00m\u001B[38;5;21;01mdata\u001B[39;00m\u001B[38;5;21;01m.\u001B[39;00m\u001B[38;5;21;01mutil\u001B[39;00m \u001B[38;5;28;01mimport\u001B[39;00m structure\n\u001B[1;32m     17\u001B[0m \u001B[38;5;28;01mfrom\u001B[39;00m \u001B[38;5;21;01mtensorflow\u001B[39;00m\u001B[38;5;21;01m.\u001B[39;00m\u001B[38;5;21;01mpython\u001B[39;00m\u001B[38;5;21;01m.\u001B[39;00m\u001B[38;5;21;01mops\u001B[39;00m \u001B[38;5;28;01mimport\u001B[39;00m gen_experimental_dataset_ops \u001B[38;5;28;01mas\u001B[39;00m ged_ops\n\u001B[1;32m     20\u001B[0m \u001B[38;5;28;01mdef\u001B[39;00m \u001B[38;5;21mcompress\u001B[39m(element):\n",
      "File \u001B[0;32m~/Desktop/phd/xai/WindowSHAP/venv/lib/python3.9/site-packages/tensorflow/python/data/util/structure.py:32\u001B[0m\n\u001B[1;32m     30\u001B[0m \u001B[38;5;28;01mfrom\u001B[39;00m \u001B[38;5;21;01mtensorflow\u001B[39;00m\u001B[38;5;21;01m.\u001B[39;00m\u001B[38;5;21;01mpython\u001B[39;00m\u001B[38;5;21;01m.\u001B[39;00m\u001B[38;5;21;01mops\u001B[39;00m \u001B[38;5;28;01mimport\u001B[39;00m resource_variable_ops\n\u001B[1;32m     31\u001B[0m \u001B[38;5;28;01mfrom\u001B[39;00m \u001B[38;5;21;01mtensorflow\u001B[39;00m\u001B[38;5;21;01m.\u001B[39;00m\u001B[38;5;21;01mpython\u001B[39;00m\u001B[38;5;21;01m.\u001B[39;00m\u001B[38;5;21;01mops\u001B[39;00m \u001B[38;5;28;01mimport\u001B[39;00m tensor_array_ops\n\u001B[0;32m---> 32\u001B[0m \u001B[38;5;28;01mfrom\u001B[39;00m \u001B[38;5;21;01mtensorflow\u001B[39;00m\u001B[38;5;21;01m.\u001B[39;00m\u001B[38;5;21;01mpython\u001B[39;00m\u001B[38;5;21;01m.\u001B[39;00m\u001B[38;5;21;01mops\u001B[39;00m\u001B[38;5;21;01m.\u001B[39;00m\u001B[38;5;21;01mragged\u001B[39;00m \u001B[38;5;28;01mimport\u001B[39;00m ragged_tensor\n\u001B[1;32m     33\u001B[0m \u001B[38;5;28;01mfrom\u001B[39;00m \u001B[38;5;21;01mtensorflow\u001B[39;00m\u001B[38;5;21;01m.\u001B[39;00m\u001B[38;5;21;01mpython\u001B[39;00m\u001B[38;5;21;01m.\u001B[39;00m\u001B[38;5;21;01mplatform\u001B[39;00m \u001B[38;5;28;01mimport\u001B[39;00m tf_logging \u001B[38;5;28;01mas\u001B[39;00m logging\n\u001B[1;32m     34\u001B[0m \u001B[38;5;28;01mfrom\u001B[39;00m \u001B[38;5;21;01mtensorflow\u001B[39;00m\u001B[38;5;21;01m.\u001B[39;00m\u001B[38;5;21;01mpython\u001B[39;00m\u001B[38;5;21;01m.\u001B[39;00m\u001B[38;5;21;01mtypes\u001B[39;00m \u001B[38;5;28;01mimport\u001B[39;00m internal\n",
      "File \u001B[0;32m~/Desktop/phd/xai/WindowSHAP/venv/lib/python3.9/site-packages/tensorflow/python/ops/ragged/ragged_tensor.py:3149\u001B[0m\n\u001B[1;32m   3144\u001B[0m RaggedOrDense \u001B[38;5;241m=\u001B[39m typing\u001B[38;5;241m.\u001B[39mUnion[Ragged, core_types\u001B[38;5;241m.\u001B[39mTensorLike]\n\u001B[1;32m   3146\u001B[0m \u001B[38;5;66;03m# RaggedTensor must import ragged_ops to ensure that all dispatched ragged ops\u001B[39;00m\n\u001B[1;32m   3147\u001B[0m \u001B[38;5;66;03m# are registered. Ragged ops import RaggedTensor, so import at bottom of the\u001B[39;00m\n\u001B[1;32m   3148\u001B[0m \u001B[38;5;66;03m# file to avoid a partially-initialized module error.\u001B[39;00m\n\u001B[0;32m-> 3149\u001B[0m \u001B[38;5;28;01mfrom\u001B[39;00m \u001B[38;5;21;01mtensorflow\u001B[39;00m\u001B[38;5;21;01m.\u001B[39;00m\u001B[38;5;21;01mpython\u001B[39;00m\u001B[38;5;21;01m.\u001B[39;00m\u001B[38;5;21;01mops\u001B[39;00m\u001B[38;5;21;01m.\u001B[39;00m\u001B[38;5;21;01mragged\u001B[39;00m \u001B[38;5;28;01mimport\u001B[39;00m ragged_ops  \u001B[38;5;66;03m# pylint: disable=unused-import, g-bad-import-order, g-import-not-at-top\u001B[39;00m\n",
      "File \u001B[0;32m~/Desktop/phd/xai/WindowSHAP/venv/lib/python3.9/site-packages/tensorflow/python/ops/ragged/ragged_ops.py:27\u001B[0m\n\u001B[1;32m     15\u001B[0m \u001B[38;5;124;03m\"\"\"Import all modules in the `ragged` package that define exported symbols.\u001B[39;00m\n\u001B[1;32m     16\u001B[0m \n\u001B[1;32m     17\u001B[0m \u001B[38;5;124;03mAdditional, import ragged_dispatch (which has the side-effect of registering\u001B[39;00m\n\u001B[0;32m   (...)\u001B[0m\n\u001B[1;32m     22\u001B[0m \u001B[38;5;124;03mcircular dependencies.\u001B[39;00m\n\u001B[1;32m     23\u001B[0m \u001B[38;5;124;03m\"\"\"\u001B[39;00m\n\u001B[1;32m     26\u001B[0m \u001B[38;5;66;03m# pylint: disable=unused-import\u001B[39;00m\n\u001B[0;32m---> 27\u001B[0m \u001B[38;5;28;01mfrom\u001B[39;00m \u001B[38;5;21;01mtensorflow\u001B[39;00m\u001B[38;5;21;01m.\u001B[39;00m\u001B[38;5;21;01mpython\u001B[39;00m\u001B[38;5;21;01m.\u001B[39;00m\u001B[38;5;21;01mops\u001B[39;00m\u001B[38;5;21;01m.\u001B[39;00m\u001B[38;5;21;01mragged\u001B[39;00m \u001B[38;5;28;01mimport\u001B[39;00m ragged_array_ops\n\u001B[1;32m     28\u001B[0m \u001B[38;5;28;01mfrom\u001B[39;00m \u001B[38;5;21;01mtensorflow\u001B[39;00m\u001B[38;5;21;01m.\u001B[39;00m\u001B[38;5;21;01mpython\u001B[39;00m\u001B[38;5;21;01m.\u001B[39;00m\u001B[38;5;21;01mops\u001B[39;00m\u001B[38;5;21;01m.\u001B[39;00m\u001B[38;5;21;01mragged\u001B[39;00m \u001B[38;5;28;01mimport\u001B[39;00m ragged_autograph\n\u001B[1;32m     29\u001B[0m \u001B[38;5;28;01mfrom\u001B[39;00m \u001B[38;5;21;01mtensorflow\u001B[39;00m\u001B[38;5;21;01m.\u001B[39;00m\u001B[38;5;21;01mpython\u001B[39;00m\u001B[38;5;21;01m.\u001B[39;00m\u001B[38;5;21;01mops\u001B[39;00m\u001B[38;5;21;01m.\u001B[39;00m\u001B[38;5;21;01mragged\u001B[39;00m \u001B[38;5;28;01mimport\u001B[39;00m ragged_batch_gather_ops\n",
      "File \u001B[0;32m~/Desktop/phd/xai/WindowSHAP/venv/lib/python3.9/site-packages/tensorflow/python/ops/ragged/ragged_array_ops.py:34\u001B[0m\n\u001B[1;32m     32\u001B[0m \u001B[38;5;28;01mfrom\u001B[39;00m \u001B[38;5;21;01mtensorflow\u001B[39;00m\u001B[38;5;21;01m.\u001B[39;00m\u001B[38;5;21;01mpython\u001B[39;00m\u001B[38;5;21;01m.\u001B[39;00m\u001B[38;5;21;01mops\u001B[39;00m \u001B[38;5;28;01mimport\u001B[39;00m math_ops\n\u001B[1;32m     33\u001B[0m \u001B[38;5;28;01mfrom\u001B[39;00m \u001B[38;5;21;01mtensorflow\u001B[39;00m\u001B[38;5;21;01m.\u001B[39;00m\u001B[38;5;21;01mpython\u001B[39;00m\u001B[38;5;21;01m.\u001B[39;00m\u001B[38;5;21;01mops\u001B[39;00m \u001B[38;5;28;01mimport\u001B[39;00m sort_ops\n\u001B[0;32m---> 34\u001B[0m \u001B[38;5;28;01mfrom\u001B[39;00m \u001B[38;5;21;01mtensorflow\u001B[39;00m\u001B[38;5;21;01m.\u001B[39;00m\u001B[38;5;21;01mpython\u001B[39;00m\u001B[38;5;21;01m.\u001B[39;00m\u001B[38;5;21;01mops\u001B[39;00m\u001B[38;5;21;01m.\u001B[39;00m\u001B[38;5;21;01mragged\u001B[39;00m \u001B[38;5;28;01mimport\u001B[39;00m dynamic_ragged_shape\n\u001B[1;32m     35\u001B[0m \u001B[38;5;28;01mfrom\u001B[39;00m \u001B[38;5;21;01mtensorflow\u001B[39;00m\u001B[38;5;21;01m.\u001B[39;00m\u001B[38;5;21;01mpython\u001B[39;00m\u001B[38;5;21;01m.\u001B[39;00m\u001B[38;5;21;01mops\u001B[39;00m\u001B[38;5;21;01m.\u001B[39;00m\u001B[38;5;21;01mragged\u001B[39;00m \u001B[38;5;28;01mimport\u001B[39;00m ragged_functional_ops\n\u001B[1;32m     36\u001B[0m \u001B[38;5;28;01mfrom\u001B[39;00m \u001B[38;5;21;01mtensorflow\u001B[39;00m\u001B[38;5;21;01m.\u001B[39;00m\u001B[38;5;21;01mpython\u001B[39;00m\u001B[38;5;21;01m.\u001B[39;00m\u001B[38;5;21;01mops\u001B[39;00m\u001B[38;5;21;01m.\u001B[39;00m\u001B[38;5;21;01mragged\u001B[39;00m \u001B[38;5;28;01mimport\u001B[39;00m ragged_math_ops\n",
      "File \u001B[0;32m~/Desktop/phd/xai/WindowSHAP/venv/lib/python3.9/site-packages/tensorflow/python/ops/ragged/dynamic_ragged_shape.py:27\u001B[0m\n\u001B[1;32m     25\u001B[0m \u001B[38;5;28;01mfrom\u001B[39;00m \u001B[38;5;21;01mtensorflow\u001B[39;00m\u001B[38;5;21;01m.\u001B[39;00m\u001B[38;5;21;01mpython\u001B[39;00m\u001B[38;5;21;01m.\u001B[39;00m\u001B[38;5;21;01mframework\u001B[39;00m \u001B[38;5;28;01mimport\u001B[39;00m constant_op\n\u001B[1;32m     26\u001B[0m \u001B[38;5;28;01mfrom\u001B[39;00m \u001B[38;5;21;01mtensorflow\u001B[39;00m\u001B[38;5;21;01m.\u001B[39;00m\u001B[38;5;21;01mpython\u001B[39;00m\u001B[38;5;21;01m.\u001B[39;00m\u001B[38;5;21;01mframework\u001B[39;00m \u001B[38;5;28;01mimport\u001B[39;00m dtypes\n\u001B[0;32m---> 27\u001B[0m \u001B[38;5;28;01mfrom\u001B[39;00m \u001B[38;5;21;01mtensorflow\u001B[39;00m\u001B[38;5;21;01m.\u001B[39;00m\u001B[38;5;21;01mpython\u001B[39;00m\u001B[38;5;21;01m.\u001B[39;00m\u001B[38;5;21;01mframework\u001B[39;00m \u001B[38;5;28;01mimport\u001B[39;00m extension_type\n\u001B[1;32m     28\u001B[0m \u001B[38;5;28;01mfrom\u001B[39;00m \u001B[38;5;21;01mtensorflow\u001B[39;00m\u001B[38;5;21;01m.\u001B[39;00m\u001B[38;5;21;01mpython\u001B[39;00m\u001B[38;5;21;01m.\u001B[39;00m\u001B[38;5;21;01mframework\u001B[39;00m \u001B[38;5;28;01mimport\u001B[39;00m ops\n\u001B[1;32m     29\u001B[0m \u001B[38;5;28;01mfrom\u001B[39;00m \u001B[38;5;21;01mtensorflow\u001B[39;00m\u001B[38;5;21;01m.\u001B[39;00m\u001B[38;5;21;01mpython\u001B[39;00m\u001B[38;5;21;01m.\u001B[39;00m\u001B[38;5;21;01mframework\u001B[39;00m \u001B[38;5;28;01mimport\u001B[39;00m tensor \u001B[38;5;28;01mas\u001B[39;00m tensor_lib\n",
      "File \u001B[0;32m~/Desktop/phd/xai/WindowSHAP/venv/lib/python3.9/site-packages/tensorflow/python/framework/extension_type.py:34\u001B[0m\n\u001B[1;32m     32\u001B[0m \u001B[38;5;28;01mfrom\u001B[39;00m \u001B[38;5;21;01mtensorflow\u001B[39;00m\u001B[38;5;21;01m.\u001B[39;00m\u001B[38;5;21;01mpython\u001B[39;00m\u001B[38;5;21;01m.\u001B[39;00m\u001B[38;5;21;01mops\u001B[39;00m \u001B[38;5;28;01mimport\u001B[39;00m array_ops\n\u001B[1;32m     33\u001B[0m \u001B[38;5;28;01mfrom\u001B[39;00m \u001B[38;5;21;01mtensorflow\u001B[39;00m\u001B[38;5;21;01m.\u001B[39;00m\u001B[38;5;21;01mpython\u001B[39;00m\u001B[38;5;21;01m.\u001B[39;00m\u001B[38;5;21;01mops\u001B[39;00m \u001B[38;5;28;01mimport\u001B[39;00m array_ops_stack\n\u001B[0;32m---> 34\u001B[0m \u001B[38;5;28;01mfrom\u001B[39;00m \u001B[38;5;21;01mtensorflow\u001B[39;00m\u001B[38;5;21;01m.\u001B[39;00m\u001B[38;5;21;01mpython\u001B[39;00m\u001B[38;5;21;01m.\u001B[39;00m\u001B[38;5;21;01mops\u001B[39;00m \u001B[38;5;28;01mimport\u001B[39;00m composite_tensor_ops\n\u001B[1;32m     35\u001B[0m \u001B[38;5;28;01mfrom\u001B[39;00m \u001B[38;5;21;01mtensorflow\u001B[39;00m\u001B[38;5;21;01m.\u001B[39;00m\u001B[38;5;21;01mpython\u001B[39;00m\u001B[38;5;21;01m.\u001B[39;00m\u001B[38;5;21;01mops\u001B[39;00m \u001B[38;5;28;01mimport\u001B[39;00m gen_math_ops\n\u001B[1;32m     36\u001B[0m \u001B[38;5;28;01mfrom\u001B[39;00m \u001B[38;5;21;01mtensorflow\u001B[39;00m\u001B[38;5;21;01m.\u001B[39;00m\u001B[38;5;21;01mpython\u001B[39;00m\u001B[38;5;21;01m.\u001B[39;00m\u001B[38;5;21;01mops\u001B[39;00m \u001B[38;5;28;01mimport\u001B[39;00m math_ops\n",
      "File \u001B[0;32m<frozen importlib._bootstrap>:1007\u001B[0m, in \u001B[0;36m_find_and_load\u001B[0;34m(name, import_)\u001B[0m\n",
      "File \u001B[0;32m<frozen importlib._bootstrap>:986\u001B[0m, in \u001B[0;36m_find_and_load_unlocked\u001B[0;34m(name, import_)\u001B[0m\n",
      "File \u001B[0;32m<frozen importlib._bootstrap>:680\u001B[0m, in \u001B[0;36m_load_unlocked\u001B[0;34m(spec)\u001B[0m\n",
      "File \u001B[0;32m<frozen importlib._bootstrap_external>:846\u001B[0m, in \u001B[0;36mexec_module\u001B[0;34m(self, module)\u001B[0m\n",
      "File \u001B[0;32m<frozen importlib._bootstrap_external>:978\u001B[0m, in \u001B[0;36mget_code\u001B[0;34m(self, fullname)\u001B[0m\n",
      "File \u001B[0;32m<frozen importlib._bootstrap_external>:647\u001B[0m, in \u001B[0;36m_compile_bytecode\u001B[0;34m(data, name, bytecode_path, source_path)\u001B[0m\n",
      "\u001B[0;31mKeyboardInterrupt\u001B[0m: "
     ]
    }
   ],
   "source": [
    "import timeit\n",
    "import warnings\n",
    "\n",
    "import numpy as np\n",
    "import shap\n",
    "from sklearn.model_selection import train_test_split\n",
    "from tensorflow.keras import backend as K\n",
    "\n",
    "from windowshap import SlidingWindowSHAP, StationaryWindowSHAP, DynamicWindowSHAP\n",
    "\n",
    "warnings.filterwarnings('ignore')\n",
    "\n",
    "%matplotlib inline\n",
    "shap.initjs()"
   ],
   "metadata": {
    "collapsed": false,
    "ExecuteTime": {
     "start_time": "2024-01-18T17:43:25.413653Z"
    }
   }
  },
  {
   "cell_type": "markdown",
   "metadata": {},
   "source": [
    "This function generates a synthetic time series in which each feature sequence is generated using the sin() or cos() function. However, an anomaly interval is inserted at random into one of the feature sequences. If the feature with the anomaly is the first feature, the sample label is 1; otherwise, it is 0."
   ]
  },
  {
   "cell_type": "code",
   "execution_count": 2,
   "metadata": {
    "ExecuteTime": {
     "end_time": "2024-01-14T15:27:04.901105Z",
     "start_time": "2024-01-14T15:27:04.887046Z"
    }
   },
   "outputs": [],
   "source": [
    "def synthetic_data(n_samples=100, n_steps=10, n_features=4):\n",
    "    # Creating input data\n",
    "    lam = 0.2\n",
    "    anomaly_lam = 10\n",
    "    eps = np.random.normal\n",
    "    x = np.zeros((n_samples, n_steps, n_features))\n",
    "    labels = np.zeros(n_samples)\n",
    "    for i in range(n_samples):\n",
    "        t0 = np.random.randint(1, 5, size=n_features)\n",
    "        w = np.random.randint(1, 5, size=n_features)\n",
    "        t = np.arange(n_steps)\n",
    "        for j in range(n_features):\n",
    "            if j % 2 == 0:\n",
    "                x[i, :, j] = np.sin((t - t0[j]) / w[j])\n",
    "            else:\n",
    "                x[i, :, j] = np.cos((t - t0[j]) / w[j])\n",
    "            x[i, :, j] = x[i, :, j] + lam * eps(size=n_steps)\n",
    "\n",
    "        # adding anomaly\n",
    "        #         anom_dur = np.random.randint(n_steps/10, n_steps/2)\n",
    "        anom_dur = 20\n",
    "        anom_start = np.random.randint(0, n_steps - anom_dur)\n",
    "        anom_end = anom_start + anom_dur\n",
    "\n",
    "        anom_j = np.random.randint(0, n_features)\n",
    "        x[i, anom_start:anom_end, anom_j] += anomaly_lam * eps(size=anom_dur)\n",
    "\n",
    "        # Creating the label\n",
    "        labels[i] = 1 if anom_j == 0 else 0\n",
    "    return x, labels"
   ]
  },
  {
   "cell_type": "markdown",
   "metadata": {},
   "source": [
    "Data seperation to test and train"
   ]
  },
  {
   "cell_type": "code",
   "execution_count": 3,
   "metadata": {
    "ExecuteTime": {
     "end_time": "2024-01-14T15:27:06.510136Z",
     "start_time": "2024-01-14T15:27:04.894005Z"
    }
   },
   "outputs": [],
   "source": [
    "x, label = synthetic_data(n_samples=10000, n_steps=120, n_features=4)\n",
    "train_x, test_x, train_y, test_y = train_test_split(x, label, test_size=0.3, random_state=0,\n",
    "                                                    stratify=label)\n",
    "train_x, val_x, train_y, val_y = train_test_split(train_x, train_y, test_size=0.2, random_state=0,\n",
    "                                                  stratify=train_y)"
   ]
  },
  {
   "cell_type": "markdown",
   "metadata": {},
   "source": [
    "# Prediction Model"
   ]
  },
  {
   "cell_type": "code",
   "execution_count": 4,
   "metadata": {
    "tags": [],
    "ExecuteTime": {
     "end_time": "2024-01-14T15:27:32.508701Z",
     "start_time": "2024-01-14T15:27:06.518175Z"
    }
   },
   "outputs": [
    {
     "name": "stdout",
     "output_type": "stream",
     "text": [
      "Model: \"sequential\"\n",
      "_________________________________________________________________\n",
      " Layer (type)                Output Shape              Param #   \n",
      "=================================================================\n",
      " gru (GRU)                   (None, 200)               123600    \n",
      "                                                                 \n",
      " dropout (Dropout)           (None, 200)               0         \n",
      "                                                                 \n",
      " dense (Dense)               (None, 70)                14070     \n",
      "                                                                 \n",
      " dropout_1 (Dropout)         (None, 70)                0         \n",
      "                                                                 \n",
      " dense_1 (Dense)             (None, 20)                1420      \n",
      "                                                                 \n",
      " dense_2 (Dense)             (None, 1)                 21        \n",
      "                                                                 \n",
      "=================================================================\n",
      "Total params: 139111 (543.40 KB)\n",
      "Trainable params: 139111 (543.40 KB)\n",
      "Non-trainable params: 0 (0.00 Byte)\n",
      "_________________________________________________________________\n",
      "175/175 - 25s - loss: 1.9173 - accuracy: 0.3659 - val_loss: 1.2073 - val_accuracy: 0.6536 - 25s/epoch - 145ms/step\n"
     ]
    }
   ],
   "source": [
    "from tensorflow.keras.layers import Dense, Dropout, GRU\n",
    "from tensorflow.keras.callbacks import EarlyStopping\n",
    "from tensorflow.keras import Sequential\n",
    "from tensorflow.keras.optimizers import SGD\n",
    "from tensorflow.keras import regularizers\n",
    "\n",
    "num_hidden = [70, 20]\n",
    "num_neurons = 200\n",
    "es_patience = 20\n",
    "epochs = 1\n",
    "num_output = 1\n",
    "batch_size = 32\n",
    "drop_rate = 0.3\n",
    "reg_rate = 0.004\n",
    "\n",
    "K.clear_session()\n",
    "model = Sequential()\n",
    "input_shape = (x.shape[1], x.shape[2])\n",
    "model.add(GRU(units=num_neurons, activation='relu', input_shape=input_shape,\n",
    "              recurrent_dropout=0.1, dropout=0.1))\n",
    "for i in num_hidden:\n",
    "    model.add(Dropout(drop_rate))\n",
    "    model.add(Dense(units=i, activation='relu', kernel_regularizer=regularizers.l2(reg_rate)))\n",
    "model.add(Dense(units=num_output, activation='sigmoid'))\n",
    "\n",
    "# Creating and compiling model\n",
    "es = EarlyStopping(monitor='val_loss', mode='min', verbose=1, patience=es_patience)\n",
    "\n",
    "# Class weights\n",
    "class_weights = {0: len(train_y) / (train_y == 0).sum(),\n",
    "                 1: len(train_y) / (train_y == 1).sum()}\n",
    "\n",
    "model.compile(optimizer=SGD(learning_rate=0.01, clipvalue=0.5), loss='binary_crossentropy',\n",
    "              metrics=['accuracy'])\n",
    "# model.build(input_shape)\n",
    "model.summary()\n",
    "train_history = model.fit(train_x, train_y, batch_size=batch_size,\n",
    "                          epochs=epochs, verbose=2,\n",
    "                          validation_data=(val_x, val_y),\n",
    "                          class_weight=class_weights,\n",
    "                          callbacks=[es])"
   ]
  },
  {
   "cell_type": "code",
   "execution_count": 5,
   "metadata": {
    "ExecuteTime": {
     "end_time": "2024-01-14T15:27:38.107982Z",
     "start_time": "2024-01-14T15:27:32.505115Z"
    }
   },
   "outputs": [
    {
     "name": "stdout",
     "output_type": "stream",
     "text": [
      "94/94 [==============================] - 3s 27ms/step\n",
      "0.5079302856345792\n",
      "94/94 [==============================] - 2s 26ms/step\n",
      "0.649\n"
     ]
    }
   ],
   "source": [
    "from sklearn.metrics import roc_auc_score, accuracy_score\n",
    "\n",
    "print(roc_auc_score(test_y, model.predict(test_x)))\n",
    "print(accuracy_score(test_y, np.round(model.predict(test_x))))"
   ]
  },
  {
   "cell_type": "code",
   "execution_count": 6,
   "metadata": {
    "ExecuteTime": {
     "end_time": "2024-01-14T15:27:38.109304Z",
     "start_time": "2024-01-14T15:27:38.094594Z"
    }
   },
   "outputs": [
    {
     "data": {
      "text/plain": "array([0., 1., 0., 0., 0., 0., 1., 0., 0., 0.])"
     },
     "execution_count": 6,
     "metadata": {},
     "output_type": "execute_result"
    }
   ],
   "source": [
    "test_y[20:30]"
   ]
  },
  {
   "cell_type": "markdown",
   "metadata": {},
   "source": [
    "## SHAP interpretation"
   ]
  },
  {
   "cell_type": "code",
   "execution_count": 7,
   "metadata": {
    "ExecuteTime": {
     "end_time": "2024-01-14T15:27:38.110398Z",
     "start_time": "2024-01-14T15:27:38.103711Z"
    }
   },
   "outputs": [],
   "source": [
    "num_background = 50\n",
    "num_test = 28\n",
    "background_data, test_data = train_x[:num_background], test_x[num_test:num_test + 2]"
   ]
  },
  {
   "cell_type": "markdown",
   "metadata": {},
   "source": [
    "## 1- Stationary WindowSHAP"
   ]
  },
  {
   "cell_type": "code",
   "execution_count": 9,
   "metadata": {
    "tags": [],
    "ExecuteTime": {
     "end_time": "2024-01-14T14:17:46.590315Z",
     "start_time": "2024-01-14T14:08:09.483502Z"
    }
   },
   "outputs": [
    {
     "name": "stdout",
     "output_type": "stream",
     "text": [
      "2/2 [==============================] - 0s 21ms/step\n"
     ]
    },
    {
     "data": {
      "text/plain": "  0%|          | 0/1 [00:00<?, ?it/s]",
      "application/vnd.jupyter.widget-view+json": {
       "version_major": 2,
       "version_minor": 0,
       "model_id": "6eb2df96658847328f0d928b834f68b0"
      }
     },
     "metadata": {},
     "output_type": "display_data"
    },
    {
     "name": "stdout",
     "output_type": "stream",
     "text": [
      "1/1 [==============================] - 0s 51ms/step\n",
      "3275/3275 [==============================] - 143s 44ms/step\n",
      "2/2 [==============================] - 0s 61ms/step\n"
     ]
    },
    {
     "data": {
      "text/plain": "  0%|          | 0/1 [00:00<?, ?it/s]",
      "application/vnd.jupyter.widget-view+json": {
       "version_major": 2,
       "version_minor": 0,
       "model_id": "f31119e0276545d9a506a91860d01608"
      }
     },
     "metadata": {},
     "output_type": "display_data"
    },
    {
     "name": "stdout",
     "output_type": "stream",
     "text": [
      "1/1 [==============================] - 0s 64ms/step\n",
      "3275/3275 [==============================] - 102s 31ms/step\n",
      "Total time: 577.0905338590001\n"
     ]
    }
   ],
   "source": [
    "tic = timeit.default_timer()\n",
    "ts_phi_1 = np.zeros((len(test_data), test_data.shape[1], test_data.shape[2]))\n",
    "for i in range(len(test_data)):\n",
    "    window_len = 20\n",
    "    gtw = StationaryWindowSHAP(model, window_len, B_ts=background_data, test_ts=test_data[i:i + 1], model_type='lstm')\n",
    "    ts_phi_1[i, :, :] = gtw.shap_values()\n",
    "print('Total time: ' + str(timeit.default_timer() - tic))"
   ]
  },
  {
   "cell_type": "markdown",
   "metadata": {},
   "source": [
    "## 2- Sliding WindowSHAP"
   ]
  },
  {
   "cell_type": "code",
   "execution_count": 8,
   "metadata": {
    "tags": [],
    "ExecuteTime": {
     "end_time": "2024-01-14T15:28:57.672031Z",
     "start_time": "2024-01-14T15:27:38.111867Z"
    }
   },
   "outputs": [
    {
     "name": "stdout",
     "output_type": "stream",
     "text": [
      "2/2 [==============================] - 0s 22ms/step\n"
     ]
    },
    {
     "data": {
      "text/plain": "  0%|          | 0/1 [00:00<?, ?it/s]",
      "application/vnd.jupyter.widget-view+json": {
       "version_major": 2,
       "version_minor": 0,
       "model_id": "1521596f03d3451d984b8c55c726de1a"
      }
     },
     "metadata": {},
     "output_type": "display_data"
    },
    {
     "name": "stdout",
     "output_type": "stream",
     "text": [
      "1/1 [==============================] - 0s 44ms/step\n",
      "63/63 [==============================] - 2s 26ms/step\n",
      "2/2 [==============================] - 0s 27ms/step\n"
     ]
    },
    {
     "data": {
      "text/plain": "  0%|          | 0/1 [00:00<?, ?it/s]",
      "application/vnd.jupyter.widget-view+json": {
       "version_major": 2,
       "version_minor": 0,
       "model_id": "dda19ee9b7e243edba897b42a0353fb0"
      }
     },
     "metadata": {},
     "output_type": "display_data"
    },
    {
     "name": "stdout",
     "output_type": "stream",
     "text": [
      "1/1 [==============================] - 0s 28ms/step\n",
      "63/63 [==============================] - 2s 24ms/step\n",
      "2/2 [==============================] - 0s 28ms/step\n"
     ]
    },
    {
     "data": {
      "text/plain": "  0%|          | 0/1 [00:00<?, ?it/s]",
      "application/vnd.jupyter.widget-view+json": {
       "version_major": 2,
       "version_minor": 0,
       "model_id": "3978c3cbf8364aa28a6a4732ed8785d6"
      }
     },
     "metadata": {},
     "output_type": "display_data"
    },
    {
     "name": "stdout",
     "output_type": "stream",
     "text": [
      "1/1 [==============================] - 0s 29ms/step\n",
      "63/63 [==============================] - 1s 23ms/step\n",
      "2/2 [==============================] - 0s 23ms/step\n"
     ]
    },
    {
     "data": {
      "text/plain": "  0%|          | 0/1 [00:00<?, ?it/s]",
      "application/vnd.jupyter.widget-view+json": {
       "version_major": 2,
       "version_minor": 0,
       "model_id": "2f24a2fcebb044c0b68945aa2f49e520"
      }
     },
     "metadata": {},
     "output_type": "display_data"
    },
    {
     "name": "stdout",
     "output_type": "stream",
     "text": [
      "1/1 [==============================] - 0s 26ms/step\n",
      "63/63 [==============================] - 1s 22ms/step\n",
      "2/2 [==============================] - 0s 21ms/step\n"
     ]
    },
    {
     "data": {
      "text/plain": "  0%|          | 0/1 [00:00<?, ?it/s]",
      "application/vnd.jupyter.widget-view+json": {
       "version_major": 2,
       "version_minor": 0,
       "model_id": "079e22b38a22463d832d8d74b8280f00"
      }
     },
     "metadata": {},
     "output_type": "display_data"
    },
    {
     "name": "stdout",
     "output_type": "stream",
     "text": [
      "1/1 [==============================] - 0s 28ms/step\n",
      "63/63 [==============================] - 1s 22ms/step\n",
      "2/2 [==============================] - 0s 23ms/step\n"
     ]
    },
    {
     "data": {
      "text/plain": "  0%|          | 0/1 [00:00<?, ?it/s]",
      "application/vnd.jupyter.widget-view+json": {
       "version_major": 2,
       "version_minor": 0,
       "model_id": "7fd0884f73dc449b9af6a0590a9e1ffb"
      }
     },
     "metadata": {},
     "output_type": "display_data"
    },
    {
     "name": "stdout",
     "output_type": "stream",
     "text": [
      "1/1 [==============================] - 0s 30ms/step\n",
      "63/63 [==============================] - 1s 22ms/step\n",
      "2/2 [==============================] - 0s 20ms/step\n"
     ]
    },
    {
     "data": {
      "text/plain": "  0%|          | 0/1 [00:00<?, ?it/s]",
      "application/vnd.jupyter.widget-view+json": {
       "version_major": 2,
       "version_minor": 0,
       "model_id": "d87865df5b16413ba1e5c18aa2010340"
      }
     },
     "metadata": {},
     "output_type": "display_data"
    },
    {
     "name": "stdout",
     "output_type": "stream",
     "text": [
      "1/1 [==============================] - 0s 32ms/step\n",
      "63/63 [==============================] - 1s 21ms/step\n",
      "2/2 [==============================] - 0s 20ms/step\n"
     ]
    },
    {
     "data": {
      "text/plain": "  0%|          | 0/1 [00:00<?, ?it/s]",
      "application/vnd.jupyter.widget-view+json": {
       "version_major": 2,
       "version_minor": 0,
       "model_id": "3b61276bdb9b40eda22ddef28b0eaeac"
      }
     },
     "metadata": {},
     "output_type": "display_data"
    },
    {
     "name": "stdout",
     "output_type": "stream",
     "text": [
      "1/1 [==============================] - 0s 27ms/step\n",
      "63/63 [==============================] - 1s 22ms/step\n",
      "2/2 [==============================] - 0s 20ms/step\n"
     ]
    },
    {
     "data": {
      "text/plain": "  0%|          | 0/1 [00:00<?, ?it/s]",
      "application/vnd.jupyter.widget-view+json": {
       "version_major": 2,
       "version_minor": 0,
       "model_id": "1bf65715a5f347538d57d19037eedd4f"
      }
     },
     "metadata": {},
     "output_type": "display_data"
    },
    {
     "name": "stdout",
     "output_type": "stream",
     "text": [
      "1/1 [==============================] - 0s 37ms/step\n",
      "63/63 [==============================] - 1s 21ms/step\n",
      "2/2 [==============================] - 0s 30ms/step\n"
     ]
    },
    {
     "data": {
      "text/plain": "  0%|          | 0/1 [00:00<?, ?it/s]",
      "application/vnd.jupyter.widget-view+json": {
       "version_major": 2,
       "version_minor": 0,
       "model_id": "3a133fda53bb4f1e80bf356a1d43a388"
      }
     },
     "metadata": {},
     "output_type": "display_data"
    },
    {
     "name": "stdout",
     "output_type": "stream",
     "text": [
      "1/1 [==============================] - 0s 30ms/step\n",
      "63/63 [==============================] - 1s 21ms/step\n",
      "2/2 [==============================] - 0s 25ms/step\n"
     ]
    },
    {
     "data": {
      "text/plain": "  0%|          | 0/1 [00:00<?, ?it/s]",
      "application/vnd.jupyter.widget-view+json": {
       "version_major": 2,
       "version_minor": 0,
       "model_id": "c5537f3605f54df0bd3ce5fbfbb80189"
      }
     },
     "metadata": {},
     "output_type": "display_data"
    },
    {
     "name": "stdout",
     "output_type": "stream",
     "text": [
      "1/1 [==============================] - 0s 32ms/step\n",
      "63/63 [==============================] - 1s 22ms/step\n",
      "2/2 [==============================] - 0s 25ms/step\n"
     ]
    },
    {
     "data": {
      "text/plain": "  0%|          | 0/1 [00:00<?, ?it/s]",
      "application/vnd.jupyter.widget-view+json": {
       "version_major": 2,
       "version_minor": 0,
       "model_id": "6dc6d74d53444cb6b20e6a351a6f1172"
      }
     },
     "metadata": {},
     "output_type": "display_data"
    },
    {
     "name": "stdout",
     "output_type": "stream",
     "text": [
      "1/1 [==============================] - 0s 33ms/step\n",
      "63/63 [==============================] - 2s 37ms/step\n",
      "2/2 [==============================] - 0s 38ms/step\n"
     ]
    },
    {
     "data": {
      "text/plain": "  0%|          | 0/1 [00:00<?, ?it/s]",
      "application/vnd.jupyter.widget-view+json": {
       "version_major": 2,
       "version_minor": 0,
       "model_id": "54c022e3037045fc9d069ef4d04b5ffc"
      }
     },
     "metadata": {},
     "output_type": "display_data"
    },
    {
     "name": "stdout",
     "output_type": "stream",
     "text": [
      "1/1 [==============================] - 0s 49ms/step\n",
      "63/63 [==============================] - 3s 50ms/step\n",
      "2/2 [==============================] - 0s 65ms/step\n"
     ]
    },
    {
     "data": {
      "text/plain": "  0%|          | 0/1 [00:00<?, ?it/s]",
      "application/vnd.jupyter.widget-view+json": {
       "version_major": 2,
       "version_minor": 0,
       "model_id": "7295ceccc90b4d95b73a276e6f8606f1"
      }
     },
     "metadata": {},
     "output_type": "display_data"
    },
    {
     "name": "stdout",
     "output_type": "stream",
     "text": [
      "1/1 [==============================] - 0s 64ms/step\n",
      "63/63 [==============================] - 4s 59ms/step\n",
      "2/2 [==============================] - 0s 55ms/step\n"
     ]
    },
    {
     "data": {
      "text/plain": "  0%|          | 0/1 [00:00<?, ?it/s]",
      "application/vnd.jupyter.widget-view+json": {
       "version_major": 2,
       "version_minor": 0,
       "model_id": "d175844801f042a3889c3841367e049e"
      }
     },
     "metadata": {},
     "output_type": "display_data"
    },
    {
     "name": "stdout",
     "output_type": "stream",
     "text": [
      "1/1 [==============================] - 0s 74ms/step\n",
      "63/63 [==============================] - 3s 49ms/step\n",
      "2/2 [==============================] - 0s 40ms/step\n"
     ]
    },
    {
     "data": {
      "text/plain": "  0%|          | 0/1 [00:00<?, ?it/s]",
      "application/vnd.jupyter.widget-view+json": {
       "version_major": 2,
       "version_minor": 0,
       "model_id": "7c865f71fac7409987e10295a9b28371"
      }
     },
     "metadata": {},
     "output_type": "display_data"
    },
    {
     "name": "stdout",
     "output_type": "stream",
     "text": [
      "1/1 [==============================] - 0s 57ms/step\n",
      "63/63 [==============================] - 2s 36ms/step\n",
      "2/2 [==============================] - 0s 26ms/step\n"
     ]
    },
    {
     "data": {
      "text/plain": "  0%|          | 0/1 [00:00<?, ?it/s]",
      "application/vnd.jupyter.widget-view+json": {
       "version_major": 2,
       "version_minor": 0,
       "model_id": "ff8f5a323ee04c41adfa3c8e26d4591e"
      }
     },
     "metadata": {},
     "output_type": "display_data"
    },
    {
     "name": "stdout",
     "output_type": "stream",
     "text": [
      "1/1 [==============================] - 0s 39ms/step\n",
      "63/63 [==============================] - 2s 29ms/step\n",
      "2/2 [==============================] - 0s 27ms/step\n"
     ]
    },
    {
     "data": {
      "text/plain": "  0%|          | 0/1 [00:00<?, ?it/s]",
      "application/vnd.jupyter.widget-view+json": {
       "version_major": 2,
       "version_minor": 0,
       "model_id": "ec2a79c781b142cca4471dec0bde21fa"
      }
     },
     "metadata": {},
     "output_type": "display_data"
    },
    {
     "name": "stdout",
     "output_type": "stream",
     "text": [
      "1/1 [==============================] - 0s 35ms/step\n",
      "63/63 [==============================] - 2s 28ms/step\n",
      "2/2 [==============================] - 0s 27ms/step\n"
     ]
    },
    {
     "data": {
      "text/plain": "  0%|          | 0/1 [00:00<?, ?it/s]",
      "application/vnd.jupyter.widget-view+json": {
       "version_major": 2,
       "version_minor": 0,
       "model_id": "e160e19da1594febb0207e1bfed02868"
      }
     },
     "metadata": {},
     "output_type": "display_data"
    },
    {
     "name": "stdout",
     "output_type": "stream",
     "text": [
      "1/1 [==============================] - 0s 40ms/step\n",
      "63/63 [==============================] - 2s 29ms/step\n",
      "2/2 [==============================] - 0s 27ms/step\n"
     ]
    },
    {
     "data": {
      "text/plain": "  0%|          | 0/1 [00:00<?, ?it/s]",
      "application/vnd.jupyter.widget-view+json": {
       "version_major": 2,
       "version_minor": 0,
       "model_id": "4710f374ca074859a6a1be53951c09e9"
      }
     },
     "metadata": {},
     "output_type": "display_data"
    },
    {
     "name": "stdout",
     "output_type": "stream",
     "text": [
      "1/1 [==============================] - 0s 38ms/step\n",
      "63/63 [==============================] - 2s 32ms/step\n",
      "2/2 [==============================] - 0s 27ms/step\n"
     ]
    },
    {
     "data": {
      "text/plain": "  0%|          | 0/1 [00:00<?, ?it/s]",
      "application/vnd.jupyter.widget-view+json": {
       "version_major": 2,
       "version_minor": 0,
       "model_id": "349b89c1f35f426daf6235a17dad9d9e"
      }
     },
     "metadata": {},
     "output_type": "display_data"
    },
    {
     "name": "stdout",
     "output_type": "stream",
     "text": [
      "1/1 [==============================] - 0s 54ms/step\n",
      "63/63 [==============================] - 2s 28ms/step\n",
      "2/2 [==============================] - 0s 27ms/step\n"
     ]
    },
    {
     "data": {
      "text/plain": "  0%|          | 0/1 [00:00<?, ?it/s]",
      "application/vnd.jupyter.widget-view+json": {
       "version_major": 2,
       "version_minor": 0,
       "model_id": "d5717e8109f244f29cfb675c8b2098ff"
      }
     },
     "metadata": {},
     "output_type": "display_data"
    },
    {
     "name": "stdout",
     "output_type": "stream",
     "text": [
      "1/1 [==============================] - 0s 39ms/step\n",
      "63/63 [==============================] - 2s 32ms/step\n",
      "Total time: 79.53320104999999\n"
     ]
    }
   ],
   "source": [
    "tic = timeit.default_timer()\n",
    "ts_phi_2 = np.zeros((len(test_data), test_data.shape[1], test_data.shape[2]))\n",
    "for i in range(len(test_data)):\n",
    "    window_len = 20\n",
    "    stride = 10\n",
    "    gtw = SlidingWindowSHAP(model, stride, window_len, background_data, test_data[i:i + 1],\n",
    "                            model_type='lstm')\n",
    "    ts_phi_2[i, :, :] = gtw.shap_values()\n",
    "print('Total time: ' + str(timeit.default_timer() - tic))"
   ]
  },
  {
   "cell_type": "markdown",
   "metadata": {
    "tags": []
   },
   "source": [
    "## 3- Dynamic WindowSHAP"
   ]
  },
  {
   "cell_type": "code",
   "execution_count": 9,
   "metadata": {
    "tags": [],
    "ExecuteTime": {
     "end_time": "2024-01-14T15:29:03.575560Z",
     "start_time": "2024-01-14T15:28:57.659575Z"
    }
   },
   "outputs": [
    {
     "name": "stdout",
     "output_type": "stream",
     "text": [
      "2/2 [==============================] - 0s 31ms/step\n"
     ]
    },
    {
     "data": {
      "text/plain": "  0%|          | 0/1 [00:00<?, ?it/s]",
      "application/vnd.jupyter.widget-view+json": {
       "version_major": 2,
       "version_minor": 0,
       "model_id": "28d5621d6ca24847b9c7a2539fc4437b"
      }
     },
     "metadata": {},
     "output_type": "display_data"
    },
    {
     "name": "stdout",
     "output_type": "stream",
     "text": [
      "1/1 [==============================] - 0s 53ms/step\n",
      "13/13 [==============================] - 1s 43ms/step\n",
      "2/2 [==============================] - 0s 29ms/step\n"
     ]
    },
    {
     "data": {
      "text/plain": "  0%|          | 0/1 [00:00<?, ?it/s]",
      "application/vnd.jupyter.widget-view+json": {
       "version_major": 2,
       "version_minor": 0,
       "model_id": "c56d56784d7d4ddc81b97252e98fc51a"
      }
     },
     "metadata": {},
     "output_type": "display_data"
    },
    {
     "name": "stdout",
     "output_type": "stream",
     "text": [
      "1/1 [==============================] - 0s 40ms/step\n",
      "22/22 [==============================] - 1s 35ms/step\n",
      "2/2 [==============================] - 0s 30ms/step\n"
     ]
    },
    {
     "data": {
      "text/plain": "  0%|          | 0/1 [00:00<?, ?it/s]",
      "application/vnd.jupyter.widget-view+json": {
       "version_major": 2,
       "version_minor": 0,
       "model_id": "ece618bd190b4d0f94566c0747480e05"
      }
     },
     "metadata": {},
     "output_type": "display_data"
    },
    {
     "name": "stdout",
     "output_type": "stream",
     "text": [
      "1/1 [==============================] - 0s 54ms/step\n",
      "13/13 [==============================] - 1s 39ms/step\n",
      "2/2 [==============================] - 0s 34ms/step\n"
     ]
    },
    {
     "data": {
      "text/plain": "  0%|          | 0/1 [00:00<?, ?it/s]",
      "application/vnd.jupyter.widget-view+json": {
       "version_major": 2,
       "version_minor": 0,
       "model_id": "7de2a1659bdc46f48ee5714ec50ccff2"
      }
     },
     "metadata": {},
     "output_type": "display_data"
    },
    {
     "name": "stdout",
     "output_type": "stream",
     "text": [
      "1/1 [==============================] - 0s 45ms/step\n",
      "22/22 [==============================] - 1s 38ms/step\n",
      "Total time: 5.867022508000019\n"
     ]
    }
   ],
   "source": [
    "tic = timeit.default_timer()\n",
    "ts_phi_3 = np.zeros((len(test_data), test_data.shape[1], test_data.shape[2]))\n",
    "for i in range(len(test_data)):\n",
    "    delta = 0.3\n",
    "    n_w = 8\n",
    "    btw = DynamicWindowSHAP(model, delta, n_w, background_data, test_data[i:i + 1],\n",
    "                            model_type='lstm')\n",
    "    ts_phi_3[i, :, :] = btw.shap_values()\n",
    "print('Total time: ' + str(timeit.default_timer() - tic))"
   ]
  },
  {
   "cell_type": "code",
   "outputs": [
    {
     "name": "stdout",
     "output_type": "stream",
     "text": [
      "960\n",
      "960\n"
     ]
    }
   ],
   "source": [
    "print(ts_phi_2.size)\n",
    "print(ts_phi_3.size)"
   ],
   "metadata": {
    "collapsed": false,
    "ExecuteTime": {
     "end_time": "2024-01-14T15:29:03.578196Z",
     "start_time": "2024-01-14T15:29:03.547672Z"
    }
   },
   "execution_count": 10
  },
  {
   "cell_type": "code",
   "outputs": [
    {
     "name": "stdout",
     "output_type": "stream",
     "text": [
      "[[[ 0.00000000e+00  0.00000000e+00  0.00000000e+00  0.00000000e+00]\n",
      "  [ 0.00000000e+00  0.00000000e+00  0.00000000e+00  0.00000000e+00]\n",
      "  [ 0.00000000e+00  0.00000000e+00  0.00000000e+00  0.00000000e+00]\n",
      "  [ 0.00000000e+00  0.00000000e+00  0.00000000e+00  0.00000000e+00]\n",
      "  [ 0.00000000e+00  0.00000000e+00  0.00000000e+00  0.00000000e+00]\n",
      "  [ 0.00000000e+00  0.00000000e+00  0.00000000e+00  0.00000000e+00]\n",
      "  [ 0.00000000e+00  0.00000000e+00  0.00000000e+00  0.00000000e+00]\n",
      "  [ 0.00000000e+00  0.00000000e+00  0.00000000e+00  0.00000000e+00]\n",
      "  [ 0.00000000e+00  0.00000000e+00  0.00000000e+00  0.00000000e+00]\n",
      "  [ 0.00000000e+00  0.00000000e+00  0.00000000e+00  0.00000000e+00]\n",
      "  [ 0.00000000e+00  0.00000000e+00 -1.03984953e-04  1.31660292e-04]\n",
      "  [ 0.00000000e+00  0.00000000e+00 -1.03984953e-04  1.31660292e-04]\n",
      "  [ 0.00000000e+00  0.00000000e+00 -1.03984953e-04  1.31660292e-04]\n",
      "  [ 0.00000000e+00  0.00000000e+00 -1.03984953e-04  1.31660292e-04]\n",
      "  [ 0.00000000e+00  0.00000000e+00 -1.03984953e-04  1.31660292e-04]\n",
      "  [ 0.00000000e+00  0.00000000e+00 -1.03984953e-04  1.31660292e-04]\n",
      "  [ 0.00000000e+00  0.00000000e+00 -1.03984953e-04  1.31660292e-04]\n",
      "  [ 0.00000000e+00  0.00000000e+00 -1.03984953e-04  1.31660292e-04]\n",
      "  [ 0.00000000e+00  0.00000000e+00 -1.03984953e-04  1.31660292e-04]\n",
      "  [ 0.00000000e+00  0.00000000e+00 -1.03984953e-04  1.31660292e-04]\n",
      "  [-7.87831179e-05  0.00000000e+00 -1.03984953e-04  1.31660292e-04]\n",
      "  [-7.87831179e-05  0.00000000e+00 -1.03984953e-04  1.31660292e-04]\n",
      "  [-7.87831179e-05  0.00000000e+00 -1.03984953e-04  1.31660292e-04]\n",
      "  [-7.87831179e-05  0.00000000e+00 -1.03984953e-04  1.31660292e-04]\n",
      "  [-7.87831179e-05  0.00000000e+00 -1.03984953e-04  1.31660292e-04]\n",
      "  [-7.87831179e-05  0.00000000e+00 -1.03984953e-04  1.31660292e-04]\n",
      "  [-7.87831179e-05  0.00000000e+00 -1.03984953e-04  1.31660292e-04]\n",
      "  [-7.87831179e-05  0.00000000e+00 -1.03984953e-04  1.31660292e-04]\n",
      "  [-7.87831179e-05  0.00000000e+00 -1.03984953e-04  1.31660292e-04]\n",
      "  [-7.87831179e-05  0.00000000e+00 -1.03984953e-04  1.31660292e-04]\n",
      "  [-1.21777738e-05  0.00000000e+00  0.00000000e+00  0.00000000e+00]\n",
      "  [-1.21777738e-05  0.00000000e+00  0.00000000e+00  0.00000000e+00]\n",
      "  [-1.21777738e-05  0.00000000e+00  0.00000000e+00  0.00000000e+00]\n",
      "  [-1.21777738e-05  0.00000000e+00  0.00000000e+00  0.00000000e+00]\n",
      "  [-1.21777738e-05  0.00000000e+00  0.00000000e+00  0.00000000e+00]\n",
      "  [-1.21777738e-05  0.00000000e+00  0.00000000e+00  0.00000000e+00]\n",
      "  [-1.21777738e-05  0.00000000e+00  0.00000000e+00  0.00000000e+00]\n",
      "  [-1.21777738e-05  0.00000000e+00  0.00000000e+00  0.00000000e+00]\n",
      "  [-1.21777738e-05  0.00000000e+00  0.00000000e+00  0.00000000e+00]\n",
      "  [-1.21777738e-05  0.00000000e+00  0.00000000e+00  0.00000000e+00]\n",
      "  [ 6.66053441e-05  6.01080367e-05 -1.04859707e-04  0.00000000e+00]\n",
      "  [ 6.66053441e-05  6.01080367e-05 -1.04859707e-04  0.00000000e+00]\n",
      "  [ 6.66053441e-05  6.01080367e-05 -1.04859707e-04  0.00000000e+00]\n",
      "  [ 6.66053441e-05  6.01080367e-05 -1.04859707e-04  0.00000000e+00]\n",
      "  [ 6.66053441e-05  6.01080367e-05 -1.04859707e-04  0.00000000e+00]\n",
      "  [ 6.66053441e-05  6.01080367e-05 -1.04859707e-04  0.00000000e+00]\n",
      "  [ 6.66053441e-05  6.01080367e-05 -1.04859707e-04  0.00000000e+00]\n",
      "  [ 6.66053441e-05  6.01080367e-05 -1.04859707e-04  0.00000000e+00]\n",
      "  [ 6.66053441e-05  6.01080367e-05 -1.04859707e-04  0.00000000e+00]\n",
      "  [ 6.66053441e-05  6.01080367e-05 -1.04859707e-04  0.00000000e+00]\n",
      "  [ 0.00000000e+00  6.01080367e-05 -1.80199054e-04  0.00000000e+00]\n",
      "  [ 0.00000000e+00  6.01080367e-05 -1.80199054e-04  0.00000000e+00]\n",
      "  [ 0.00000000e+00  6.01080367e-05 -1.80199054e-04  0.00000000e+00]\n",
      "  [ 0.00000000e+00  6.01080367e-05 -1.80199054e-04  0.00000000e+00]\n",
      "  [ 0.00000000e+00  6.01080367e-05 -1.80199054e-04  0.00000000e+00]\n",
      "  [ 0.00000000e+00  6.01080367e-05 -1.80199054e-04  0.00000000e+00]\n",
      "  [ 0.00000000e+00  6.01080367e-05 -1.80199054e-04  0.00000000e+00]\n",
      "  [ 0.00000000e+00  6.01080367e-05 -1.80199054e-04  0.00000000e+00]\n",
      "  [ 0.00000000e+00  6.01080367e-05 -1.80199054e-04  0.00000000e+00]\n",
      "  [ 0.00000000e+00  6.01080367e-05 -1.80199054e-04  0.00000000e+00]\n",
      "  [ 0.00000000e+00  0.00000000e+00 -7.53393470e-05  0.00000000e+00]\n",
      "  [ 0.00000000e+00  0.00000000e+00 -7.53393470e-05  0.00000000e+00]\n",
      "  [ 0.00000000e+00  0.00000000e+00 -7.53393470e-05  0.00000000e+00]\n",
      "  [ 0.00000000e+00  0.00000000e+00 -7.53393470e-05  0.00000000e+00]\n",
      "  [ 0.00000000e+00  0.00000000e+00 -7.53393470e-05  0.00000000e+00]\n",
      "  [ 0.00000000e+00  0.00000000e+00 -7.53393470e-05  0.00000000e+00]\n",
      "  [ 0.00000000e+00  0.00000000e+00 -7.53393470e-05  0.00000000e+00]\n",
      "  [ 0.00000000e+00  0.00000000e+00 -7.53393470e-05  0.00000000e+00]\n",
      "  [ 0.00000000e+00  0.00000000e+00 -7.53393470e-05  0.00000000e+00]\n",
      "  [ 0.00000000e+00  0.00000000e+00 -7.53393470e-05  0.00000000e+00]\n",
      "  [ 0.00000000e+00  0.00000000e+00  0.00000000e+00  0.00000000e+00]\n",
      "  [ 0.00000000e+00  0.00000000e+00  0.00000000e+00  0.00000000e+00]\n",
      "  [ 0.00000000e+00  0.00000000e+00  0.00000000e+00  0.00000000e+00]\n",
      "  [ 0.00000000e+00  0.00000000e+00  0.00000000e+00  0.00000000e+00]\n",
      "  [ 0.00000000e+00  0.00000000e+00  0.00000000e+00  0.00000000e+00]\n",
      "  [ 0.00000000e+00  0.00000000e+00  0.00000000e+00  0.00000000e+00]\n",
      "  [ 0.00000000e+00  0.00000000e+00  0.00000000e+00  0.00000000e+00]\n",
      "  [ 0.00000000e+00  0.00000000e+00  0.00000000e+00  0.00000000e+00]\n",
      "  [ 0.00000000e+00  0.00000000e+00  0.00000000e+00  0.00000000e+00]\n",
      "  [ 0.00000000e+00  0.00000000e+00  0.00000000e+00  0.00000000e+00]\n",
      "  [ 7.45522733e-05 -1.25480240e-04  0.00000000e+00  0.00000000e+00]\n",
      "  [ 7.45522733e-05 -1.25480240e-04  0.00000000e+00  0.00000000e+00]\n",
      "  [ 7.45522733e-05 -1.25480240e-04  0.00000000e+00  0.00000000e+00]\n",
      "  [ 7.45522733e-05 -1.25480240e-04  0.00000000e+00  0.00000000e+00]\n",
      "  [ 7.45522733e-05 -1.25480240e-04  0.00000000e+00  0.00000000e+00]\n",
      "  [ 7.45522733e-05 -1.25480240e-04  0.00000000e+00  0.00000000e+00]\n",
      "  [ 7.45522733e-05 -1.25480240e-04  0.00000000e+00  0.00000000e+00]\n",
      "  [ 7.45522733e-05 -1.25480240e-04  0.00000000e+00  0.00000000e+00]\n",
      "  [ 7.45522733e-05 -1.25480240e-04  0.00000000e+00  0.00000000e+00]\n",
      "  [ 7.45522733e-05 -1.25480240e-04  0.00000000e+00  0.00000000e+00]\n",
      "  [ 7.45522733e-05 -2.16444636e-04  0.00000000e+00 -3.78200781e-05]\n",
      "  [ 7.45522733e-05 -2.16444636e-04  0.00000000e+00 -3.78200781e-05]\n",
      "  [ 7.45522733e-05 -2.16444636e-04  0.00000000e+00 -3.78200781e-05]\n",
      "  [ 7.45522733e-05 -2.16444636e-04  0.00000000e+00 -3.78200781e-05]\n",
      "  [ 7.45522733e-05 -2.16444636e-04  0.00000000e+00 -3.78200781e-05]\n",
      "  [ 7.45522733e-05 -2.16444636e-04  0.00000000e+00 -3.78200781e-05]\n",
      "  [ 7.45522733e-05 -2.16444636e-04  0.00000000e+00 -3.78200781e-05]\n",
      "  [ 7.45522733e-05 -2.16444636e-04  0.00000000e+00 -3.78200781e-05]\n",
      "  [ 7.45522733e-05 -2.16444636e-04  0.00000000e+00 -3.78200781e-05]\n",
      "  [ 7.45522733e-05 -2.16444636e-04  0.00000000e+00 -3.78200781e-05]\n",
      "  [ 2.11866074e-04  2.80644776e-03 -1.37256837e-03 -3.07265206e-04]\n",
      "  [ 2.11866074e-04  2.80644776e-03 -1.37256837e-03 -3.07265206e-04]\n",
      "  [ 2.11866074e-04  2.80644776e-03 -1.37256837e-03 -3.07265206e-04]\n",
      "  [ 2.11866074e-04  2.80644776e-03 -1.37256837e-03 -3.07265206e-04]\n",
      "  [ 2.11866074e-04  2.80644776e-03 -1.37256837e-03 -3.07265206e-04]\n",
      "  [ 2.11866074e-04  2.80644776e-03 -1.37256837e-03 -3.07265206e-04]\n",
      "  [ 2.11866074e-04  2.80644776e-03 -1.37256837e-03 -3.07265206e-04]\n",
      "  [ 2.11866074e-04  2.80644776e-03 -1.37256837e-03 -3.07265206e-04]\n",
      "  [ 2.11866074e-04  2.80644776e-03 -1.37256837e-03 -3.07265206e-04]\n",
      "  [ 2.11866074e-04  2.80644776e-03 -1.37256837e-03 -3.07265206e-04]\n",
      "  [ 4.23732148e-04  5.79482431e-03 -2.74513674e-03 -5.38890256e-04]\n",
      "  [ 4.23732148e-04  5.79482431e-03 -2.74513674e-03 -5.38890256e-04]\n",
      "  [ 4.23732148e-04  5.79482431e-03 -2.74513674e-03 -5.38890256e-04]\n",
      "  [ 4.23732148e-04  5.79482431e-03 -2.74513674e-03 -5.38890256e-04]\n",
      "  [ 4.23732148e-04  5.79482431e-03 -2.74513674e-03 -5.38890256e-04]\n",
      "  [ 4.23732148e-04  5.79482431e-03 -2.74513674e-03 -5.38890256e-04]\n",
      "  [ 4.23732148e-04  5.79482431e-03 -2.74513674e-03 -5.38890256e-04]\n",
      "  [ 4.23732148e-04  5.79482431e-03 -2.74513674e-03 -5.38890256e-04]\n",
      "  [ 4.23732148e-04  5.79482431e-03 -2.74513674e-03 -5.38890256e-04]\n",
      "  [ 4.23732148e-04  5.79482431e-03 -2.74513674e-03 -5.38890256e-04]]\n",
      "\n",
      " [[ 0.00000000e+00  0.00000000e+00  0.00000000e+00  0.00000000e+00]\n",
      "  [ 0.00000000e+00  0.00000000e+00  0.00000000e+00  0.00000000e+00]\n",
      "  [ 0.00000000e+00  0.00000000e+00  0.00000000e+00  0.00000000e+00]\n",
      "  [ 0.00000000e+00  0.00000000e+00  0.00000000e+00  0.00000000e+00]\n",
      "  [ 0.00000000e+00  0.00000000e+00  0.00000000e+00  0.00000000e+00]\n",
      "  [ 0.00000000e+00  0.00000000e+00  0.00000000e+00  0.00000000e+00]\n",
      "  [ 0.00000000e+00  0.00000000e+00  0.00000000e+00  0.00000000e+00]\n",
      "  [ 0.00000000e+00  0.00000000e+00  0.00000000e+00  0.00000000e+00]\n",
      "  [ 0.00000000e+00  0.00000000e+00  0.00000000e+00  0.00000000e+00]\n",
      "  [ 0.00000000e+00  0.00000000e+00  0.00000000e+00  0.00000000e+00]\n",
      "  [ 0.00000000e+00  0.00000000e+00  1.73757569e-05  0.00000000e+00]\n",
      "  [ 0.00000000e+00  0.00000000e+00  1.73757569e-05  0.00000000e+00]\n",
      "  [ 0.00000000e+00  0.00000000e+00  1.73757569e-05  0.00000000e+00]\n",
      "  [ 0.00000000e+00  0.00000000e+00  1.73757569e-05  0.00000000e+00]\n",
      "  [ 0.00000000e+00  0.00000000e+00  1.73757569e-05  0.00000000e+00]\n",
      "  [ 0.00000000e+00  0.00000000e+00  1.73757569e-05  0.00000000e+00]\n",
      "  [ 0.00000000e+00  0.00000000e+00  1.73757569e-05  0.00000000e+00]\n",
      "  [ 0.00000000e+00  0.00000000e+00  1.73757569e-05  0.00000000e+00]\n",
      "  [ 0.00000000e+00  0.00000000e+00  1.73757569e-05  0.00000000e+00]\n",
      "  [ 0.00000000e+00  0.00000000e+00  1.73757569e-05  0.00000000e+00]\n",
      "  [-1.05418952e-04  0.00000000e+00  1.73757569e-05  0.00000000e+00]\n",
      "  [-1.05418952e-04  0.00000000e+00  1.73757569e-05  0.00000000e+00]\n",
      "  [-1.05418952e-04  0.00000000e+00  1.73757569e-05  0.00000000e+00]\n",
      "  [-1.05418952e-04  0.00000000e+00  1.73757569e-05  0.00000000e+00]\n",
      "  [-1.05418952e-04  0.00000000e+00  1.73757569e-05  0.00000000e+00]\n",
      "  [-1.05418952e-04  0.00000000e+00  1.73757569e-05  0.00000000e+00]\n",
      "  [-1.05418952e-04  0.00000000e+00  1.73757569e-05  0.00000000e+00]\n",
      "  [-1.05418952e-04  0.00000000e+00  1.73757569e-05  0.00000000e+00]\n",
      "  [-1.05418952e-04  0.00000000e+00  1.73757569e-05  0.00000000e+00]\n",
      "  [-1.05418952e-04  0.00000000e+00  1.73757569e-05  0.00000000e+00]\n",
      "  [-1.05418952e-04  2.29332616e-05  0.00000000e+00  0.00000000e+00]\n",
      "  [-1.05418952e-04  2.29332616e-05  0.00000000e+00  0.00000000e+00]\n",
      "  [-1.05418952e-04  2.29332616e-05  0.00000000e+00  0.00000000e+00]\n",
      "  [-1.05418952e-04  2.29332616e-05  0.00000000e+00  0.00000000e+00]\n",
      "  [-1.05418952e-04  2.29332616e-05  0.00000000e+00  0.00000000e+00]\n",
      "  [-1.05418952e-04  2.29332616e-05  0.00000000e+00  0.00000000e+00]\n",
      "  [-1.05418952e-04  2.29332616e-05  0.00000000e+00  0.00000000e+00]\n",
      "  [-1.05418952e-04  2.29332616e-05  0.00000000e+00  0.00000000e+00]\n",
      "  [-1.05418952e-04  2.29332616e-05  0.00000000e+00  0.00000000e+00]\n",
      "  [-1.05418952e-04  2.29332616e-05  0.00000000e+00  0.00000000e+00]\n",
      "  [ 0.00000000e+00  2.29332616e-05  0.00000000e+00  6.01289172e-05]\n",
      "  [ 0.00000000e+00  2.29332616e-05  0.00000000e+00  6.01289172e-05]\n",
      "  [ 0.00000000e+00  2.29332616e-05  0.00000000e+00  6.01289172e-05]\n",
      "  [ 0.00000000e+00  2.29332616e-05  0.00000000e+00  6.01289172e-05]\n",
      "  [ 0.00000000e+00  2.29332616e-05  0.00000000e+00  6.01289172e-05]\n",
      "  [ 0.00000000e+00  2.29332616e-05  0.00000000e+00  6.01289172e-05]\n",
      "  [ 0.00000000e+00  2.29332616e-05  0.00000000e+00  6.01289172e-05]\n",
      "  [ 0.00000000e+00  2.29332616e-05  0.00000000e+00  6.01289172e-05]\n",
      "  [ 0.00000000e+00  2.29332616e-05  0.00000000e+00  6.01289172e-05]\n",
      "  [ 0.00000000e+00  2.29332616e-05  0.00000000e+00  6.01289172e-05]\n",
      "  [ 0.00000000e+00  4.74555173e-05  5.41131687e-05  6.01289172e-05]\n",
      "  [ 0.00000000e+00  4.74555173e-05  5.41131687e-05  6.01289172e-05]\n",
      "  [ 0.00000000e+00  4.74555173e-05  5.41131687e-05  6.01289172e-05]\n",
      "  [ 0.00000000e+00  4.74555173e-05  5.41131687e-05  6.01289172e-05]\n",
      "  [ 0.00000000e+00  4.74555173e-05  5.41131687e-05  6.01289172e-05]\n",
      "  [ 0.00000000e+00  4.74555173e-05  5.41131687e-05  6.01289172e-05]\n",
      "  [ 0.00000000e+00  4.74555173e-05  5.41131687e-05  6.01289172e-05]\n",
      "  [ 0.00000000e+00  4.74555173e-05  5.41131687e-05  6.01289172e-05]\n",
      "  [ 0.00000000e+00  4.74555173e-05  5.41131687e-05  6.01289172e-05]\n",
      "  [ 0.00000000e+00  4.74555173e-05  5.41131687e-05  6.01289172e-05]\n",
      "  [ 0.00000000e+00  4.74555173e-05  5.41131687e-05  0.00000000e+00]\n",
      "  [ 0.00000000e+00  4.74555173e-05  5.41131687e-05  0.00000000e+00]\n",
      "  [ 0.00000000e+00  4.74555173e-05  5.41131687e-05  0.00000000e+00]\n",
      "  [ 0.00000000e+00  4.74555173e-05  5.41131687e-05  0.00000000e+00]\n",
      "  [ 0.00000000e+00  4.74555173e-05  5.41131687e-05  0.00000000e+00]\n",
      "  [ 0.00000000e+00  4.74555173e-05  5.41131687e-05  0.00000000e+00]\n",
      "  [ 0.00000000e+00  4.74555173e-05  5.41131687e-05  0.00000000e+00]\n",
      "  [ 0.00000000e+00  4.74555173e-05  5.41131687e-05  0.00000000e+00]\n",
      "  [ 0.00000000e+00  4.74555173e-05  5.41131687e-05  0.00000000e+00]\n",
      "  [ 0.00000000e+00  4.74555173e-05  5.41131687e-05  0.00000000e+00]\n",
      "  [ 0.00000000e+00  0.00000000e+00  5.76177817e-05  0.00000000e+00]\n",
      "  [ 0.00000000e+00  0.00000000e+00  5.76177817e-05  0.00000000e+00]\n",
      "  [ 0.00000000e+00  0.00000000e+00  5.76177817e-05  0.00000000e+00]\n",
      "  [ 0.00000000e+00  0.00000000e+00  5.76177817e-05  0.00000000e+00]\n",
      "  [ 0.00000000e+00  0.00000000e+00  5.76177817e-05  0.00000000e+00]\n",
      "  [ 0.00000000e+00  0.00000000e+00  5.76177817e-05  0.00000000e+00]\n",
      "  [ 0.00000000e+00  0.00000000e+00  5.76177817e-05  0.00000000e+00]\n",
      "  [ 0.00000000e+00  0.00000000e+00  5.76177817e-05  0.00000000e+00]\n",
      "  [ 0.00000000e+00  0.00000000e+00  5.76177817e-05  0.00000000e+00]\n",
      "  [ 0.00000000e+00  0.00000000e+00  5.76177817e-05  0.00000000e+00]\n",
      "  [ 0.00000000e+00 -5.20443212e-05  5.76177817e-05 -1.04705014e-04]\n",
      "  [ 0.00000000e+00 -5.20443212e-05  5.76177817e-05 -1.04705014e-04]\n",
      "  [ 0.00000000e+00 -5.20443212e-05  5.76177817e-05 -1.04705014e-04]\n",
      "  [ 0.00000000e+00 -5.20443212e-05  5.76177817e-05 -1.04705014e-04]\n",
      "  [ 0.00000000e+00 -5.20443212e-05  5.76177817e-05 -1.04705014e-04]\n",
      "  [ 0.00000000e+00 -5.20443212e-05  5.76177817e-05 -1.04705014e-04]\n",
      "  [ 0.00000000e+00 -5.20443212e-05  5.76177817e-05 -1.04705014e-04]\n",
      "  [ 0.00000000e+00 -5.20443212e-05  5.76177817e-05 -1.04705014e-04]\n",
      "  [ 0.00000000e+00 -5.20443212e-05  5.76177817e-05 -1.04705014e-04]\n",
      "  [ 0.00000000e+00 -5.20443212e-05  5.76177817e-05 -1.04705014e-04]\n",
      "  [ 0.00000000e+00 -5.20443212e-05  0.00000000e+00 -1.04705014e-04]\n",
      "  [ 0.00000000e+00 -5.20443212e-05  0.00000000e+00 -1.04705014e-04]\n",
      "  [ 0.00000000e+00 -5.20443212e-05  0.00000000e+00 -1.04705014e-04]\n",
      "  [ 0.00000000e+00 -5.20443212e-05  0.00000000e+00 -1.04705014e-04]\n",
      "  [ 0.00000000e+00 -5.20443212e-05  0.00000000e+00 -1.04705014e-04]\n",
      "  [ 0.00000000e+00 -5.20443212e-05  0.00000000e+00 -1.04705014e-04]\n",
      "  [ 0.00000000e+00 -5.20443212e-05  0.00000000e+00 -1.04705014e-04]\n",
      "  [ 0.00000000e+00 -5.20443212e-05  0.00000000e+00 -1.04705014e-04]\n",
      "  [ 0.00000000e+00 -5.20443212e-05  0.00000000e+00 -1.04705014e-04]\n",
      "  [ 0.00000000e+00 -5.20443212e-05  0.00000000e+00 -1.04705014e-04]\n",
      "  [ 1.14620963e-03 -1.04099963e-03  2.31341256e-03  2.27398643e-03]\n",
      "  [ 1.14620963e-03 -1.04099963e-03  2.31341256e-03  2.27398643e-03]\n",
      "  [ 1.14620963e-03 -1.04099963e-03  2.31341256e-03  2.27398643e-03]\n",
      "  [ 1.14620963e-03 -1.04099963e-03  2.31341256e-03  2.27398643e-03]\n",
      "  [ 1.14620963e-03 -1.04099963e-03  2.31341256e-03  2.27398643e-03]\n",
      "  [ 1.14620963e-03 -1.04099963e-03  2.31341256e-03  2.27398643e-03]\n",
      "  [ 1.14620963e-03 -1.04099963e-03  2.31341256e-03  2.27398643e-03]\n",
      "  [ 1.14620963e-03 -1.04099963e-03  2.31341256e-03  2.27398643e-03]\n",
      "  [ 1.14620963e-03 -1.04099963e-03  2.31341256e-03  2.27398643e-03]\n",
      "  [ 1.14620963e-03 -1.04099963e-03  2.31341256e-03  2.27398643e-03]\n",
      "  [ 2.29241927e-03 -2.08199926e-03  4.62682511e-03  4.54797286e-03]\n",
      "  [ 2.29241927e-03 -2.08199926e-03  4.62682511e-03  4.54797286e-03]\n",
      "  [ 2.29241927e-03 -2.08199926e-03  4.62682511e-03  4.54797286e-03]\n",
      "  [ 2.29241927e-03 -2.08199926e-03  4.62682511e-03  4.54797286e-03]\n",
      "  [ 2.29241927e-03 -2.08199926e-03  4.62682511e-03  4.54797286e-03]\n",
      "  [ 2.29241927e-03 -2.08199926e-03  4.62682511e-03  4.54797286e-03]\n",
      "  [ 2.29241927e-03 -2.08199926e-03  4.62682511e-03  4.54797286e-03]\n",
      "  [ 2.29241927e-03 -2.08199926e-03  4.62682511e-03  4.54797286e-03]\n",
      "  [ 2.29241927e-03 -2.08199926e-03  4.62682511e-03  4.54797286e-03]\n",
      "  [ 2.29241927e-03 -2.08199926e-03  4.62682511e-03  4.54797286e-03]]]\n"
     ]
    }
   ],
   "source": [
    "print(ts_phi_2)"
   ],
   "metadata": {
    "collapsed": false,
    "ExecuteTime": {
     "end_time": "2024-01-14T15:29:03.646345Z",
     "start_time": "2024-01-14T15:29:03.572541Z"
    }
   },
   "execution_count": 11
  },
  {
   "cell_type": "code",
   "outputs": [
    {
     "name": "stdout",
     "output_type": "stream",
     "text": [
      "[[[ 3.06566846e-06  4.92738125e-05 -2.30277243e-05 -4.42125441e-06]\n",
      "  [ 3.06566846e-06  4.92738125e-05 -2.30277243e-05 -4.42125441e-06]\n",
      "  [ 3.06566846e-06  4.92738125e-05 -2.30277243e-05 -4.42125441e-06]\n",
      "  [ 3.06566846e-06  4.92738125e-05 -2.30277243e-05 -4.42125441e-06]\n",
      "  [ 3.06566846e-06  4.92738125e-05 -2.30277243e-05 -4.42125441e-06]\n",
      "  [ 3.06566846e-06  4.92738125e-05 -2.30277243e-05 -4.42125441e-06]\n",
      "  [ 3.06566846e-06  4.92738125e-05 -2.30277243e-05 -4.42125441e-06]\n",
      "  [ 3.06566846e-06  4.92738125e-05 -2.30277243e-05 -4.42125441e-06]\n",
      "  [ 3.06566846e-06  4.92738125e-05 -2.30277243e-05 -4.42125441e-06]\n",
      "  [ 3.06566846e-06  4.92738125e-05 -2.30277243e-05 -4.42125441e-06]\n",
      "  [ 3.06566846e-06  4.92738125e-05 -2.30277243e-05 -4.42125441e-06]\n",
      "  [ 3.06566846e-06  4.92738125e-05 -2.30277243e-05 -4.42125441e-06]\n",
      "  [ 3.06566846e-06  4.92738125e-05 -2.30277243e-05 -4.42125441e-06]\n",
      "  [ 3.06566846e-06  4.92738125e-05 -2.30277243e-05 -4.42125441e-06]\n",
      "  [ 3.06566846e-06  4.92738125e-05 -2.30277243e-05 -4.42125441e-06]\n",
      "  [ 3.06566846e-06  4.92738125e-05 -2.30277243e-05 -4.42125441e-06]\n",
      "  [ 3.06566846e-06  4.92738125e-05 -2.30277243e-05 -4.42125441e-06]\n",
      "  [ 3.06566846e-06  4.92738125e-05 -2.30277243e-05 -4.42125441e-06]\n",
      "  [ 3.06566846e-06  4.92738125e-05 -2.30277243e-05 -4.42125441e-06]\n",
      "  [ 3.06566846e-06  4.92738125e-05 -2.30277243e-05 -4.42125441e-06]\n",
      "  [ 3.06566846e-06  4.92738125e-05 -2.30277243e-05 -4.42125441e-06]\n",
      "  [ 3.06566846e-06  4.92738125e-05 -2.30277243e-05 -4.42125441e-06]\n",
      "  [ 3.06566846e-06  4.92738125e-05 -2.30277243e-05 -4.42125441e-06]\n",
      "  [ 3.06566846e-06  4.92738125e-05 -2.30277243e-05 -4.42125441e-06]\n",
      "  [ 3.06566846e-06  4.92738125e-05 -2.30277243e-05 -4.42125441e-06]\n",
      "  [ 3.06566846e-06  4.92738125e-05 -2.30277243e-05 -4.42125441e-06]\n",
      "  [ 3.06566846e-06  4.92738125e-05 -2.30277243e-05 -4.42125441e-06]\n",
      "  [ 3.06566846e-06  4.92738125e-05 -2.30277243e-05 -4.42125441e-06]\n",
      "  [ 3.06566846e-06  4.92738125e-05 -2.30277243e-05 -4.42125441e-06]\n",
      "  [ 3.06566846e-06  4.92738125e-05 -2.30277243e-05 -4.42125441e-06]\n",
      "  [ 3.06566846e-06  4.92738125e-05 -2.30277243e-05 -4.42125441e-06]\n",
      "  [ 3.06566846e-06  4.92738125e-05 -2.30277243e-05 -4.42125441e-06]\n",
      "  [ 3.06566846e-06  4.92738125e-05 -2.30277243e-05 -4.42125441e-06]\n",
      "  [ 3.06566846e-06  4.92738125e-05 -2.30277243e-05 -4.42125441e-06]\n",
      "  [ 3.06566846e-06  4.92738125e-05 -2.30277243e-05 -4.42125441e-06]\n",
      "  [ 3.06566846e-06  4.92738125e-05 -2.30277243e-05 -4.42125441e-06]\n",
      "  [ 3.06566846e-06  4.92738125e-05 -2.30277243e-05 -4.42125441e-06]\n",
      "  [ 3.06566846e-06  4.92738125e-05 -2.30277243e-05 -4.42125441e-06]\n",
      "  [ 3.06566846e-06  4.92738125e-05 -2.30277243e-05 -4.42125441e-06]\n",
      "  [ 3.06566846e-06  4.92738125e-05 -2.30277243e-05 -4.42125441e-06]\n",
      "  [ 3.06566846e-06  4.92738125e-05 -2.30277243e-05 -4.42125441e-06]\n",
      "  [ 3.06566846e-06  4.92738125e-05 -2.30277243e-05 -4.42125441e-06]\n",
      "  [ 3.06566846e-06  4.92738125e-05 -2.30277243e-05 -4.42125441e-06]\n",
      "  [ 3.06566846e-06  4.92738125e-05 -2.30277243e-05 -4.42125441e-06]\n",
      "  [ 3.06566846e-06  4.92738125e-05 -2.30277243e-05 -4.42125441e-06]\n",
      "  [ 3.06566846e-06  4.92738125e-05 -2.30277243e-05 -4.42125441e-06]\n",
      "  [ 3.06566846e-06  4.92738125e-05 -2.30277243e-05 -4.42125441e-06]\n",
      "  [ 3.06566846e-06  4.92738125e-05 -2.30277243e-05 -4.42125441e-06]\n",
      "  [ 3.06566846e-06  4.92738125e-05 -2.30277243e-05 -4.42125441e-06]\n",
      "  [ 3.06566846e-06  4.92738125e-05 -2.30277243e-05 -4.42125441e-06]\n",
      "  [ 3.06566846e-06  4.92738125e-05 -2.30277243e-05 -4.42125441e-06]\n",
      "  [ 3.06566846e-06  4.92738125e-05 -2.30277243e-05 -4.42125441e-06]\n",
      "  [ 3.06566846e-06  4.92738125e-05 -2.30277243e-05 -4.42125441e-06]\n",
      "  [ 3.06566846e-06  4.92738125e-05 -2.30277243e-05 -4.42125441e-06]\n",
      "  [ 3.06566846e-06  4.92738125e-05 -2.30277243e-05 -4.42125441e-06]\n",
      "  [ 3.06566846e-06  4.92738125e-05 -2.30277243e-05 -4.42125441e-06]\n",
      "  [ 3.06566846e-06  4.92738125e-05 -2.30277243e-05 -4.42125441e-06]\n",
      "  [ 3.06566846e-06  4.92738125e-05 -2.30277243e-05 -4.42125441e-06]\n",
      "  [ 3.06566846e-06  4.92738125e-05 -2.30277243e-05 -4.42125441e-06]\n",
      "  [ 3.06566846e-06  4.92738125e-05 -2.30277243e-05 -4.42125441e-06]\n",
      "  [ 3.06566846e-06  4.92738125e-05 -2.30277243e-05 -4.42125441e-06]\n",
      "  [ 3.06566846e-06  4.92738125e-05 -2.30277243e-05 -4.42125441e-06]\n",
      "  [ 3.06566846e-06  4.92738125e-05 -2.30277243e-05 -4.42125441e-06]\n",
      "  [ 3.06566846e-06  4.92738125e-05 -2.30277243e-05 -4.42125441e-06]\n",
      "  [ 3.06566846e-06  4.92738125e-05 -2.30277243e-05 -4.42125441e-06]\n",
      "  [ 3.06566846e-06  4.92738125e-05 -2.30277243e-05 -4.42125441e-06]\n",
      "  [ 3.06566846e-06  4.92738125e-05 -2.30277243e-05 -4.42125441e-06]\n",
      "  [ 3.06566846e-06  4.92738125e-05 -2.30277243e-05 -4.42125441e-06]\n",
      "  [ 3.06566846e-06  4.92738125e-05 -2.30277243e-05 -4.42125441e-06]\n",
      "  [ 3.06566846e-06  4.92738125e-05 -2.30277243e-05 -4.42125441e-06]\n",
      "  [ 3.06566846e-06  4.92738125e-05 -2.30277243e-05 -4.42125441e-06]\n",
      "  [ 3.06566846e-06  4.92738125e-05 -2.30277243e-05 -4.42125441e-06]\n",
      "  [ 3.06566846e-06  4.92738125e-05 -2.30277243e-05 -4.42125441e-06]\n",
      "  [ 3.06566846e-06  4.92738125e-05 -2.30277243e-05 -4.42125441e-06]\n",
      "  [ 3.06566846e-06  4.92738125e-05 -2.30277243e-05 -4.42125441e-06]\n",
      "  [ 3.06566846e-06  4.92738125e-05 -2.30277243e-05 -4.42125441e-06]\n",
      "  [ 3.06566846e-06  4.92738125e-05 -2.30277243e-05 -4.42125441e-06]\n",
      "  [ 3.06566846e-06  4.92738125e-05 -2.30277243e-05 -4.42125441e-06]\n",
      "  [ 3.06566846e-06  4.92738125e-05 -2.30277243e-05 -4.42125441e-06]\n",
      "  [ 3.06566846e-06  4.92738125e-05 -2.30277243e-05 -4.42125441e-06]\n",
      "  [ 3.06566846e-06  4.92738125e-05 -2.30277243e-05 -4.42125441e-06]\n",
      "  [ 3.06566846e-06  4.92738125e-05 -2.30277243e-05 -4.42125441e-06]\n",
      "  [ 3.06566846e-06  4.92738125e-05 -2.30277243e-05 -4.42125441e-06]\n",
      "  [ 3.06566846e-06  4.92738125e-05 -2.30277243e-05 -4.42125441e-06]\n",
      "  [ 3.06566846e-06  4.92738125e-05 -2.30277243e-05 -4.42125441e-06]\n",
      "  [ 3.06566846e-06  4.92738125e-05 -2.30277243e-05 -4.42125441e-06]\n",
      "  [ 3.06566846e-06  4.92738125e-05 -2.30277243e-05 -4.42125441e-06]\n",
      "  [ 3.06566846e-06  4.92738125e-05 -2.30277243e-05 -4.42125441e-06]\n",
      "  [ 3.06566846e-06  4.92738125e-05 -2.30277243e-05 -4.42125441e-06]\n",
      "  [ 3.06566846e-06  4.92738125e-05 -2.30277243e-05 -4.42125441e-06]\n",
      "  [ 3.06566846e-06  4.92738125e-05 -2.30277243e-05 -4.42125441e-06]\n",
      "  [ 3.06566846e-06  4.92738125e-05 -2.30277243e-05 -4.42125441e-06]\n",
      "  [ 3.06566846e-06  4.92738125e-05 -2.30277243e-05 -4.42125441e-06]\n",
      "  [ 3.06566846e-06  4.92738125e-05 -2.30277243e-05 -4.42125441e-06]\n",
      "  [ 3.06566846e-06  4.92738125e-05 -2.30277243e-05 -4.42125441e-06]\n",
      "  [ 3.06566846e-06  4.92738125e-05 -2.30277243e-05 -4.42125441e-06]\n",
      "  [ 3.06566846e-06  4.92738125e-05 -2.30277243e-05 -4.42125441e-06]\n",
      "  [ 3.06566846e-06  4.92738125e-05 -2.30277243e-05 -4.42125441e-06]\n",
      "  [ 3.06566846e-06  4.92738125e-05 -2.30277243e-05 -4.42125441e-06]\n",
      "  [ 3.06566846e-06  4.92738125e-05 -2.30277243e-05 -4.42125441e-06]\n",
      "  [ 3.06566846e-06  4.92738125e-05 -2.30277243e-05 -4.42125441e-06]\n",
      "  [ 3.06566846e-06  4.92738125e-05 -2.30277243e-05 -4.42125441e-06]\n",
      "  [ 3.06566846e-06  4.92738125e-05 -2.30277243e-05 -4.42125441e-06]\n",
      "  [ 3.06566846e-06  4.92738125e-05 -2.30277243e-05 -4.42125441e-06]\n",
      "  [ 3.06566846e-06  4.92738125e-05 -2.30277243e-05 -4.42125441e-06]\n",
      "  [ 3.06566846e-06  4.92738125e-05 -2.30277243e-05 -4.42125441e-06]\n",
      "  [ 3.06566846e-06  4.92738125e-05 -2.30277243e-05 -4.42125441e-06]\n",
      "  [ 3.06566846e-06  4.92738125e-05 -2.30277243e-05 -4.42125441e-06]\n",
      "  [ 3.06566846e-06  4.92738125e-05 -2.30277243e-05 -4.42125441e-06]\n",
      "  [ 3.06566846e-06  4.92738125e-05 -2.30277243e-05 -4.42125441e-06]\n",
      "  [ 3.06566846e-06  4.92738125e-05 -2.30277243e-05 -4.42125441e-06]\n",
      "  [ 3.06566846e-06  4.92738125e-05 -2.30277243e-05 -4.42125441e-06]\n",
      "  [ 3.06566846e-06  4.92738125e-05 -2.30277243e-05 -4.42125441e-06]\n",
      "  [ 3.06566846e-06  4.92738125e-05 -2.30277243e-05 -4.42125441e-06]\n",
      "  [ 3.06566846e-06  4.92738125e-05 -2.30277243e-05 -4.42125441e-06]\n",
      "  [ 3.06566846e-06  4.92738125e-05 -2.30277243e-05 -4.42125441e-06]\n",
      "  [ 3.06566846e-06  4.92738125e-05 -2.30277243e-05 -4.42125441e-06]\n",
      "  [ 3.06566846e-06  4.92738125e-05 -2.30277243e-05 -4.42125441e-06]\n",
      "  [ 3.06566846e-06  4.92738125e-05 -2.30277243e-05 -4.42125441e-06]\n",
      "  [ 3.06566846e-06  4.92738125e-05 -2.30277243e-05 -4.42125441e-06]]\n",
      "\n",
      " [[ 1.87671971e-05 -1.60884650e-05  4.01696472e-05  3.74851219e-05]\n",
      "  [ 1.87671971e-05 -1.60884650e-05  4.01696472e-05  3.74851219e-05]\n",
      "  [ 1.87671971e-05 -1.60884650e-05  4.01696472e-05  3.74851219e-05]\n",
      "  [ 1.87671971e-05 -1.60884650e-05  4.01696472e-05  3.74851219e-05]\n",
      "  [ 1.87671971e-05 -1.60884650e-05  4.01696472e-05  3.74851219e-05]\n",
      "  [ 1.87671971e-05 -1.60884650e-05  4.01696472e-05  3.74851219e-05]\n",
      "  [ 1.87671971e-05 -1.60884650e-05  4.01696472e-05  3.74851219e-05]\n",
      "  [ 1.87671971e-05 -1.60884650e-05  4.01696472e-05  3.74851219e-05]\n",
      "  [ 1.87671971e-05 -1.60884650e-05  4.01696472e-05  3.74851219e-05]\n",
      "  [ 1.87671971e-05 -1.60884650e-05  4.01696472e-05  3.74851219e-05]\n",
      "  [ 1.87671971e-05 -1.60884650e-05  4.01696472e-05  3.74851219e-05]\n",
      "  [ 1.87671971e-05 -1.60884650e-05  4.01696472e-05  3.74851219e-05]\n",
      "  [ 1.87671971e-05 -1.60884650e-05  4.01696472e-05  3.74851219e-05]\n",
      "  [ 1.87671971e-05 -1.60884650e-05  4.01696472e-05  3.74851219e-05]\n",
      "  [ 1.87671971e-05 -1.60884650e-05  4.01696472e-05  3.74851219e-05]\n",
      "  [ 1.87671971e-05 -1.60884650e-05  4.01696472e-05  3.74851219e-05]\n",
      "  [ 1.87671971e-05 -1.60884650e-05  4.01696472e-05  3.74851219e-05]\n",
      "  [ 1.87671971e-05 -1.60884650e-05  4.01696472e-05  3.74851219e-05]\n",
      "  [ 1.87671971e-05 -1.60884650e-05  4.01696472e-05  3.74851219e-05]\n",
      "  [ 1.87671971e-05 -1.60884650e-05  4.01696472e-05  3.74851219e-05]\n",
      "  [ 1.87671971e-05 -1.60884650e-05  4.01696472e-05  3.74851219e-05]\n",
      "  [ 1.87671971e-05 -1.60884650e-05  4.01696472e-05  3.74851219e-05]\n",
      "  [ 1.87671971e-05 -1.60884650e-05  4.01696472e-05  3.74851219e-05]\n",
      "  [ 1.87671971e-05 -1.60884650e-05  4.01696472e-05  3.74851219e-05]\n",
      "  [ 1.87671971e-05 -1.60884650e-05  4.01696472e-05  3.74851219e-05]\n",
      "  [ 1.87671971e-05 -1.60884650e-05  4.01696472e-05  3.74851219e-05]\n",
      "  [ 1.87671971e-05 -1.60884650e-05  4.01696472e-05  3.74851219e-05]\n",
      "  [ 1.87671971e-05 -1.60884650e-05  4.01696472e-05  3.74851219e-05]\n",
      "  [ 1.87671971e-05 -1.60884650e-05  4.01696472e-05  3.74851219e-05]\n",
      "  [ 1.87671971e-05 -1.60884650e-05  4.01696472e-05  3.74851219e-05]\n",
      "  [ 1.87671971e-05 -1.60884650e-05  4.01696472e-05  3.74851219e-05]\n",
      "  [ 1.87671971e-05 -1.60884650e-05  4.01696472e-05  3.74851219e-05]\n",
      "  [ 1.87671971e-05 -1.60884650e-05  4.01696472e-05  3.74851219e-05]\n",
      "  [ 1.87671971e-05 -1.60884650e-05  4.01696472e-05  3.74851219e-05]\n",
      "  [ 1.87671971e-05 -1.60884650e-05  4.01696472e-05  3.74851219e-05]\n",
      "  [ 1.87671971e-05 -1.60884650e-05  4.01696472e-05  3.74851219e-05]\n",
      "  [ 1.87671971e-05 -1.60884650e-05  4.01696472e-05  3.74851219e-05]\n",
      "  [ 1.87671971e-05 -1.60884650e-05  4.01696472e-05  3.74851219e-05]\n",
      "  [ 1.87671971e-05 -1.60884650e-05  4.01696472e-05  3.74851219e-05]\n",
      "  [ 1.87671971e-05 -1.60884650e-05  4.01696472e-05  3.74851219e-05]\n",
      "  [ 1.87671971e-05 -1.60884650e-05  4.01696472e-05  3.74851219e-05]\n",
      "  [ 1.87671971e-05 -1.60884650e-05  4.01696472e-05  3.74851219e-05]\n",
      "  [ 1.87671971e-05 -1.60884650e-05  4.01696472e-05  3.74851219e-05]\n",
      "  [ 1.87671971e-05 -1.60884650e-05  4.01696472e-05  3.74851219e-05]\n",
      "  [ 1.87671971e-05 -1.60884650e-05  4.01696472e-05  3.74851219e-05]\n",
      "  [ 1.87671971e-05 -1.60884650e-05  4.01696472e-05  3.74851219e-05]\n",
      "  [ 1.87671971e-05 -1.60884650e-05  4.01696472e-05  3.74851219e-05]\n",
      "  [ 1.87671971e-05 -1.60884650e-05  4.01696472e-05  3.74851219e-05]\n",
      "  [ 1.87671971e-05 -1.60884650e-05  4.01696472e-05  3.74851219e-05]\n",
      "  [ 1.87671971e-05 -1.60884650e-05  4.01696472e-05  3.74851219e-05]\n",
      "  [ 1.87671971e-05 -1.60884650e-05  4.01696472e-05  3.74851219e-05]\n",
      "  [ 1.87671971e-05 -1.60884650e-05  4.01696472e-05  3.74851219e-05]\n",
      "  [ 1.87671971e-05 -1.60884650e-05  4.01696472e-05  3.74851219e-05]\n",
      "  [ 1.87671971e-05 -1.60884650e-05  4.01696472e-05  3.74851219e-05]\n",
      "  [ 1.87671971e-05 -1.60884650e-05  4.01696472e-05  3.74851219e-05]\n",
      "  [ 1.87671971e-05 -1.60884650e-05  4.01696472e-05  3.74851219e-05]\n",
      "  [ 1.87671971e-05 -1.60884650e-05  4.01696472e-05  3.74851219e-05]\n",
      "  [ 1.87671971e-05 -1.60884650e-05  4.01696472e-05  3.74851219e-05]\n",
      "  [ 1.87671971e-05 -1.60884650e-05  4.01696472e-05  3.74851219e-05]\n",
      "  [ 1.87671971e-05 -1.60884650e-05  4.01696472e-05  3.74851219e-05]\n",
      "  [ 1.87671971e-05 -1.60884650e-05  4.01696472e-05  3.74851219e-05]\n",
      "  [ 1.87671971e-05 -1.60884650e-05  4.01696472e-05  3.74851219e-05]\n",
      "  [ 1.87671971e-05 -1.60884650e-05  4.01696472e-05  3.74851219e-05]\n",
      "  [ 1.87671971e-05 -1.60884650e-05  4.01696472e-05  3.74851219e-05]\n",
      "  [ 1.87671971e-05 -1.60884650e-05  4.01696472e-05  3.74851219e-05]\n",
      "  [ 1.87671971e-05 -1.60884650e-05  4.01696472e-05  3.74851219e-05]\n",
      "  [ 1.87671971e-05 -1.60884650e-05  4.01696472e-05  3.74851219e-05]\n",
      "  [ 1.87671971e-05 -1.60884650e-05  4.01696472e-05  3.74851219e-05]\n",
      "  [ 1.87671971e-05 -1.60884650e-05  4.01696472e-05  3.74851219e-05]\n",
      "  [ 1.87671971e-05 -1.60884650e-05  4.01696472e-05  3.74851219e-05]\n",
      "  [ 1.87671971e-05 -1.60884650e-05  4.01696472e-05  3.74851219e-05]\n",
      "  [ 1.87671971e-05 -1.60884650e-05  4.01696472e-05  3.74851219e-05]\n",
      "  [ 1.87671971e-05 -1.60884650e-05  4.01696472e-05  3.74851219e-05]\n",
      "  [ 1.87671971e-05 -1.60884650e-05  4.01696472e-05  3.74851219e-05]\n",
      "  [ 1.87671971e-05 -1.60884650e-05  4.01696472e-05  3.74851219e-05]\n",
      "  [ 1.87671971e-05 -1.60884650e-05  4.01696472e-05  3.74851219e-05]\n",
      "  [ 1.87671971e-05 -1.60884650e-05  4.01696472e-05  3.74851219e-05]\n",
      "  [ 1.87671971e-05 -1.60884650e-05  4.01696472e-05  3.74851219e-05]\n",
      "  [ 1.87671971e-05 -1.60884650e-05  4.01696472e-05  3.74851219e-05]\n",
      "  [ 1.87671971e-05 -1.60884650e-05  4.01696472e-05  3.74851219e-05]\n",
      "  [ 1.87671971e-05 -1.60884650e-05  4.01696472e-05  3.74851219e-05]\n",
      "  [ 1.87671971e-05 -1.60884650e-05  4.01696472e-05  3.74851219e-05]\n",
      "  [ 1.87671971e-05 -1.60884650e-05  4.01696472e-05  3.74851219e-05]\n",
      "  [ 1.87671971e-05 -1.60884650e-05  4.01696472e-05  3.74851219e-05]\n",
      "  [ 1.87671971e-05 -1.60884650e-05  4.01696472e-05  3.74851219e-05]\n",
      "  [ 1.87671971e-05 -1.60884650e-05  4.01696472e-05  3.74851219e-05]\n",
      "  [ 1.87671971e-05 -1.60884650e-05  4.01696472e-05  3.74851219e-05]\n",
      "  [ 1.87671971e-05 -1.60884650e-05  4.01696472e-05  3.74851219e-05]\n",
      "  [ 1.87671971e-05 -1.60884650e-05  4.01696472e-05  3.74851219e-05]\n",
      "  [ 1.87671971e-05 -1.60884650e-05  4.01696472e-05  3.74851219e-05]\n",
      "  [ 1.87671971e-05 -1.60884650e-05  4.01696472e-05  3.74851219e-05]\n",
      "  [ 1.87671971e-05 -1.60884650e-05  4.01696472e-05  3.74851219e-05]\n",
      "  [ 1.87671971e-05 -1.60884650e-05  4.01696472e-05  3.74851219e-05]\n",
      "  [ 1.87671971e-05 -1.60884650e-05  4.01696472e-05  3.74851219e-05]\n",
      "  [ 1.87671971e-05 -1.60884650e-05  4.01696472e-05  3.74851219e-05]\n",
      "  [ 1.87671971e-05 -1.60884650e-05  4.01696472e-05  3.74851219e-05]\n",
      "  [ 1.87671971e-05 -1.60884650e-05  4.01696472e-05  3.74851219e-05]\n",
      "  [ 1.87671971e-05 -1.60884650e-05  4.01696472e-05  3.74851219e-05]\n",
      "  [ 1.87671971e-05 -1.60884650e-05  4.01696472e-05  3.74851219e-05]\n",
      "  [ 1.87671971e-05 -1.60884650e-05  4.01696472e-05  3.74851219e-05]\n",
      "  [ 1.87671971e-05 -1.60884650e-05  4.01696472e-05  3.74851219e-05]\n",
      "  [ 1.87671971e-05 -1.60884650e-05  4.01696472e-05  3.74851219e-05]\n",
      "  [ 1.87671971e-05 -1.60884650e-05  4.01696472e-05  3.74851219e-05]\n",
      "  [ 1.87671971e-05 -1.60884650e-05  4.01696472e-05  3.74851219e-05]\n",
      "  [ 1.87671971e-05 -1.60884650e-05  4.01696472e-05  3.74851219e-05]\n",
      "  [ 1.87671971e-05 -1.60884650e-05  4.01696472e-05  3.74851219e-05]\n",
      "  [ 1.87671971e-05 -1.60884650e-05  4.01696472e-05  3.74851219e-05]\n",
      "  [ 1.87671971e-05 -1.60884650e-05  4.01696472e-05  3.74851219e-05]\n",
      "  [ 1.87671971e-05 -1.60884650e-05  4.01696472e-05  3.74851219e-05]\n",
      "  [ 1.87671971e-05 -1.60884650e-05  4.01696472e-05  3.74851219e-05]\n",
      "  [ 1.87671971e-05 -1.60884650e-05  4.01696472e-05  3.74851219e-05]\n",
      "  [ 1.87671971e-05 -1.60884650e-05  4.01696472e-05  3.74851219e-05]\n",
      "  [ 1.87671971e-05 -1.60884650e-05  4.01696472e-05  3.74851219e-05]\n",
      "  [ 1.87671971e-05 -1.60884650e-05  4.01696472e-05  3.74851219e-05]\n",
      "  [ 1.87671971e-05 -1.60884650e-05  4.01696472e-05  3.74851219e-05]\n",
      "  [ 1.87671971e-05 -1.60884650e-05  4.01696472e-05  3.74851219e-05]\n",
      "  [ 1.87671971e-05 -1.60884650e-05  4.01696472e-05  3.74851219e-05]\n",
      "  [ 1.87671971e-05 -1.60884650e-05  4.01696472e-05  3.74851219e-05]\n",
      "  [ 1.87671971e-05 -1.60884650e-05  4.01696472e-05  3.74851219e-05]\n",
      "  [ 1.87671971e-05 -1.60884650e-05  4.01696472e-05  3.74851219e-05]]]\n"
     ]
    }
   ],
   "source": [
    "print(ts_phi_3)"
   ],
   "metadata": {
    "collapsed": false,
    "ExecuteTime": {
     "end_time": "2024-01-14T15:30:43.429115Z",
     "start_time": "2024-01-14T15:30:43.384525Z"
    }
   },
   "execution_count": 19
  },
  {
   "cell_type": "code",
   "execution_count": 51,
   "metadata": {
    "ExecuteTime": {
     "end_time": "2024-01-14T15:38:35.154516Z",
     "start_time": "2024-01-14T15:38:34.487138Z"
    }
   },
   "outputs": [
    {
     "name": "stdout",
     "output_type": "stream",
     "text": [
      "-7.878311791682003e-05\n",
      "0.00042373214844073715\n",
      "[-7.87831179e-05  0.00000000e+00]\n"
     ]
    },
    {
     "data": {
      "text/plain": "<Figure size 900x300 with 2 Axes>",
      "image/png": "[encoded data removed]"
     },
     "metadata": {},
     "output_type": "display_data"
    },
    {
     "name": "stdout",
     "output_type": "stream",
     "text": [
      "3.0656684603952265e-06\n",
      "3.0656684603952265e-06\n",
      "[0.]\n"
     ]
    },
    {
     "ename": "ValueError",
     "evalue": "You must provide at least 2 boundaries (1 region) but you passed in array([0.])",
     "output_type": "error",
     "traceback": [
      "\u001B[0;31m---------------------------------------------------------------------------\u001B[0m",
      "\u001B[0;31mValueError\u001B[0m                                Traceback (most recent call last)",
      "Cell \u001B[0;32mIn[51], line 10\u001B[0m\n\u001B[1;32m      5\u001B[0m \u001B[38;5;66;03m# heat_map(start=0, stop=120, x=test_x[num_test + phi_index, :, var],\u001B[39;00m\n\u001B[1;32m      6\u001B[0m \u001B[38;5;66;03m#          shap_values=ts_phi_1[phi_index, :, var], var_name='Observed', plot_type='bar')\u001B[39;00m\n\u001B[1;32m      7\u001B[0m heat_map(start\u001B[38;5;241m=\u001B[39m\u001B[38;5;241m0\u001B[39m, stop\u001B[38;5;241m=\u001B[39m\u001B[38;5;241m120\u001B[39m, x\u001B[38;5;241m=\u001B[39mtest_x[num_test \u001B[38;5;241m+\u001B[39m phi_index, :, var],\n\u001B[1;32m      8\u001B[0m          shap_values\u001B[38;5;241m=\u001B[39mts_phi_2[phi_index, :, var], var_name\u001B[38;5;241m=\u001B[39m\u001B[38;5;124m'\u001B[39m\u001B[38;5;124mObserved\u001B[39m\u001B[38;5;124m'\u001B[39m, plot_type\u001B[38;5;241m=\u001B[39m\u001B[38;5;124m'\u001B[39m\u001B[38;5;124mbar\u001B[39m\u001B[38;5;124m'\u001B[39m)\n\u001B[0;32m---> 10\u001B[0m \u001B[43mheat_map\u001B[49m\u001B[43m(\u001B[49m\u001B[43mstart\u001B[49m\u001B[38;5;241;43m=\u001B[39;49m\u001B[38;5;241;43m0\u001B[39;49m\u001B[43m,\u001B[49m\u001B[43m \u001B[49m\u001B[43mstop\u001B[49m\u001B[38;5;241;43m=\u001B[39;49m\u001B[38;5;241;43m120\u001B[39;49m\u001B[43m,\u001B[49m\u001B[43m \u001B[49m\u001B[43mx\u001B[49m\u001B[38;5;241;43m=\u001B[39;49m\u001B[43mtest_x\u001B[49m\u001B[43m[\u001B[49m\u001B[43mnum_test\u001B[49m\u001B[43m \u001B[49m\u001B[38;5;241;43m+\u001B[39;49m\u001B[43m \u001B[49m\u001B[43mphi_index\u001B[49m\u001B[43m,\u001B[49m\u001B[43m \u001B[49m\u001B[43m:\u001B[49m\u001B[43m,\u001B[49m\u001B[43m \u001B[49m\u001B[43mvar\u001B[49m\u001B[43m]\u001B[49m\u001B[43m,\u001B[49m\n\u001B[1;32m     11\u001B[0m \u001B[43m         \u001B[49m\u001B[43mshap_values\u001B[49m\u001B[38;5;241;43m=\u001B[39;49m\u001B[43mts_phi_3\u001B[49m\u001B[43m[\u001B[49m\u001B[43mphi_index\u001B[49m\u001B[43m,\u001B[49m\u001B[43m \u001B[49m\u001B[43m:\u001B[49m\u001B[43m,\u001B[49m\u001B[43m \u001B[49m\u001B[43mvar\u001B[49m\u001B[43m]\u001B[49m\u001B[43m,\u001B[49m\u001B[43m \u001B[49m\u001B[43mvar_name\u001B[49m\u001B[38;5;241;43m=\u001B[39;49m\u001B[38;5;124;43m'\u001B[39;49m\u001B[38;5;124;43mVariable\u001B[39;49m\u001B[38;5;124;43m'\u001B[39;49m\u001B[43m,\u001B[49m\u001B[43m \u001B[49m\u001B[43mplot_type\u001B[49m\u001B[38;5;241;43m=\u001B[39;49m\u001B[38;5;124;43m'\u001B[39;49m\u001B[38;5;124;43mbar\u001B[39;49m\u001B[38;5;124;43m'\u001B[39;49m\u001B[43m)\u001B[49m\n",
      "Cell \u001B[0;32mIn[49], line 43\u001B[0m, in \u001B[0;36mheat_map\u001B[0;34m(start, stop, x, shap_values, var_name, plot_type, title)\u001B[0m\n\u001B[1;32m     41\u001B[0m bounds \u001B[38;5;241m=\u001B[39m np\u001B[38;5;241m.\u001B[39minsert(bounds, idx, \u001B[38;5;241m0\u001B[39m)\n\u001B[1;32m     42\u001B[0m \u001B[38;5;28mprint\u001B[39m(bounds)\n\u001B[0;32m---> 43\u001B[0m norm \u001B[38;5;241m=\u001B[39m \u001B[43mBoundaryNorm\u001B[49m\u001B[43m(\u001B[49m\u001B[43mbounds\u001B[49m\u001B[43m,\u001B[49m\u001B[43m \u001B[49m\u001B[43mcmap\u001B[49m\u001B[38;5;241;43m.\u001B[39;49m\u001B[43mN\u001B[49m\u001B[43m)\u001B[49m\n\u001B[1;32m     44\u001B[0m \u001B[38;5;66;03m# ColorMap\u001B[39;00m\n\u001B[1;32m     46\u001B[0m \u001B[38;5;28;01mif\u001B[39;00m title \u001B[38;5;129;01mis\u001B[39;00m \u001B[38;5;28;01mNone\u001B[39;00m:\n",
      "File \u001B[0;32m~/Desktop/phd/xai/WindowSHAP/venv/lib/python3.9/site-packages/matplotlib/colors.py:2046\u001B[0m, in \u001B[0;36mBoundaryNorm.__init__\u001B[0;34m(self, boundaries, ncolors, clip, extend)\u001B[0m\n\u001B[1;32m   2044\u001B[0m \u001B[38;5;28mself\u001B[39m\u001B[38;5;241m.\u001B[39mN \u001B[38;5;241m=\u001B[39m \u001B[38;5;28mlen\u001B[39m(\u001B[38;5;28mself\u001B[39m\u001B[38;5;241m.\u001B[39mboundaries)\n\u001B[1;32m   2045\u001B[0m \u001B[38;5;28;01mif\u001B[39;00m \u001B[38;5;28mself\u001B[39m\u001B[38;5;241m.\u001B[39mN \u001B[38;5;241m<\u001B[39m \u001B[38;5;241m2\u001B[39m:\n\u001B[0;32m-> 2046\u001B[0m     \u001B[38;5;28;01mraise\u001B[39;00m \u001B[38;5;167;01mValueError\u001B[39;00m(\u001B[38;5;124m\"\u001B[39m\u001B[38;5;124mYou must provide at least 2 boundaries \u001B[39m\u001B[38;5;124m\"\u001B[39m\n\u001B[1;32m   2047\u001B[0m                      \u001B[38;5;124mf\u001B[39m\u001B[38;5;124m\"\u001B[39m\u001B[38;5;124m(1 region) but you passed in \u001B[39m\u001B[38;5;132;01m{\u001B[39;00mboundaries\u001B[38;5;132;01m!r}\u001B[39;00m\u001B[38;5;124m\"\u001B[39m)\n\u001B[1;32m   2048\u001B[0m \u001B[38;5;28mself\u001B[39m\u001B[38;5;241m.\u001B[39mNcmap \u001B[38;5;241m=\u001B[39m ncolors\n\u001B[1;32m   2049\u001B[0m \u001B[38;5;28mself\u001B[39m\u001B[38;5;241m.\u001B[39mextend \u001B[38;5;241m=\u001B[39m extend\n",
      "\u001B[0;31mValueError\u001B[0m: You must provide at least 2 boundaries (1 region) but you passed in array([0.])"
     ]
    }
   ],
   "source": [
    "from utils import heat_map\n",
    "\n",
    "var = 0\n",
    "phi_index = 0\n",
    "# heat_map(start=0, stop=120, x=test_x[num_test + phi_index, :, var],\n",
    "#          shap_values=ts_phi_1[phi_index, :, var], var_name='Observed', plot_type='bar')\n",
    "heat_map(start=0, stop=120, x=test_x[num_test + phi_index, :, var],\n",
    "         shap_values=ts_phi_2[phi_index, :, var], var_name='Observed', plot_type='bar')\n",
    "\n",
    "heat_map(start=0, stop=120, x=test_x[num_test + phi_index, :, var],\n",
    "         shap_values=ts_phi_3[phi_index, :, var], var_name='Variable', plot_type='bar')"
   ]
  },
  {
   "cell_type": "code",
   "outputs": [],
   "source": [],
   "metadata": {
    "collapsed": false,
    "ExecuteTime": {
     "start_time": "2024-01-14T15:32:34.010095Z"
    }
   }
  },
  {
   "cell_type": "code",
   "outputs": [],
   "source": [],
   "metadata": {
    "collapsed": false
   }
  }
 ],
 "metadata": {
  "kernelspec": {
   "display_name": "Python 3 (ipykernel)",
   "language": "python",
   "name": "python3"
  },
  "language_info": {
   "codemirror_mode": {
    "name": "ipython",
    "version": 3
   },
   "file_extension": ".py",
   "mimetype": "text/x-python",
   "name": "python",
   "nbconvert_exporter": "python",
   "pygments_lexer": "ipython3",
   "version": "3.9.6"
  }
 },
 "nbformat": 4,
 "nbformat_minor": 4
}
